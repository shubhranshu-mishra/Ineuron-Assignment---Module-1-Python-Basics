{
 "cells": [
  {
   "cell_type": "code",
   "execution_count": null,
   "id": "9c6dd6df",
   "metadata": {},
   "outputs": [],
   "source": [
    "pip install requests pandas"
   ]
  },
  {
   "cell_type": "code",
   "execution_count": null,
   "id": "881cd86a",
   "metadata": {},
   "outputs": [],
   "source": [
    "import requests\n",
    "import pandas as pd\n",
    "\n",
    "# Function to download and process the data\n",
    "def download_and_convert_data(url):\n",
    "    # Download the data from the provided URL\n",
    "    response = requests.get(url)\n",
    "    data = response.json()\n",
    "\n",
    "    # Convert the data into a structured format\n",
    "    structured_data = []\n",
    "    for pokemon in data['pokemon']:\n",
    "        pokemon_data = {\n",
    "            'id': pokemon['id'],\n",
    "            'num': pokemon['num'],\n",
    "            'name': pokemon['name'],\n",
    "            'img': pokemon['img'],\n",
    "            'type': ', '.join(pokemon['type']),\n",
    "            'height': pokemon['height'],\n",
    "            'weight': pokemon['weight'],\n",
    "            'candy': pokemon.get('candy', ''),\n",
    "            'candy_count': pokemon.get('candy_count', ''),\n",
    "            'egg': pokemon.get('egg', ''),\n",
    "            'spawn_chance': pokemon.get('spawn_chance', ''),\n",
    "            'avg_spawns': pokemon.get('avg_spawns', ''),\n",
    "            'spawn_time': pokemon.get('spawn_time', ''),\n",
    "            'multipliers': ', '.join(str(m) for m in pokemon.get('multipliers', [])),\n",
    "            'weakness': ', '.join(pokemon.get('weaknesses', [])),\n",
    "            'next_evolution': ', '.join(evolution['name'] for evolution in pokemon.get('next_evolution', [])),\n",
    "            'prev_evolution': ', '.join(evolution['name'] for evolution in pokemon.get('prev_evolution', []))\n",
    "        }\n",
    "        structured_data.append(pokemon_data)\n",
    "\n",
    "    # Convert the structured data into a DataFrame\n",
    "    df = pd.DataFrame(structured_data)\n",
    "\n",
    "    # Save the DataFrame to Excel\n",
    "    df.to_excel('pokemon_data.xlsx', index=False)\n",
    "\n",
    "    print(\"Data has been converted and saved to 'pokemon_data.xlsx'.\")\n",
    "\n",
    "\n",
    "# Provide the URL of the data\n",
    "url = \"https://raw.githubusercontent.com/Biuni/PokemonGO-Pokedex/master/pokedex.json\"\n",
    "\n",
    "# Call the function to download, convert, and save the data\n",
    "download_and_convert_data(url)\n"
   ]
  },
  {
   "cell_type": "code",
   "execution_count": null,
   "id": "2d88c76d",
   "metadata": {},
   "outputs": [],
   "source": []
  }
 ],
 "metadata": {
  "kernelspec": {
   "display_name": "Python 3 (ipykernel)",
   "language": "python",
   "name": "python3"
  },
  "language_info": {
   "codemirror_mode": {
    "name": "ipython",
    "version": 3
   },
   "file_extension": ".py",
   "mimetype": "text/x-python",
   "name": "python",
   "nbconvert_exporter": "python",
   "pygments_lexer": "ipython3",
   "version": "3.9.12"
  }
 },
 "nbformat": 4,
 "nbformat_minor": 5
}
