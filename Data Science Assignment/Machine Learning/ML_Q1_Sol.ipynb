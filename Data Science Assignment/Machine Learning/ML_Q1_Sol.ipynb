{
 "cells": [
  {
   "cell_type": "code",
   "execution_count": 4,
   "id": "4c5c0983-34f5-4377-aaee-42ff31c9f7f6",
   "metadata": {},
   "outputs": [],
   "source": [
    "import pandas as pd"
   ]
  },
  {
   "cell_type": "code",
   "execution_count": 6,
   "id": "6958c323-e03f-4599-af11-4dc77e781722",
   "metadata": {},
   "outputs": [],
   "source": [
    "df = pd.read_csv(\"instagram_reach.csv\")"
   ]
  },
  {
   "cell_type": "code",
   "execution_count": 7,
   "id": "17583605-748f-4029-9808-175cbf2d6b99",
   "metadata": {},
   "outputs": [],
   "source": [
    "df.drop(\"Unnamed: 0\",axis=1,inplace=True)"
   ]
  },
  {
   "cell_type": "code",
   "execution_count": 8,
   "id": "ef9ffb08-c5a3-4747-bf45-ad41038e6413",
   "metadata": {},
   "outputs": [
    {
     "data": {
      "text/html": [
       "<div>\n",
       "<style scoped>\n",
       "    .dataframe tbody tr th:only-of-type {\n",
       "        vertical-align: middle;\n",
       "    }\n",
       "\n",
       "    .dataframe tbody tr th {\n",
       "        vertical-align: top;\n",
       "    }\n",
       "\n",
       "    .dataframe thead th {\n",
       "        text-align: right;\n",
       "    }\n",
       "</style>\n",
       "<table border=\"1\" class=\"dataframe\">\n",
       "  <thead>\n",
       "    <tr style=\"text-align: right;\">\n",
       "      <th></th>\n",
       "      <th>S.No</th>\n",
       "      <th>USERNAME</th>\n",
       "      <th>Caption</th>\n",
       "      <th>Followers</th>\n",
       "      <th>Hashtags</th>\n",
       "      <th>Time since posted</th>\n",
       "      <th>Likes</th>\n",
       "    </tr>\n",
       "  </thead>\n",
       "  <tbody>\n",
       "    <tr>\n",
       "      <th>0</th>\n",
       "      <td>1</td>\n",
       "      <td>mikequindazzi</td>\n",
       "      <td>Who are #DataScientist and what do they do? &gt;&gt;...</td>\n",
       "      <td>1600</td>\n",
       "      <td>#MachineLearning #AI #DataAnalytics #DataScien...</td>\n",
       "      <td>11 hours</td>\n",
       "      <td>139</td>\n",
       "    </tr>\n",
       "    <tr>\n",
       "      <th>1</th>\n",
       "      <td>2</td>\n",
       "      <td>drgorillapaints</td>\n",
       "      <td>We all know where it’s going. We just have to ...</td>\n",
       "      <td>880</td>\n",
       "      <td>#deck .#mac #macintosh#sayhello #apple #steve...</td>\n",
       "      <td>2 hours</td>\n",
       "      <td>23</td>\n",
       "    </tr>\n",
       "    <tr>\n",
       "      <th>2</th>\n",
       "      <td>3</td>\n",
       "      <td>aitrading_official</td>\n",
       "      <td>Alexander Barinov: 4 years as CFO in multinati...</td>\n",
       "      <td>255</td>\n",
       "      <td>#whoiswho #aitrading #ai #aitradingteam#instat...</td>\n",
       "      <td>2 hours</td>\n",
       "      <td>25</td>\n",
       "    </tr>\n",
       "    <tr>\n",
       "      <th>3</th>\n",
       "      <td>4</td>\n",
       "      <td>opensourcedworkplace</td>\n",
       "      <td>sfad</td>\n",
       "      <td>340</td>\n",
       "      <td>#iot #cre#workplace #CDO #bigdata #technology#...</td>\n",
       "      <td>3 hours</td>\n",
       "      <td>49</td>\n",
       "    </tr>\n",
       "    <tr>\n",
       "      <th>4</th>\n",
       "      <td>5</td>\n",
       "      <td>crea.vision</td>\n",
       "      <td>Ever missed a call while your phone was chargi...</td>\n",
       "      <td>304</td>\n",
       "      <td>#instamachinelearning #instabigdata#instamarke...</td>\n",
       "      <td>3 hours</td>\n",
       "      <td>30</td>\n",
       "    </tr>\n",
       "  </tbody>\n",
       "</table>\n",
       "</div>"
      ],
      "text/plain": [
       "   S.No              USERNAME  \\\n",
       "0     1         mikequindazzi   \n",
       "1     2       drgorillapaints   \n",
       "2     3    aitrading_official   \n",
       "3     4  opensourcedworkplace   \n",
       "4     5           crea.vision   \n",
       "\n",
       "                                             Caption  Followers  \\\n",
       "0  Who are #DataScientist and what do they do? >>...       1600   \n",
       "1  We all know where it’s going. We just have to ...        880   \n",
       "2  Alexander Barinov: 4 years as CFO in multinati...        255   \n",
       "3                                               sfad        340   \n",
       "4  Ever missed a call while your phone was chargi...        304   \n",
       "\n",
       "                                            Hashtags Time since posted  Likes  \n",
       "0  #MachineLearning #AI #DataAnalytics #DataScien...          11 hours    139  \n",
       "1   #deck .#mac #macintosh#sayhello #apple #steve...           2 hours     23  \n",
       "2  #whoiswho #aitrading #ai #aitradingteam#instat...           2 hours     25  \n",
       "3  #iot #cre#workplace #CDO #bigdata #technology#...           3 hours     49  \n",
       "4  #instamachinelearning #instabigdata#instamarke...           3 hours     30  "
      ]
     },
     "execution_count": 8,
     "metadata": {},
     "output_type": "execute_result"
    }
   ],
   "source": [
    "df.head()"
   ]
  },
  {
   "cell_type": "code",
   "execution_count": 9,
   "id": "8312e521-cc0b-49eb-aec5-cb389edc6a46",
   "metadata": {},
   "outputs": [
    {
     "name": "stdout",
     "output_type": "stream",
     "text": [
      "<class 'pandas.core.frame.DataFrame'>\n",
      "RangeIndex: 100 entries, 0 to 99\n",
      "Data columns (total 7 columns):\n",
      " #   Column             Non-Null Count  Dtype \n",
      "---  ------             --------------  ----- \n",
      " 0   S.No               100 non-null    int64 \n",
      " 1   USERNAME           100 non-null    object\n",
      " 2   Caption            94 non-null     object\n",
      " 3   Followers          100 non-null    int64 \n",
      " 4   Hashtags           100 non-null    object\n",
      " 5   Time since posted  100 non-null    object\n",
      " 6   Likes              100 non-null    int64 \n",
      "dtypes: int64(3), object(4)\n",
      "memory usage: 5.6+ KB\n"
     ]
    }
   ],
   "source": [
    "df.info()"
   ]
  },
  {
   "cell_type": "code",
   "execution_count": 10,
   "id": "4cf8ad3d-c6c5-4d6a-86f5-ed03ca70e3d0",
   "metadata": {},
   "outputs": [
    {
     "data": {
      "text/html": [
       "<div>\n",
       "<style scoped>\n",
       "    .dataframe tbody tr th:only-of-type {\n",
       "        vertical-align: middle;\n",
       "    }\n",
       "\n",
       "    .dataframe tbody tr th {\n",
       "        vertical-align: top;\n",
       "    }\n",
       "\n",
       "    .dataframe thead th {\n",
       "        text-align: right;\n",
       "    }\n",
       "</style>\n",
       "<table border=\"1\" class=\"dataframe\">\n",
       "  <thead>\n",
       "    <tr style=\"text-align: right;\">\n",
       "      <th></th>\n",
       "      <th>S.No</th>\n",
       "      <th>Followers</th>\n",
       "      <th>Likes</th>\n",
       "    </tr>\n",
       "  </thead>\n",
       "  <tbody>\n",
       "    <tr>\n",
       "      <th>count</th>\n",
       "      <td>100.000000</td>\n",
       "      <td>100.00000</td>\n",
       "      <td>100.00000</td>\n",
       "    </tr>\n",
       "    <tr>\n",
       "      <th>mean</th>\n",
       "      <td>16.240000</td>\n",
       "      <td>961.96000</td>\n",
       "      <td>46.48000</td>\n",
       "    </tr>\n",
       "    <tr>\n",
       "      <th>std</th>\n",
       "      <td>7.384286</td>\n",
       "      <td>1014.62567</td>\n",
       "      <td>55.08698</td>\n",
       "    </tr>\n",
       "    <tr>\n",
       "      <th>min</th>\n",
       "      <td>1.000000</td>\n",
       "      <td>11.00000</td>\n",
       "      <td>8.00000</td>\n",
       "    </tr>\n",
       "    <tr>\n",
       "      <th>25%</th>\n",
       "      <td>10.750000</td>\n",
       "      <td>252.75000</td>\n",
       "      <td>19.00000</td>\n",
       "    </tr>\n",
       "    <tr>\n",
       "      <th>50%</th>\n",
       "      <td>16.500000</td>\n",
       "      <td>612.00000</td>\n",
       "      <td>29.00000</td>\n",
       "    </tr>\n",
       "    <tr>\n",
       "      <th>75%</th>\n",
       "      <td>22.250000</td>\n",
       "      <td>1197.00000</td>\n",
       "      <td>46.00000</td>\n",
       "    </tr>\n",
       "    <tr>\n",
       "      <th>max</th>\n",
       "      <td>30.000000</td>\n",
       "      <td>4496.00000</td>\n",
       "      <td>349.00000</td>\n",
       "    </tr>\n",
       "  </tbody>\n",
       "</table>\n",
       "</div>"
      ],
      "text/plain": [
       "             S.No   Followers      Likes\n",
       "count  100.000000   100.00000  100.00000\n",
       "mean    16.240000   961.96000   46.48000\n",
       "std      7.384286  1014.62567   55.08698\n",
       "min      1.000000    11.00000    8.00000\n",
       "25%     10.750000   252.75000   19.00000\n",
       "50%     16.500000   612.00000   29.00000\n",
       "75%     22.250000  1197.00000   46.00000\n",
       "max     30.000000  4496.00000  349.00000"
      ]
     },
     "execution_count": 10,
     "metadata": {},
     "output_type": "execute_result"
    }
   ],
   "source": [
    "df.describe()"
   ]
  },
  {
   "cell_type": "code",
   "execution_count": 11,
   "id": "52c49ade-24b8-45c1-9a5f-1bdd8016efda",
   "metadata": {},
   "outputs": [
    {
     "data": {
      "text/plain": [
       "S.No                 0\n",
       "USERNAME             0\n",
       "Caption              6\n",
       "Followers            0\n",
       "Hashtags             0\n",
       "Time since posted    0\n",
       "Likes                0\n",
       "dtype: int64"
      ]
     },
     "execution_count": 11,
     "metadata": {},
     "output_type": "execute_result"
    }
   ],
   "source": [
    "df.isnull().sum()"
   ]
  },
  {
   "cell_type": "code",
   "execution_count": 12,
   "id": "eee3b0a3-9774-4185-b54f-a4744f2e44a5",
   "metadata": {},
   "outputs": [
    {
     "data": {
      "text/plain": [
       "S.No                 30\n",
       "USERNAME             95\n",
       "Caption              94\n",
       "Followers            94\n",
       "Hashtags             98\n",
       "Time since posted    11\n",
       "Likes                55\n",
       "dtype: int64"
      ]
     },
     "execution_count": 12,
     "metadata": {},
     "output_type": "execute_result"
    }
   ],
   "source": [
    "df.nunique()"
   ]
  },
  {
   "cell_type": "code",
   "execution_count": 13,
   "id": "bd49547f-4837-4bb0-aa67-000c77c01e60",
   "metadata": {},
   "outputs": [],
   "source": [
    "l = []\n",
    "for i in df['Time since posted']:\n",
    "    time = i.split(\" \")\n",
    "    l.append(int(time[0]))\n",
    "df['Time since posted'] = l"
   ]
  },
  {
   "cell_type": "code",
   "execution_count": 14,
   "id": "854cc582-9271-44d9-b0a7-2d6399115a44",
   "metadata": {},
   "outputs": [],
   "source": [
    "features_likes = ['USERNAME', 'Caption', 'Hashtags', 'Followers','Time since posted']\n",
    "features_time = ['USERNAME', 'Caption', 'Hashtags', 'Followers','Likes']\n",
    "target_likes = 'Likes'\n",
    "target_time = 'Time since posted'"
   ]
  },
  {
   "cell_type": "code",
   "execution_count": 15,
   "id": "b4108713-39a1-4caa-8b6f-2714f805dfa5",
   "metadata": {},
   "outputs": [],
   "source": [
    "x_likes = df[features_likes]\n",
    "y_likes = df[target_likes]\n",
    "x_time = df[features_time]\n",
    "y_time = df[target_time]"
   ]
  },
  {
   "cell_type": "code",
   "execution_count": 16,
   "id": "26c8810f-6951-44ca-b3c0-e2eb8bdb79df",
   "metadata": {},
   "outputs": [
    {
     "data": {
      "text/html": [
       "<div>\n",
       "<style scoped>\n",
       "    .dataframe tbody tr th:only-of-type {\n",
       "        vertical-align: middle;\n",
       "    }\n",
       "\n",
       "    .dataframe tbody tr th {\n",
       "        vertical-align: top;\n",
       "    }\n",
       "\n",
       "    .dataframe thead th {\n",
       "        text-align: right;\n",
       "    }\n",
       "</style>\n",
       "<table border=\"1\" class=\"dataframe\">\n",
       "  <thead>\n",
       "    <tr style=\"text-align: right;\">\n",
       "      <th></th>\n",
       "      <th>USERNAME</th>\n",
       "      <th>Caption</th>\n",
       "      <th>Hashtags</th>\n",
       "      <th>Followers</th>\n",
       "      <th>Time since posted</th>\n",
       "    </tr>\n",
       "  </thead>\n",
       "  <tbody>\n",
       "    <tr>\n",
       "      <th>0</th>\n",
       "      <td>mikequindazzi</td>\n",
       "      <td>Who are #DataScientist and what do they do? &gt;&gt;...</td>\n",
       "      <td>#MachineLearning #AI #DataAnalytics #DataScien...</td>\n",
       "      <td>1600</td>\n",
       "      <td>11</td>\n",
       "    </tr>\n",
       "    <tr>\n",
       "      <th>1</th>\n",
       "      <td>drgorillapaints</td>\n",
       "      <td>We all know where it’s going. We just have to ...</td>\n",
       "      <td>#deck .#mac #macintosh#sayhello #apple #steve...</td>\n",
       "      <td>880</td>\n",
       "      <td>2</td>\n",
       "    </tr>\n",
       "    <tr>\n",
       "      <th>2</th>\n",
       "      <td>aitrading_official</td>\n",
       "      <td>Alexander Barinov: 4 years as CFO in multinati...</td>\n",
       "      <td>#whoiswho #aitrading #ai #aitradingteam#instat...</td>\n",
       "      <td>255</td>\n",
       "      <td>2</td>\n",
       "    </tr>\n",
       "    <tr>\n",
       "      <th>3</th>\n",
       "      <td>opensourcedworkplace</td>\n",
       "      <td>sfad</td>\n",
       "      <td>#iot #cre#workplace #CDO #bigdata #technology#...</td>\n",
       "      <td>340</td>\n",
       "      <td>3</td>\n",
       "    </tr>\n",
       "    <tr>\n",
       "      <th>4</th>\n",
       "      <td>crea.vision</td>\n",
       "      <td>Ever missed a call while your phone was chargi...</td>\n",
       "      <td>#instamachinelearning #instabigdata#instamarke...</td>\n",
       "      <td>304</td>\n",
       "      <td>3</td>\n",
       "    </tr>\n",
       "  </tbody>\n",
       "</table>\n",
       "</div>"
      ],
      "text/plain": [
       "               USERNAME                                            Caption  \\\n",
       "0         mikequindazzi  Who are #DataScientist and what do they do? >>...   \n",
       "1       drgorillapaints  We all know where it’s going. We just have to ...   \n",
       "2    aitrading_official  Alexander Barinov: 4 years as CFO in multinati...   \n",
       "3  opensourcedworkplace                                               sfad   \n",
       "4           crea.vision  Ever missed a call while your phone was chargi...   \n",
       "\n",
       "                                            Hashtags  Followers  \\\n",
       "0  #MachineLearning #AI #DataAnalytics #DataScien...       1600   \n",
       "1   #deck .#mac #macintosh#sayhello #apple #steve...        880   \n",
       "2  #whoiswho #aitrading #ai #aitradingteam#instat...        255   \n",
       "3  #iot #cre#workplace #CDO #bigdata #technology#...        340   \n",
       "4  #instamachinelearning #instabigdata#instamarke...        304   \n",
       "\n",
       "   Time since posted  \n",
       "0                 11  \n",
       "1                  2  \n",
       "2                  2  \n",
       "3                  3  \n",
       "4                  3  "
      ]
     },
     "execution_count": 16,
     "metadata": {},
     "output_type": "execute_result"
    }
   ],
   "source": [
    "x_likes.head()"
   ]
  },
  {
   "cell_type": "code",
   "execution_count": 17,
   "id": "eac6b2d2-da8b-42e5-bee6-148a76bdbc6e",
   "metadata": {},
   "outputs": [
    {
     "data": {
      "text/plain": [
       "0    139\n",
       "1     23\n",
       "2     25\n",
       "3     49\n",
       "4     30\n",
       "Name: Likes, dtype: int64"
      ]
     },
     "execution_count": 17,
     "metadata": {},
     "output_type": "execute_result"
    }
   ],
   "source": [
    "y_likes.head()"
   ]
  },
  {
   "cell_type": "code",
   "execution_count": 18,
   "id": "3320cddf-583f-44f4-8264-29fa81c994c8",
   "metadata": {},
   "outputs": [],
   "source": [
    "from sklearn.model_selection import train_test_split\n",
    "x_train_l, x_test_l, y_train_l, y_test_l = train_test_split(x_likes,y_likes,random_state=42,test_size=0.33)"
   ]
  },
  {
   "cell_type": "code",
   "execution_count": 19,
   "id": "047c4e25-2239-49e9-a4fb-b083605fa9f7",
   "metadata": {},
   "outputs": [
    {
     "data": {
      "text/plain": [
       "(67, 5)"
      ]
     },
     "execution_count": 19,
     "metadata": {},
     "output_type": "execute_result"
    }
   ],
   "source": [
    "x_train_l.shape"
   ]
  },
  {
   "cell_type": "code",
   "execution_count": 20,
   "id": "2a971ff3-776d-4385-9318-9dd4a5acee04",
   "metadata": {},
   "outputs": [
    {
     "data": {
      "text/plain": [
       "(33, 5)"
      ]
     },
     "execution_count": 20,
     "metadata": {},
     "output_type": "execute_result"
    }
   ],
   "source": [
    "x_test_l.shape"
   ]
  },
  {
   "cell_type": "code",
   "execution_count": 21,
   "id": "8c2dd2ae-477f-41d8-acdf-81131d74cc61",
   "metadata": {},
   "outputs": [],
   "source": [
    "from sklearn.preprocessing import OneHotEncoder\n",
    "encoder = OneHotEncoder(sparse=False, handle_unknown='ignore')\n",
    "X_train_encoded_l = encoder.fit_transform(x_train_l)\n",
    "X_test_encoded_l = encoder.transform(x_test_l)"
   ]
  },
  {
   "cell_type": "code",
   "execution_count": 22,
   "id": "6f9415d4-1b45-4473-a17a-c98e03391642",
   "metadata": {},
   "outputs": [
    {
     "name": "stdout",
     "output_type": "stream",
     "text": [
      "3270.9927339320925\n"
     ]
    }
   ],
   "source": [
    "from sklearn.linear_model import LinearRegression\n",
    "from sklearn.metrics import mean_squared_error\n",
    "regression_l = LinearRegression()\n",
    "regression_l.fit(X_train_encoded_l,y_train_l)\n",
    "reg_pred_l = regression_l.predict(X_test_encoded_l)\n",
    "likes_mse = mean_squared_error(y_test_l, reg_pred_l)\n",
    "\n",
    "print(likes_mse)"
   ]
  },
  {
   "cell_type": "code",
   "execution_count": 23,
   "id": "26083ecf-923e-4220-a2ff-9552273f5443",
   "metadata": {},
   "outputs": [],
   "source": [
    "x_train_t, x_test_t, y_train_t, y_test_t = train_test_split(x_time,y_time,random_state=42,test_size=0.33)"
   ]
  },
  {
   "cell_type": "code",
   "execution_count": 24,
   "id": "b7c602c4-264b-4089-ab19-277b8cb365d2",
   "metadata": {},
   "outputs": [],
   "source": [
    "from sklearn.preprocessing import OneHotEncoder\n",
    "encoder = OneHotEncoder(sparse=False, handle_unknown='ignore')\n",
    "X_train_encoded_t = encoder.fit_transform(x_train_t)\n",
    "X_test_encoded_t = encoder.transform(x_test_t)"
   ]
  },
  {
   "cell_type": "code",
   "execution_count": 25,
   "id": "35392eec-363b-4c42-b5b7-6beaa9c0114b",
   "metadata": {},
   "outputs": [
    {
     "name": "stdout",
     "output_type": "stream",
     "text": [
      "5844.312884352959\n"
     ]
    }
   ],
   "source": [
    "from sklearn.linear_model import LinearRegression\n",
    "from sklearn.metrics import mean_squared_error\n",
    "regression_t = LinearRegression()\n",
    "regression_t.fit(X_train_encoded_t,y_train_t)\n",
    "reg_pred_t = regression_t.predict(X_test_encoded_t)\n",
    "time_mse = mean_squared_error(y_test_l, reg_pred_t)\n",
    "\n",
    "print(time_mse)"
   ]
  }
 ],
 "metadata": {
  "kernelspec": {
   "display_name": "Python 3 (ipykernel)",
   "language": "python",
   "name": "python3"
  },
  "language_info": {
   "codemirror_mode": {
    "name": "ipython",
    "version": 3
   },
   "file_extension": ".py",
   "mimetype": "text/x-python",
   "name": "python",
   "nbconvert_exporter": "python",
   "pygments_lexer": "ipython3",
   "version": "3.10.6"
  }
 },
 "nbformat": 4,
 "nbformat_minor": 5
}
