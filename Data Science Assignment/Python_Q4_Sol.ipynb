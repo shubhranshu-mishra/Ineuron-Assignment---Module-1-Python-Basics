{
 "cells": [
  {
   "cell_type": "code",
   "execution_count": null,
   "id": "39fb3c2e",
   "metadata": {},
   "outputs": [],
   "source": [
    "import requests\n",
    "import json\n",
    "import csv\n",
    "\n",
    "# Function to download data from the given URL\n",
    "def download_data(url):\n",
    "    response = requests.get(url)\n",
    "    if response.status_code == 200:\n",
    "        return response.json()\n",
    "    else:\n",
    "        raise Exception(\"Failed to download data\")\n",
    "\n",
    "# Function to process the downloaded data and convert it to the desired structure\n",
    "def process_data(data):\n",
    "    processed_data = []\n",
    "    for item in data:\n",
    "        processed_item = {\n",
    "            'Name of Earth Meteorite': item.get('name', ''),\n",
    "            'ID of Earth Meteorite': item.get('idm', ''),\n",
    "            'Meteorite': item.get('nametype', ''),\n",
    "            'recclass': item.get('recclass', ''),\n",
    "            'mass': float(item.get('mass', 0)),\n",
    "            'year': item.get('year', ''),\n",
    "            'reclat': float(item.get('reclat', 0)),\n",
    "            'reclong': float(item.get('reclong', 0)),\n",
    "            'point coordinates': item.get('geolocation', {}).get('coordinates', [])\n",
    "        }\n",
    "        processed_data.append(processed_item)\n",
    "    return processed_data\n",
    "\n",
    "# Function to save the processed data as a CSV file\n",
    "def save_as_csv(data, filename):\n",
    "    fieldnames = data[0].keys()\n",
    "    with open(filename, 'w', newline='') as csvfile:\n",
    "        writer = csv.DictWriter(csvfile, fieldnames=fieldnames)\n",
    "        writer.writeheader()\n",
    "        writer.writerows(data)\n",
    "\n",
    "# Main function to download, process, and save the data\n",
    "def main():\n",
    "    url = 'https://data.nasa.gov/resource/y77d-th95.json'\n",
    "    filename = 'meteorite_data.csv'\n",
    "\n",
    "    # Download data\n",
    "    data = download_data(url)\n",
    "\n",
    "    # Process data\n",
    "    processed_data = process_data(data)\n",
    "\n",
    "    # Save as CSV\n",
    "    save_as_csv(processed_data, filename)\n",
    "\n",
    "    print(f\"Data saved as {filename}\")\n",
    "\n",
    "# Run the main function\n",
    "if __name__ == '__main__':\n",
    "    main()\n"
   ]
  },
  {
   "cell_type": "code",
   "execution_count": null,
   "id": "8b14a383",
   "metadata": {},
   "outputs": [],
   "source": []
  }
 ],
 "metadata": {
  "kernelspec": {
   "display_name": "Python 3 (ipykernel)",
   "language": "python",
   "name": "python3"
  },
  "language_info": {
   "codemirror_mode": {
    "name": "ipython",
    "version": 3
   },
   "file_extension": ".py",
   "mimetype": "text/x-python",
   "name": "python",
   "nbconvert_exporter": "python",
   "pygments_lexer": "ipython3",
   "version": "3.9.12"
  }
 },
 "nbformat": 4,
 "nbformat_minor": 5
}
