{
 "cells": [
  {
   "cell_type": "code",
   "execution_count": 4,
   "id": "3ad26b2d",
   "metadata": {},
   "outputs": [],
   "source": [
    "def is_valid_string(s):\n",
    "    char_freq = {}\n",
    "    for char in s:\n",
    "        char_freq[char] = char_freq.get(char, 0) + 1\n",
    "\n",
    "    freq_freq = {}\n",
    "    for freq in char_freq.values():\n",
    "        freq_freq[freq] = freq_freq.get(freq, 0) + 1\n",
    "\n",
    "    if len(freq_freq) == 1:\n",
    "        return \"YES\"\n",
    "\n",
    "    if len(freq_freq) > 2:\n",
    "        return \"NO\"\n",
    "\n",
    "    min_freq, max_freq = min(freq_freq), max(freq_freq)\n",
    "    if freq_freq[max_freq] == 1 and max_freq - min_freq == 1:\n",
    "        return \"YES\"\n",
    "    if freq_freq[min_freq] == 1 and min_freq == 1:\n",
    "        return \"YES\"\n",
    "\n",
    "    return \"NO\"\n"
   ]
  },
  {
   "cell_type": "code",
   "execution_count": 5,
   "id": "d1a0a1a8",
   "metadata": {},
   "outputs": [
    {
     "name": "stdout",
     "output_type": "stream",
     "text": [
      "YES\n",
      "YES\n",
      "YES\n",
      "NO\n"
     ]
    }
   ],
   "source": [
    "# Example test cases\n",
    "s1 = \"abc\"\n",
    "print(is_valid_string(s1))\n",
    "\n",
    "s2 = \"abcc\"\n",
    "print(is_valid_string(s2))\n",
    "\n",
    "# Additional test case 1\n",
    "s3 = \"aabbbcc\"\n",
    "print(is_valid_string(s3))\n",
    "# Explanation: All characters appear the same number of times (2), so the string is valid.\n",
    "\n",
    "# Additional test case 2\n",
    "s4 = \"aabbbcccc\"\n",
    "print(is_valid_string(s4))\n",
    "# Explanation: If we remove one occurrence of 'c', the remaining characters will occur the same number of times (3), making the string valid."
   ]
  },
  {
   "cell_type": "code",
   "execution_count": null,
   "id": "87fff576",
   "metadata": {},
   "outputs": [],
   "source": []
  }
 ],
 "metadata": {
  "kernelspec": {
   "display_name": "Python 3 (ipykernel)",
   "language": "python",
   "name": "python3"
  },
  "language_info": {
   "codemirror_mode": {
    "name": "ipython",
    "version": 3
   },
   "file_extension": ".py",
   "mimetype": "text/x-python",
   "name": "python",
   "nbconvert_exporter": "python",
   "pygments_lexer": "ipython3",
   "version": "3.9.12"
  }
 },
 "nbformat": 4,
 "nbformat_minor": 5
}
