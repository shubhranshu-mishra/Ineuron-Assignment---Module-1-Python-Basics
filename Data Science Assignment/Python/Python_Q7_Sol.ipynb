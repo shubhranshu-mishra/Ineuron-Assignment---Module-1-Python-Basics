{
 "cells": [
  {
   "cell_type": "code",
   "execution_count": 1,
   "id": "6bdf0e5a-765b-4738-b2c6-e36460f87c28",
   "metadata": {},
   "outputs": [],
   "source": [
    "from urllib.request import urlopen\n",
    "import json\n",
    "import pandas as pd\n",
    "\n",
    "url = \"https://data.nasa.gov/resource/y77d-th95.json\" \n",
    "\n",
    "response = urlopen(url)\n",
    "  \n",
    "data_json = json.loads(response.read())"
   ]
  },
  {
   "cell_type": "code",
   "execution_count": 2,
   "id": "df925fbf-c049-4080-bee0-2c9bfcea78fd",
   "metadata": {},
   "outputs": [],
   "source": [
    "data_list = []\n",
    "for i in data_json:\n",
    "    l = []\n",
    "    for x in i.keys():\n",
    "        if type(i[x]) == dict:\n",
    "            for y in i[x].keys():\n",
    "                l.append(i[x][y]) \n",
    "        else:        \n",
    "            l.append(i[x])\n",
    "    data_list.append(l)"
   ]
  },
  {
   "cell_type": "code",
   "execution_count": 3,
   "id": "eab23c8f-7456-4110-96e6-545aeaa67119",
   "metadata": {},
   "outputs": [],
   "source": [
    "df = pd.DataFrame(data_list)\n",
    "df = df.drop([11,12],axis=1)\n",
    "df.columns = ['Name of Earth Meteorite','ID of Earth Meteorite','nametype',' recclass','Mass of Earth Meteorite','Fall','Year at which Earth Meteorite was hit', 'reclat', 'reclong', 'Point', 'Coordinates']"
   ]
  },
  {
   "cell_type": "code",
   "execution_count": 4,
   "id": "86fce864-2f1b-4e22-bb8d-e07d439eec98",
   "metadata": {},
   "outputs": [],
   "source": [
    "df.to_csv(\"Q4.csv\")"
   ]
  },
  {
   "cell_type": "code",
   "execution_count": 5,
   "id": "5fab3bc1-c05a-482b-b1b2-5f22b409e972",
   "metadata": {},
   "outputs": [
    {
     "data": {
      "text/html": [
       "<div>\n",
       "<style scoped>\n",
       "    .dataframe tbody tr th:only-of-type {\n",
       "        vertical-align: middle;\n",
       "    }\n",
       "\n",
       "    .dataframe tbody tr th {\n",
       "        vertical-align: top;\n",
       "    }\n",
       "\n",
       "    .dataframe thead th {\n",
       "        text-align: right;\n",
       "    }\n",
       "</style>\n",
       "<table border=\"1\" class=\"dataframe\">\n",
       "  <thead>\n",
       "    <tr style=\"text-align: right;\">\n",
       "      <th></th>\n",
       "      <th>Name of Earth Meteorite</th>\n",
       "      <th>ID of Earth Meteorite</th>\n",
       "      <th>nametype</th>\n",
       "      <th>recclass</th>\n",
       "      <th>Mass of Earth Meteorite</th>\n",
       "      <th>Fall</th>\n",
       "      <th>Year at which Earth Meteorite was hit</th>\n",
       "      <th>reclat</th>\n",
       "      <th>reclong</th>\n",
       "      <th>Point</th>\n",
       "      <th>Coordinates</th>\n",
       "    </tr>\n",
       "  </thead>\n",
       "  <tbody>\n",
       "    <tr>\n",
       "      <th>0</th>\n",
       "      <td>Aachen</td>\n",
       "      <td>1</td>\n",
       "      <td>Valid</td>\n",
       "      <td>L5</td>\n",
       "      <td>21</td>\n",
       "      <td>Fell</td>\n",
       "      <td>1880-01-01T00:00:00.000</td>\n",
       "      <td>50.775000</td>\n",
       "      <td>6.083330</td>\n",
       "      <td>Point</td>\n",
       "      <td>[6.08333, 50.775]</td>\n",
       "    </tr>\n",
       "    <tr>\n",
       "      <th>1</th>\n",
       "      <td>Aarhus</td>\n",
       "      <td>2</td>\n",
       "      <td>Valid</td>\n",
       "      <td>H6</td>\n",
       "      <td>720</td>\n",
       "      <td>Fell</td>\n",
       "      <td>1951-01-01T00:00:00.000</td>\n",
       "      <td>56.183330</td>\n",
       "      <td>10.233330</td>\n",
       "      <td>Point</td>\n",
       "      <td>[10.23333, 56.18333]</td>\n",
       "    </tr>\n",
       "    <tr>\n",
       "      <th>2</th>\n",
       "      <td>Abee</td>\n",
       "      <td>6</td>\n",
       "      <td>Valid</td>\n",
       "      <td>EH4</td>\n",
       "      <td>107000</td>\n",
       "      <td>Fell</td>\n",
       "      <td>1952-01-01T00:00:00.000</td>\n",
       "      <td>54.216670</td>\n",
       "      <td>-113.000000</td>\n",
       "      <td>Point</td>\n",
       "      <td>[-113, 54.21667]</td>\n",
       "    </tr>\n",
       "    <tr>\n",
       "      <th>3</th>\n",
       "      <td>Acapulco</td>\n",
       "      <td>10</td>\n",
       "      <td>Valid</td>\n",
       "      <td>Acapulcoite</td>\n",
       "      <td>1914</td>\n",
       "      <td>Fell</td>\n",
       "      <td>1976-01-01T00:00:00.000</td>\n",
       "      <td>16.883330</td>\n",
       "      <td>-99.900000</td>\n",
       "      <td>Point</td>\n",
       "      <td>[-99.9, 16.88333]</td>\n",
       "    </tr>\n",
       "    <tr>\n",
       "      <th>4</th>\n",
       "      <td>Achiras</td>\n",
       "      <td>370</td>\n",
       "      <td>Valid</td>\n",
       "      <td>L6</td>\n",
       "      <td>780</td>\n",
       "      <td>Fell</td>\n",
       "      <td>1902-01-01T00:00:00.000</td>\n",
       "      <td>-33.166670</td>\n",
       "      <td>-64.950000</td>\n",
       "      <td>Point</td>\n",
       "      <td>[-64.95, -33.16667]</td>\n",
       "    </tr>\n",
       "  </tbody>\n",
       "</table>\n",
       "</div>"
      ],
      "text/plain": [
       "  Name of Earth Meteorite ID of Earth Meteorite nametype     recclass  \\\n",
       "0                  Aachen                     1    Valid           L5   \n",
       "1                  Aarhus                     2    Valid           H6   \n",
       "2                    Abee                     6    Valid          EH4   \n",
       "3                Acapulco                    10    Valid  Acapulcoite   \n",
       "4                 Achiras                   370    Valid           L6   \n",
       "\n",
       "  Mass of Earth Meteorite  Fall Year at which Earth Meteorite was hit  \\\n",
       "0                      21  Fell               1880-01-01T00:00:00.000   \n",
       "1                     720  Fell               1951-01-01T00:00:00.000   \n",
       "2                  107000  Fell               1952-01-01T00:00:00.000   \n",
       "3                    1914  Fell               1976-01-01T00:00:00.000   \n",
       "4                     780  Fell               1902-01-01T00:00:00.000   \n",
       "\n",
       "       reclat      reclong  Point           Coordinates  \n",
       "0   50.775000     6.083330  Point     [6.08333, 50.775]  \n",
       "1   56.183330    10.233330  Point  [10.23333, 56.18333]  \n",
       "2   54.216670  -113.000000  Point      [-113, 54.21667]  \n",
       "3   16.883330   -99.900000  Point     [-99.9, 16.88333]  \n",
       "4  -33.166670   -64.950000  Point   [-64.95, -33.16667]  "
      ]
     },
     "execution_count": 5,
     "metadata": {},
     "output_type": "execute_result"
    }
   ],
   "source": [
    "df.head()"
   ]
  },
  {
   "cell_type": "code",
   "execution_count": 6,
   "id": "e7197de9-b82c-49af-a6a2-3e5d0ffef703",
   "metadata": {},
   "outputs": [],
   "source": [
    "lists = []\n",
    "for i in data_json:\n",
    "    if \"year\" in list(i.keys()):\n",
    "        stamp = i['year'].split('-')\n",
    "        if int(stamp[0])<2000:\n",
    "            lists.append(i['name']) "
   ]
  },
  {
   "cell_type": "code",
   "execution_count": 7,
   "id": "08d66ec9-85c5-4adb-974c-12d651bb2c1c",
   "metadata": {},
   "outputs": [
    {
     "name": "stdout",
     "output_type": "stream",
     "text": [
      "List of Meteorites that fell before 2000:\n",
      "['Aachen', 'Aarhus', 'Abee', 'Acapulco', 'Achiras', 'Adhi Kot', 'Adzhi-Bogdo (stone)', 'Agen', 'Aguada', 'Aguila Blanca', 'Aioun el Atrouss', 'Aïr', 'Aire-sur-la-Lys', 'Akaba', 'Akbarpur', 'Akwanga', 'Akyumak', 'Al Rais', 'Alais', 'Albareto', 'Alberta', 'Aldsworth', 'Aleppo', 'Alessandria', 'Alexandrovsky', 'Alfianello', 'Allegan', 'Allende', \"Alta'ameem\", 'Ambapur Nagla', 'Andhara', 'Andover', 'Andreevka', 'Andura', 'Angers', 'Angra dos Reis (stone)', 'Ankober', 'Anlong', 'Aomori', 'Appley Bridge', 'Apt', 'Arbol Solo', 'Archie', 'Arroyo Aguiar', 'Asco', 'Ashdon', 'Assisi', 'Atarra', 'Atemajac', 'Athens', 'Atoka', 'Aubres', 'Aumale', 'Aumieres', 'Ausson', 'Avanhandava', 'Avce', 'Avilez', 'Awere', 'Aztec', 'Bachmut', 'Bahjoi', 'Bald Mountain', 'Baldwyn', 'Bali', 'Ban Rong Du', 'Bandong', 'Bansur', 'Banswal', 'Banten', 'Barbotan', 'Barcelona (stone)', 'Barea', 'Barnaul', 'Barntrup', 'Baroti', 'Barwell', 'Baszkówka', 'Bath', 'Bath Furnace', 'Bawku', 'Baxter', 'Beardsley', 'Beaver Creek', 'Beddgelert', 'Bells', 'Belville', 'Benares (a)', 'Benld', 'Benoni', 'Benton', 'Béréba', 'Berlanguillas', 'Bethlehem', 'Beuste', 'Beyrout', 'Bhagur', 'Bherai', 'Bhola', 'Bholghati', 'Bialystok', 'Bielokrynitschie', 'Bilanga', 'Binningup', \"Birni N'konni\", 'Bishopville', 'Bishunpur', 'Bjelaja Zerkov', 'Bjurböle', 'Black Moshannan Park', 'Blackwell', 'Blanket', 'Blansko', 'Bloomington', 'Bo Xian', 'Bocas', 'Bogou', 'Boguslavka', 'Borgo San Donino', 'Bori', 'Boriskino', 'Borkut', 'Borodino', 'Botschetschki', 'Bovedy', 'Bradford Woods', 'Braunau', 'Breitscheid', 'Bremervörde', 'Brient', 'Bruderheim', 'Bulls Run', 'Bununu', 'Bur-Gheluai', 'Burnwell', 'Bursa', 'Buschhof', 'Bustee', 'Butsura', 'Cabezo de Mayo', 'Cabin Creek', 'Cacak', 'Calivo', 'Campos Sales', 'Çanakkale', 'Cañellas', 'Cangas de Onis', 'Canon City', 'Cape Girardeau', 'Capilla del Monte', 'Caratash', 'Castalia', 'Castel Berardenga', 'Castine', 'Castrovillari', 'Caswell County', 'Ceniceros', 'Centerville', 'Cereseto', 'Chadong', 'Chail', 'Chainpur', 'Chajari', 'Chandakapur', 'Chandpur', 'Changde', 'Chantonnay', 'Charlotte', 'Charsonville', 'Charwallas', 'Chassigny', 'Château-Renard', 'Chaves', 'Chela', 'Chernyi Bor', 'Cherokee Springs', 'Chervettaz', 'Chervony Kut', 'Chetrinahatti', 'Chiang Khan', 'Chicora', 'Chisenga', 'Chitado', 'Chitenay', 'Cilimus', 'Claxton', 'Clohars', 'Colby (Wisconsin)', 'Cold Bokkeveld', 'Coleman', 'Collescipoli', 'Conquista', 'Cosina', 'Cranganore', 'Crescent', 'Cronstad', 'Cross Roads', 'Crumlin', 'Cumberland Falls', 'Cynthiana', 'Dahmani', 'Dandapur', \"Daniel's Kuil\", 'Danville', 'Darmstadt', 'Dashoguz', 'De Cewsville', 'Deal', 'Delhi', 'Demina', 'Denver', 'Desuri', 'Devri-Khera', 'Dhajala', 'Dharwar', 'Dhurmsala', 'Diep River', 'Distrito Quebracho', 'Djati-Pengilon', 'Djermaia', 'Djoumine', 'Dokachi', 'Dolgovoli', 'Domanitch', 'Dong Ujimqin Qi', 'Donga Kohrod', 'Dongtai', 'Doroninsk', 'Dosso', 'Douar Mghila', 'Dowa', 'Drake Creek', 'Dresden (Ontario)', 'Dubrovnik', 'Dunbogan', 'Dundrum', 'Dunhua', 'Durala', 'Duruma', 'Duwun', 'Dwaleni', 'Dyalpur', 'Dyarrl Island', 'Eagle', 'Ehole', 'Eichstädt', 'Ekeby', 'Ekh Khera', 'El Idrissia', 'El Paso de Aguila', 'El Tigre', 'Elbert', 'Elbogen', 'Elenovka', 'Ellemeet', 'Emmaville', 'Enshi', 'Ensisheim', 'Épinal', 'Erakot', 'Erevan', 'Ergheo', 'Erxleben', 'Esnandes', 'Essebi', 'Estherville', 'Farmington', 'Farmville', 'Favars', 'Fayetteville', 'Feid Chair', 'Felix', 'Fenghsien-Ku', 'Ferguson', 'Fermo', 'Fisher', 'Florence', 'Forest City', 'Forest Vale', 'Forksville', 'Forsbach', 'Forsyth', 'Fort Flatters', 'Frankfort (stone)', 'Fuhe', 'Fukutomi', 'Fünen', 'Futtehpur', 'Fuyang', 'Galapian', 'Galim (a)', 'Galim (b)', 'Galkiv', 'Gambat', 'Gao-Guenie', 'Garhi Yasin', 'Garland', 'Gashua', 'Geidam', 'Gifu', 'Girgenti', 'Git-Git', 'Glanerbrug', 'Glanggang', 'Glasatovo', 'Glatton', 'Gnadenfrei', 'Gopalpur', 'Gorlovka', 'Granes', 'Grefsheim', 'Grosnaja', 'Gross-Divina', 'Grossliebenthal', 'Grüneberg', 'Grzempach', 'Gualeguaychú', 'Guangmingshan', 'Guangnan', 'Guangrao', 'Guareña', 'Guêa', 'Guibga', 'Guidder', 'Gujargaon', 'Gujba', 'Gumoschnik', 'Gurram Konda', 'Gursum', 'Gütersloh', 'Gyokukei', 'Hachi-oji', 'Hainaut', 'Hallingeberg', 'Hamlet', 'Haraiya', 'Haripura', 'Harleton', 'Harrison County', 'Hashima', 'Hassi-Jekna', 'Hatford', 'Haverö', 'Hedeskoga', 'Hedjaz', 'Heredia', 'Hessle', 'Higashi-koen', 'High Possil', 'Hökmark', 'Holbrook', 'Holetta', 'Homestead', 'Honolulu', 'Hotse', 'Hoxie', 'Hraschina', 'Hungen', 'Hvittis', 'Ibbenbüren', 'Ibitira', 'Ibrisim', 'Ichkala', 'Idutywa', 'Iguaracu', 'Ijopega', 'Indarch', 'Independence', 'Inner Mongolia', 'Innisfree', 'Ipiranga', 'Ishinga', 'Isthilart', 'Itapicuru-Mirim', 'Itqiy', 'Ivuna', 'Jackalsfontein', 'Jajh deh Kot Lalu', 'Jalanash', 'Jalandhar', 'Jamkheir', 'Jartai', 'Jelica', 'Jemlapur', 'Jhung', 'Jiange', 'Jianshi', 'Jilin', 'Jodzie', 'Johnstown', 'Jolomba', 'Jonzac', 'Juancheng', 'Judesegeri', 'Jumapalo', 'Junan', 'Juromenha', 'Juvinas', 'Kaba', 'Kabo', 'Kadonah', 'Kaee', 'Kagarlyk', 'Kaidun', 'Kainsaz', 'Kakangari', 'Kakowa', 'Kalaba', 'Kalumbi', 'Kamalpur', 'Kamiomi', 'Kamsagar', 'Kandahar (Afghanistan)', 'Kangean', 'Kangra Valley', 'Kapoeta', 'Kaptal-Aryk', 'Karakol', 'Karatu', 'Karewar', 'Karkh', 'Karloowala', 'Karoonda', 'Kasamatsu', 'Katagum', 'Kayakent', 'Kediri', 'Kendleton', 'Kerilis', 'Kernouve', 'Kesen', 'Khairpur', 'Khanpur', 'Kharkov', 'Kheragur', 'Khetri', 'Khmelevka', 'Khohar', 'Khor Temiki', 'Kidairat', 'Kiel', 'Kiffa', 'Kijima (1906)', 'Kikino', 'Kilbourn', 'Killeter', 'Kingai', 'Kirbyville', 'Kisvarsány', 'Kitchener', 'Klein-Wenden', 'Knyahinya', 'Kobe', 'Kokubunji', 'Komagome', 'Konovo', 'Krähenberg', 'Krasnoi-Ugol', 'Krasnyi Klyuch', 'Krutikha', 'Krymka', 'Kukschin', 'Kulak', 'Kuleschovka', 'Kulp', 'Kunashak', 'Kunya-Urgench', 'Kushiike', 'Kusiali', 'Kutais', 'Kuttippuram', 'Kuznetzovo', 'Kyushu', 'La Bécasse', 'La Charca', 'La Colina', 'La Criolla', 'Laborel', 'Lahrauli', \"L'Aigle\", 'Lakangaon', 'Lalitpur', 'Lancé', 'Lancon', 'Långhalsen', 'Lanxi', 'Lanzenkirchen', 'Laochenzhen', 'Launton', 'Lavrentievka', 'Le Pressoir', 'Le Teilleul', 'Leedey', 'Leeuwfontein', 'Leighlinbridge', 'Leighton', 'Leonovka', 'Les Ormes', 'Lesves', 'Lichtenberg', 'Lillaverke', 'Limerick', 'Linum', 'Lishui', 'Lissa', 'Little Piney', 'Lixna', 'Lodran', 'Lohawat', 'Los Martinez', 'Lost City', 'Louisville', 'Łowicz', 'Lua', 'Lucé', 'Lumpkin', 'Lunan', 'Lundsgård', 'Luotolax', 'Luponnas', 'Lusaka', 'Mabwe-Khoywa', 'Macau', 'Machinga', 'Macibini', 'Madhipura', 'Madiun', 'Madrid', 'Mafra', 'Magnesia', 'Magombedze', 'Malaga', 'Malakal', 'Malampaka', 'Malotas', 'Malvern', 'Mamra Springs', 'Manbhoom', 'Manegaon', 'Mangwendi', 'Manych', 'Mardan', 'Maria Linden', 'Mariaville', 'Maridi', 'Marilia', 'Marion (Iowa)', 'Marjalahti', 'Marmande', 'Maryville', 'Mascombes', 'Mässing', 'Mauerkirchen', 'Mauritius', 'Mayo Belwa', 'Mazapil', 'Maziba', 'Mbale', 'Medanitos', 'Meerut', 'Meester-Cornelis', 'Menow', 'Menziswyl', 'Mern', 'Meru', 'Merua', 'Messina', 'Meuselbach', 'Mezel', 'Mezö-Madaras', 'Mhow', 'Mianchi', 'Middlesbrough', 'Mighei', 'Mihonoseki', 'Mike', 'Milena', 'Millbillillie', 'Miller (Arkansas)', 'Minamino', 'Mineo', 'Min-Fan-Zhun', 'Minnichhof', 'Mirzapur', 'Misshof', 'Mjelleim', 'Mocs', 'Modoc (1905)', 'Mokoia', 'Molina', 'Molteno', 'Monahans (1998)', 'Monroe', 'Monte das Fortes', 'Monte Milone', 'Montferré', 'Montlivault', 'Monze', 'Moore County', 'Mooresfort', 'Moorleah', 'Moradabad', 'Mornans', 'Moti-ka-nagla', 'Motta di Conti', 'Mount Browne', 'Mount Tazerzait', 'Mount Vaisi', 'Mtola', 'Muddoor', 'Mulletiwu', 'Muraid', 'Murchison', 'Murray', 'Muzaffarpur', 'Myhee Caunta', 'Nadiabondi', 'Nagai', 'Nagaria', 'Nagy-Borové', 'Nakhla', 'Nakhon Pathom', 'Nammianthal', 'Nan Yang Pao', 'Nanjemoy', 'Nantong', 'Naoki', 'Naragh', 'Narellan', 'Narni', 'Nassirah', 'Natal', 'Nawapali', 'Neagari', 'Nedagolla', 'Nejo', 'Nerft', 'New Concord', 'New Halfa', 'Ngawi', \"N'Goureyma\", 'Nicorps', 'Niger (L6)', 'Niger (LL6)', 'Nikolaevka', 'Nikolskoe', 'Ningbo', 'Ningqiang', 'Nio', \"N'Kandhla\", 'Nobleborough', 'Noblesville', 'Nogata', 'Nogoya', 'Norfork', 'Norton County', 'Noventa Vicentina', 'Novo-Urei', 'Novy-Ergi', 'Novy-Projekt', 'Noyan-Bogdo', 'Nuevo Mercurio', 'Nulles', 'Numakai', 'Nyaung', 'Nyirábrany', 'Ochansk', 'Oesede', 'Oesel', 'Ofehértó', 'Ogi', 'Ohaba', 'Ohuma', 'Ojuelos Altos', 'Okabe', 'Okano', 'Okniny', 'Oldenburg (1930)', 'Oliva-Gandia', 'Olivenza', 'Olmedilla de Alarcón', 'Omolon', 'Orgueil', 'Ornans', 'Ortenau', 'Orvinio', 'Oterøy', 'Otomi', 'Ottawa', 'Oued el Hadjar', 'Ourique', 'Ovambo', 'Oviedo', 'Owrucz', 'Pacula', 'Padvarninkai', 'Paitan', 'Palahatchie', 'Palca de Aparzo', 'Palinshih', 'Palmyra', 'Palolo Valley', 'Pampanga', 'Pantar', 'Paragould', 'Parambu', 'Paranaiba', 'Parnallee', 'Parsa', 'Pasamonte', 'Patora', 'Patrimonio', 'Patti', 'Patwar', 'Pavel', 'Pavlodar (stone)', 'Pavlograd', 'Pavlovka', 'Pê', 'Peace River', 'Peckelsheim', 'Peekskill', 'Peña Blanca Spring', 'Peramiho', 'Perpeti', 'Perth', 'Pervomaisky', 'Pesyanoe', 'Pétèlkolé', 'Petersburg', 'Pettiswood', 'Phillips County (stone)', 'Phu Hong', 'Phum Sambo', 'Phuoc-Binh', 'Piancaldoli', 'Picote', 'Pillistfer', 'Piplia Kalan', 'Piquetberg', 'Pirgunje', 'Pirthalla', 'Pitts', 'Plantersville', 'Ploschkovitz', 'Pnompehn', 'Pohlitz', 'Pokhra', 'Pollen', 'Pontlyfni', 'Portales Valley', 'Portugal', 'Po-wang Chen', 'Prambachkirchen', 'Pribram', 'Pricetown', 'Pulsora', 'Pultusk', 'Punganaru', 'Putinga', 'Qidong', 'Qingzhen', \"Queen's Mercy\", 'Quenggouk', 'Quesa', 'Quija', 'Quincay', 'Raco', 'Raghunathpura', 'Rahimyar Khan', 'Rakovka', 'Ramnagar', 'Rampurhat', 'Ramsdorf', 'Ranchapur', 'Rancho de la Presa', 'Rangala', 'Raoyang', 'Ras Tanura', 'Rasgrad', 'Ratyn', 'Reliegos', 'Rembang', 'Renazzo', 'Renca', 'Renqiu', 'Repeev Khutor', 'Revelstoke', 'Rewari', 'Rich Mountain', 'Uzcudun', 'Richardton', 'Richland Springs', 'Richmond', 'Rio Negro', 'Rivolta de Bassi', 'Rochester', 'Rockhampton', 'Roda', 'Rodach', 'Rose City', 'Rowton', 'Ruhobobo', 'Rumuruti', 'Rupota', 'Ryechki', 'Sabetmahet', 'Sabrum', 'Sagan', 'Saint-Sauveur', 'Saint-Séverin', 'Sakauchi', 'Salem', 'Salles', 'Salzwedel', 'Samelia', 'San Juan Capistrano', 'San Pedro de Quiles', 'San Pedro Jacuaro', 'Santa Barbara', 'Santa Cruz', 'Santa Isabel', 'São Jose do Rio Preto', 'Saratov', 'Sasagase', 'Sauguis', 'Savtschenskoje', 'Sayama', 'Sazovice', 'Schellin', 'Schenectady', 'Schönenberg', 'Searsmont', 'Sediköy', 'Segowlie', 'Selakopi', 'Seldebourak', 'Semarkona', 'Sena', 'Senboku', 'Seoni', 'Seres', 'Serra de Magé', 'Sete Lagoas', 'Sevilla', 'Sevrukovo', 'Sfax', 'Shalka', 'Sharps', 'Shelburne', 'Shergotty', 'Sheyang', 'Shikarpur', 'Shuangyang', 'Shupiyan', 'Shytal', 'Siena', 'Sikhote-Alin', 'Silao', 'Silistra', 'Simmern', 'Sinai', 'Sindhri', 'Sinnai', 'Sioux County', 'Sitathali', 'Sivas', 'Sixiangkou', 'Ski', 'Slavetic', 'Slobodka', 'Soheria', 'Soko-Banja', 'Sologne', 'Sone', 'Songyuan', 'Sopot', 'Soroti', 'St. Caprais-de-Quinsac', 'St. Christophe-la-Chartreuse', 'St. Denis Westrem', 'St. Germain-du-Pinel', 'St. Louis', \"St. Mark's\", \"St. Mary's County\", 'St. Mesmin', 'St. Michel', 'St.-Chinian', 'Ställdalen', 'Stannern', 'Stavropol', 'Ste. Marguerite', 'Sterlitamak', 'Stolzenau', 'Stratford', 'Strathmore', 'Stretchleigh', 'St-Robert', 'Success', 'Suchy Dul', 'Suizhou', 'Sultanpur', 'Sungach', 'Supuhee', 'Sylacauga', 'Tabor', 'Tadjera', 'Tahara', 'Takenouchi', 'Talampaya', 'Tambakwatu', 'Tané', 'Taonan', 'Tatahouine', 'Tathlith', 'Tauk', 'Tauti', 'Tenham', 'Tennasilm', 'Thal', 'Tianzhang', 'Tieschitz', 'Tilden', 'Tillaberi', 'Timochin', 'Tirupati', 'Tjabe', 'Tjerebon', 'Tomakovka']\n"
     ]
    }
   ],
   "source": [
    "print(\"List of Meteorites that fell before 2000:\")\n",
    "print(lists)"
   ]
  },
  {
   "cell_type": "code",
   "execution_count": 8,
   "id": "84f87942-1e23-4b92-abb8-e71a473c3fca",
   "metadata": {},
   "outputs": [],
   "source": [
    "lists = []\n",
    "for i in data_json:\n",
    "    if \"year\" in list(i.keys()) and 'geolocation' in list(i.keys()) :\n",
    "        stamp = i['year'].split('-')\n",
    "        if int(stamp[0])<1970:\n",
    "            lists.append(i['geolocation']['coordinates']) "
   ]
  },
  {
   "cell_type": "code",
   "execution_count": 9,
   "id": "10a89142-1eeb-4f5c-8d15-8778451b21f7",
   "metadata": {},
   "outputs": [
    {
     "name": "stdout",
     "output_type": "stream",
     "text": [
      "List of Coordinates that fell before 1970:\n",
      "[[6.08333, 50.775], [10.23333, 56.18333], [-113, 54.21667], [-64.95, -33.16667], [71.8, 32.1], [95.16667, 44.83333], [0.61667, 44.21667], [-65.23333, -31.6], [-64.55, -30.86667], [8.38333, 19.08333], [2.33333, 50.66667], [35.05, 29.51667], [77.95, 29.71667], [8.43333, 8.91667], [39.51667, 24.41667], [4.08333, 44.11667], [11.01667, 44.65], [22.66667, 2], [-1.78333, 51.78333], [37.13333, 36.23333], [8.75, 44.88333], [31.81667, 50.95], [10.15, 45.26667], [-85.88333, 42.53333], [-105.31667, 26.96667], [78.25, 27.66667], [85.56667, 26.58333], [-70.75, 44.61667], [37.5, 48.7], [76.86667, 20.88333], [-0.55, 47.46667], [-44.31667, -22.96667], [39.71667, 9.53333], [-2.71667, 53.58333], [5.38333, 43.86667], [-66, -33], [-94.3, 38.5], [-60.66667, -31.41667], [9.03333, 42.45], [0.3, 52.05], [12.55, 43.03333], [80.625, 25.25417], [-103.66667, 20.06667], [-87, 34.75], [-96.15, 34.31667], [5.16667, 44.38333], [3.66667, 36.16667], [3.23333, 44.33333], [0.58333, 43.08333], [-49.95083, -21.46028], [13.5, 46], [-103.5, 25], [32.83333, 2.71667], [-108, 36.8], [38, 48.6], [78.5, 28.48333], [-82.48333, 35.96667], [-88.66667, 34.5], [16.38333, 5.38333], [107.6, -6.91667], [76.33333, 27.7], [78.2, 30.4], [106, -6.33333], [-0.05, 43.95], [2.16667, 41.36667], [-2.5, 42.38333], [84.08333, 52.73333], [9.1, 52], [76.8, 31.61667], [-1.33972, 52.56528], [-98.31667, 45.41667], [-83.75, 38.25], [-93.5, 36.75], [-101.2, 39.8], [-117.33333, 51.16667], [-4.1, 53.01667], [-96.46667, 33.6], [-64.86667, -32.33333], [82.91667, 25.36667], [-89.15, 39.08333], [28.41667, -26.16667], [-67.55, 45.95], [-3.65, 11.65], [-3.8, 41.68333], [-73.83333, 42.53333], [-0.23333, 43.21667], [35.5, 33.88333], [74.83333, 20.88333], [71.46667, 20.83333], [90.65, 22.68333], [86.9, 22.08333], [23.2, 53.1], [27.16667, 50.13333], [5.3, 13.76667], [-80.28333, 34.16667], [82.6, 25.38333], [30.16667, 49.78333], [25.8, 60.4], [-78.08333, 40.91667], [-97.33333, 36.83333], [-98.83333, 31.83333], [16.63333, 49.36667], [-89.00417, 40.48], [-102, 23], [0.7, 12.5], [131.63333, 44.55], [10.05, 44.86667], [78.03333, 21.95], [52.48333, 54.23333], [24.28333, 48.15], [35.86667, 55.46667], [33.88333, 51.33333], [-6.33333, 54.56667], [-80.08333, 40.5], [16.3, 50.6], [8.18361, 50.66694], [9.1, 53.4], [59.31667, 52.13333], [-112.88333, 53.9], [9.58333, 10.01667], [48, 5], [29.23333, 40.2], [25.78333, 46.45], [82.83333, 26.78333], [84.08333, 27.08333], [-1.16667, 37.98333], [-93.5, 35.5], [20.33333, 43.83889], [122.33333, 11.75], [26.6, 39.8], [1.66667, 41.25], [-5.15, 43.38333], [-89.58333, 37.26667], [-64.55, -30.88333], [27, 38.5], [-78.06667, 36.08333], [11.5, 43.35], [-68.75, 44.38333], [16.2, 39.8], [-79.25, 36.5], [-96.91667, 43.2], [8.3, 45.08333], [81.66667, 25.36667], [83.48333, 25.85], [-58.05, -30.78333], [76.01667, 20.26667], [79.05, 27.28333], [1.05, 46.68333], [-87.33333, 36.16667], [1.56667, 47.93333], [75.5, 29.48333], [5.36667, 47.71667], [2.91667, 47.93333], [-7.46667, 41.93333], [30.1, 53.7], [-81.88333, 35.03333], [6.81667, 46.55], [34, 50.83333], [76.5, 14.5], [-79.73333, 40.93333], [13.96667, -17.35], [-90.28333, 44.9], [19.38333, -33.13333], [12.61667, 42.53333], [-47.55, -19.85], [-100.86667, 21.16667], [76.26667, 10.2], [-97.58333, 35.95], [27.3, -27.7], [-78.13333, 35.63333], [-6.21667, 54.61667], [-84.35, 36.83333], [-84.25, 38.4], [83.96667, 26.91667], [24.56667, -28.2], [-87.06667, 34.4], [8.65, 49.86667], [-80, 43], [-74, 40.25], [77.25, 28.56667], [84.76667, 51.46667], [-104.93056, 39.7825], [73.61667, 25.73333], [75.6, 14.88333], [76.46667, 32.23333], [18.56667, -33.75], [-60.46667, -31.88333], [111.5, -7.5], [15.05, 12.73333], [90.33333, 23.5], [25.3, 50.75], [29, 40], [82.45, 21.86667], [112.3, 51.2], [3.16667, 13.05], [-6.3, 32.33333], [-86.5, 36.4], [-82.26, 42.52], [18.44167, 42.45833], [-8.03333, 52.55], [76.63333, 30.3], [39.5, -4], [127.26667, 33.43333], [82, 26.25], [151, -3], [-96.47167, 40.78167], [15.83333, -17.3], [11.21667, 48.9], [13, 56.03333], [78.78333, 28.26667], [12.73333, 50.18333], [37.66667, 47.83333], [4, 51.75], [151.61667, -29.46667], [7.35, 47.86667], [6.46667, 48.18333], [81.89167, 19.03333], [44.5, 40.3], [44.16667, 1.16667], [11.25, 52.21667], [-1.1, 46.25], [30.83333, 2.88333], [-94.83333, 43.41667], [-97.03333, 39.75], [-77.53333, 35.55], [2.81667, 44.38333], [-94.16667, 36.05], [8.45, 36.88333], [-87.16667, 32.53333], [116.75, 34.6], [-81.41667, 36.1], [-96.85, 47.81667], [-97.76667, 30.83333], [-93.66667, 43.25], [146.85833, -33.35], [-78.08333, 36.78333], [7.31667, 50.95], [-83.96667, 33.01667], [7, 28.25], [-87.83333, 34.48333], [113.56694, 31.47556], [130.2, 33.18333], [10.33333, 55.33333], [80.81667, 25.95], [0.4, 44.3], [12.43333, 7.05], [12.43333, 7.05], [68.53333, 27.35], [-2.18333, 11.65], [68.53333, 27.88333], [-112.13333, 41.68333], [11.91667, 12.91667], [136.88333, 35.53333], [13.56667, 37.31667], [9.91667, 9.6], [107.7, -7.25], [37.61667, 57.35], [16.76667, 50.66667], [89.05, 24.23333], [2.25, 42.9], [45.38333, 43.66667], [18.71667, 49.26667], [30.58333, 46.35], [15.5, 51.93333], [16.63333, 52.86667], [-58.61667, -33], [-6.01667, 38.73333], [20.23333, 43.76667], [13.98333, 9.91667], [24.7, 42.9], [78.56667, 13.78333], [8.38333, 51.91667], [127.5, 35], [139.33333, 35.65], [3.73333, 50.31667], [16.23333, 57.81667], [-86.6, 41.38333], [82.53333, 26.8], [75.78333, 28.38333], [-94.51167, 32.675], [-86.16667, 38.25], [136.70033, 35.2945], [0.81667, 28.95], [-1.51667, 51.65], [13.78333, 55.46667], [35.66667, 27.33333], [-84.1, 10], [17.66667, 59.85], [130.43333, 33.6], [-4.23333, 55.9], [21.2, 64.43333], [-110.18333, 34.9], [38.41667, 9.06667], [-91.86667, 41.8], [-157.86667, 21.3], [115.5, 35.66667], [-100.45, 39.35], [16.33333, 46.1], [8.91667, 50.3], [22.68333, 61.18333], [7.7, 52.28333], [-45, -20], [35, 38], [82.93333, 58.2], [28.33333, -32.1], [46.66667, 39.75], [-94.4, 39.08333], [112, 41], [33.8, -8.93333], [-57.95, -31.18333], [-44.33333, -3.4], [32.43333, -8.41667], [21.9, -32.5], [68.41667, 26.75], [75, 31], [75.33333, 18.75], [20.44167, 43.83333], [72.38333, 31.3], [104.91667, 31.91667], [109.5, 30.80833], [24.4, 55.7], [-104.9, 40.35], [-0.45, 45.43333], [76.8, 12.85], [-7.27, 38.74028], [4.3, 44.71667], [21.3, 47.35], [78.33333, 27.08333], [79.96667, 27.25], [30.83333, 49.86667], [53.25, 55.43333], [78.51667, 12.38333], [21.66667, 45.13333], [29.5, -6.83333], [73.98333, 17.83333], [81.46667, 26.03333], [139.95667, 36.04167], [75.8, 14.18333], [65.78333, 31.6], [115.5, -7], [76.3, 32.08333], [33.63333, 4.7], [73.36667, 42.45], [81.01667, 47.21667], [35.58333, -3.5], [7.15, 12.9], [67.16667, 27.8], [71.6, 31.58333], [139.91667, -35.08333], [136.76667, 35.36667], [31.78, 39.26333], [112.01667, -7.75], [-96, 29.45], [-3.3, 48.4], [-3.08333, 48.11667], [141.61667, 38.98333], [72.3, 29.53333], [83.11667, 25.55], [35.075, 50.625], [77.88333, 26.95], [75.81667, 28.01667], [75.33333, 56.75], [81.53333, 25.1], [36, 16], [10.15, 54.4], [138.38333, 36.85], [34, 55], [-89.6, 43.58333], [-7.66667, 54.66667], [24.68333, 11.63333], [-95.95, 30.75], [22.30833, 48.16667], [10.8, 51.6], [22.4, 48.9], [139.75, 35.73333], [26.16667, 42.51667], [7.46472, 49.32694], [40.9, 54.03333], [56.08333, 54.33333], [77, 56.8], [30.76667, 47.83333], [31.7, 51.15], [66.80222, 30.73111], [33.5, 50.75], [45, 41.11667], [61.36667, 55.78333], [138.38333, 37.05], [78.38333, 29.68333], [76.03333, 10.83333], [75.33333, 55.2], [130.63333, 32.03333], [1.75, 47.08333], [-101.28333, 20.66667], [-61.53333, -37.33333], [5.58333, 44.28333], [82.71667, 26.78333], [0.63333, 48.76667], [76.03333, 21.86667], [78.56667, 24.45], [1.06667, 47.7], [5.11667, 43.75], [16.73333, 58.85], [16.23333, 47.75], [-1.11667, 51.9], [51.56667, 52.45], [0.43333, 47.16667], [-0.86667, 48.53333], [-99.33333, 35.88333], [28.36667, -25.66667], [-87.5, 34.58333], [32.85, 52.26667], [3.25, 48.35], [4.73333, 50.36667], [15.86667, 56.65], [-8.78333, 52.56667], [12.9, 52.75], [14.85, 50.2], [-92.08333, 37.91667], [26.43333, 56], [71.8, 29.53333], [-0.83333, 38], [19.91667, 52], [75.15, 24.95], [0.48333, 47.85], [-84.76667, 32.03333], [13.03333, 56.21667], [27.7, 61.2], [5, 46.21667], [29.43333, -7.21667], [97, 19], [-36.66667, -5.2], [31.95, -28.83333], [86.36667, 25.91667], [111.53333, -7.75], [-3.71667, 40.41667], [-49.93333, -26.16667], [27.51667, 37.86667], [-104, 32.21667], [33.51667, -3.13333], [-63.23333, -28.93333], [26.76667, -29.45], [62.08333, 45.21667], [86.7, 23.05], [76.1, 20.96667], [31.6, -17.65], [44.63333, 45.81667], [72.08333, 34.23333], [-99.38333, 42.71667], [29.25, 4.66667], [-91.6, 41.9], [30.5, 61.5], [0.15, 44.5], [1.86667, 45.36667], [12.61667, 48.13333], [13.13333, 48.18333], [57, -20], [-101.68333, 24.68333], [30, -1.21667], [-67.5, -27.25], [77.8, 29.01667], [106.88333, -6.23333], [13.15, 53.18333], [7.21817, 46.81867], [12.06667, 55.05], [37.66667, 0], [81.98333, 25.48333], [15.56667, 38.18333], [11.1, 50.58333], [3.25, 45.76667], [25.73333, 46.5], [83.61667, 25.9], [-1.16667, 54.56667], [30.96667, 48.06667], [17.53333, 46.23333], [16.1, 46.18333], [120.36667, -26.45], [-92.05, 35.4], [136.93333, 35.07833], [14.7, 37.28333], [120.66667, 32.33333], [16.6, 47.7], [83.25, 25.68333], [23, 56.66667], [5.93333, 61.73333], [24.03333, 46.8], [-101.1, 38.5], [174.4, -39.63333], [-1.16667, 38.11667], [26.46667, -31.25], [-80.5, 35.25], [-8.25, 38.01667], [13.35, 43.26667], [1.9625, 43.39056], [1.58333, 47.63333], [27.35, -15.96667], [-79.38333, 35.41667], [-8.33333, 52.45], [145.6, -40.975], [78.83333, 28.78333], [5.13333, 44.6], [77.33333, 26.83333], [8.5, 45.2], [141.7, -29.8], [6.86667, 44.08333], [33.5, -11.5], [77.01667, 12.63333], [80.83333, 9.33333], [90.21667, 24.5], [145.2, -36.61667], [-88.1, 36.6], [85.53333, 26.13333], [72.63333, 23.05], [1, 12], [140.06167, 38.12167], [78.21667, 26.98333], [19.5, 49.16667], [30.35, 31.31667], [100.08333, 13.73333], [79.2, 12.28333], [103.5, 35.66667], [-77.16667, 38.41667], [77, 19.25], [150.68889, -34.05], [12.51667, 42.51667], [165.9, -21.73333], [83.66667, 21.25], [83.48333, 18.68333], [21.5, 56.5], [-81.76667, 40], [111.41667, -7.45], [-4.38333, 13.85], [-1.43333, 49.03333], [78.63333, 52.45], [37.33333, 56.11667], [131.56667, 34.2], [30.7, -28.56667], [-69.48333, 44.08333], [130.75, 33.725], [-59.83333, -32.36667], [-92.26667, 36.21667], [-99.86667, 39.68333], [46, 54.81667], [31.33333, 58.55], [22, 56], [102.46667, 42.91667], [0.75, 41.63333], [141.86667, 43.33333], [94.91667, 21.20833], [22.025, 47.55], [55.26667, 57.78333], [8.05, 52.28333], [23, 58.5], [22.03333, 47.88333], [130.2, 33.28333], [23.58333, 46.06667], [8.5, 6.75], [-5.4, 38.18333], [139.21667, 36.18333], [135.2, 35.08333], [25.5, 50.83333], [8.16667, 52.95], [-0.03333, 39], [-7.06667, 38.71667], [-2.1, 39.56667], [1.38333, 43.88333], [6.15, 47.11667], [8, 48.5], [12.93333, 42.13333], [9.4, 58.88333], [140.35, 38.4], [-95.21667, 38.6], [16, -18], [-5.86667, 43.4], [28.83333, 51.33333], [-99.3, 21.05], [25, 55.66667], [120.45583, 17.74333], [-89.71667, 32.31667], [118.61667, 43.48333], [-91.5, 39.8], [-157.78333, 21.3], [120.7, 15.08333], [124.28333, 8.06667], [-90.5, 36.06667], [-40.7, -6.23333], [-51.66667, -19.13333], [78.35, 9.23333], [85.4, 26.2], [-103.4, 36.21667], [82.05, 20.93694], [-48.56667, -19.53333], [14.96667, 38.13333], [91.18333, 23.15], [25.51667, 43.46667], [77.03333, 52.3], [35.98333, 48.53333], [43, 52.03333], [-117.93333, 56.13333], [9.25, 51.66667], [-103.11667, 30.125], [35.5, -10.66667], [91, 23.325], [-3.43333, 56.4], [39.43333, 56.63333], [66.08333, 55.5], [-86.63333, 35.3], [-7.33333, 53.53333], [-99.25, 40], [108.58333, 11.25], [105.48333, 12], [108.1, 15.71667], [11.50222, 44.24417], [-6.23333, 41.36667], [25.73333, 58.66667], [18.71667, -32.86667], [88.45, 25.8], [76, 29.58333], [-83.51667, 31.95], [-96.11667, 30.7], [14.11667, 50.53333], [104.91667, 11.58333], [12.13333, 50.93333], [82.66667, 26.71667], [14.015, 66.34833], [-4.31944, 53.03639], [-8, 38.5], [118.5, 31.41667], [13.94083, 48.3025], [14.03333, 49.66667], [-83.85, 39.11667], [75.18333, 23.36667], [21.26667, 52.76667], [78.95, 13.33333], [-53.05, -29.03333], [28.7, -30.11667], [95.18333, 17.76667], [-0.66667, 39], [0.25, 46.6], [-65.45, -26.66667], [37.03333, 52.98333], [82.9, 26.45], [87.76667, 24.16667], [6.93333, 51.88333], [87.08333, 23.98333], [-100.81667, 19.86667], [72.01667, 25.38333], [115.7, 38.2], [50.15, 26.66667], [26.53333, 43.5], [17.98333, 52.2], [-5.33333, 42.475], [111.36667, -6.73333], [11.28333, 44.76667], [-65.28333, -32.75], [116.13333, 38.66667], [45.66667, 48.6], [-118.95, 51.33333], [76.66667, 28.2], [-83.03333, 35.03333], [-66.15, -44.11667], [-102.31667, 46.88333], [-77.5, 37.46667], [-49.8, -26.1], [9.51667, 45.48333], [-86.28333, 41.08333], [150.51667, -23.38333], [0.55, 42.3], [10.8, 50.35], [-83.95, 44.51667], [-2.51667, 52.76667], [36.53333, 0.26667], [38.76667, -10.26667], [34.5, 51.13333], [82.08333, 27.43333], [14.88333, 51.53333], [1.38333, 43.73333], [0.23333, 45.3], [136.3, 35.66667], [4.63333, 46.05], [74.86667, 25.66667], [-71.4, -31.01667], [-100.65, 19.76667], [-51.86667, -29.2], [-99.33333, 24.16667], [-61.7, -33.9], [-49.38056, -20.81], [46.55, 52.55], [137.78333, 34.71667], [-0.85, 43.15], [29.86667, 47.21667], [17.56667, 49.23333], [15.05, 53.35], [-73.95028, 42.86083], [10.46667, 48.11667], [-69.2, 44.36667], [27.13333, 38.3], [84.78333, 26.75], [107.33333, -7.23333], [4.98333, 22.83333], [79, 22.25], [-0.05, 41.71667], [79.50083, 21.68389], [23.56667, 41.05], [-36.76667, -8.38333], [-44.21667, -19.46667], [-6, 37.41667], [36.6, 50.61667], [87.3, 23.1], [-76.7, 37.83333], [-80.16667, 44.05], [84.83333, 24.55], [87.5775, 25.85], [74.83333, 33.71667], [90.16667, 24.33333], [11.6, 43.11667], [134.65333, 46.16], [27.26667, 44.11667], [7.53333, 49.98333], [32.48333, 30.9], [69.55, 26.21667], [9.2, 39.3], [-103.66667, 42.58333], [82.58333, 20.91667], [10.86667, 59.73333], [15.6, 45.68333], [35, 55], [84.06667, 27.13333], [21.86667, 43.66667], [1.73333, 47.36667], [135.33333, 35.16667], [23.5, 44.41667], [33.63333, 1.7], [0.05, 44.75], [-1.5, 46.95], [3.75, 51.05], [-1.15, 48.01667], [-90.23333, 38.7], [27.41667, -32.01667], [-76.38333, 38.16667], [3.93333, 48.45], [27.2, 61.65], [2.95, 43.43333], [14.95, 59.93333], [15.56667, 49.28333], [41.98333, 45.05], [3, 50.76667], [9.05, 52.53333], [-3.25, 56.58333], [-3.95, 50.38333], [-90.66667, 36.48333], [16.26333, 50.53806], [84.28333, 25.93333], [133.16667, 44.86667], [84.21667, 26.71667], [-86.2945, 33.18836], [14.65, 49.4], [5.41667, 36.18333], [134.9, 35.38333], [136.23333, 35.43333], [122.9, 45.4], [10.41667, 32.95], [43.73333, 19.38333], [44.45, 35.13333], [23.5, 46.71667], [142.95, -25.73333], [26.95, 58.03333], [70.6, 33.4], [17.11667, 49.6], [-89.68333, 38.2], [35.2, 54.5], [79.41667, 13.63333], [111.53333, -7.08333], [106.58333, -6.66667], [34.76667, 47.85]]\n"
     ]
    }
   ],
   "source": [
    "print(\"List of Coordinates that fell before 1970:\")\n",
    "print(lists)"
   ]
  },
  {
   "cell_type": "code",
   "execution_count": 10,
   "id": "0e2e05d8-4840-44c7-b245-3cc1d7033edc",
   "metadata": {},
   "outputs": [],
   "source": [
    "lists = []\n",
    "for i in data_json:\n",
    "    if \"mass\" in list(i.keys()):\n",
    "        if float(i['mass'])>10000:\n",
    "            lists.append(i['name']) "
   ]
  },
  {
   "cell_type": "code",
   "execution_count": 11,
   "id": "2b7788ed-6108-4e08-9550-ac73b6be6c03",
   "metadata": {},
   "outputs": [
    {
     "name": "stdout",
     "output_type": "stream",
     "text": [
      "List of Meteorites that weight more than 10000Kg:\n",
      "['Abee', 'Agen', 'Aïr', 'Akyumak', 'Alfianello', 'Allegan', 'Allende', 'Andura', 'Appley Bridge', 'Aumale', 'Ausson', 'Bachmut', 'Bahjoi', 'Ban Rong Du', 'Bandong', 'Bansur', 'Barwell', 'Bassikounou', 'Baszkówka', 'Bath', 'Bath Furnace', 'Beardsley', 'Beaver Creek', 'Benguerir', \"Beni M'hira\", 'Bensour', 'Béréba', 'Bilanga', 'Bjurböle', 'Boguslavka', 'Braunau', 'Bruderheim', 'Bur-Gheluai', 'Bursa', 'Butsura', 'Buzzard Coulee', 'Cabezo de Mayo', 'Cabin Creek', 'Campos Sales', 'Cangas de Onis', 'Castrovillari', 'Chajari', 'Chantonnay', 'Charsonville', 'Charwallas', 'Château-Renard', 'Chelyabinsk', 'Chergach ', 'Colby (Wisconsin)', 'Conquista', 'Cumberland Falls', 'Dahmani', 'Demina', 'Dergaon', 'Desuri', 'Devgaon', 'Dhajala', 'Dhurmsala', 'Djati-Pengilon', 'Dong Ujimqin Qi', 'Dresden (Ontario)', 'Durala', 'El Paso de Aguila', 'Elbogen', 'Elenovka', 'Ensisheim', 'Ergheo', 'Estherville', 'Farmington', 'Farmville', 'Fermo', 'Fisher', 'Forest City', 'Forest Vale', 'Forsyth', 'Fuhe', 'Fukutomi', 'Gifu', 'Girgenti', 'Glasatovo', 'Gross-Divina', 'Gualeguaychú', 'Guareña', 'Gujba', 'Gursum', 'Hatford', 'Hessle', 'Holbrook', 'Homestead', 'Hraschina', 'Hvittis', 'Indarch', 'Jackalsfontein', 'Jartai', 'Jelica', 'Jianshi', 'Jilin', 'Johnstown', 'Juancheng', 'Jumapalo', 'Juromenha', 'Juvinas', 'Kabo', 'Kainsaz', 'Kapoeta', 'Karkh', 'Karoonda', 'Kasauli', 'Kayakent', 'Kernouve', 'Kesen', 'Khairpur', 'Kidairat', 'Kilabo', 'Knyahinya', 'Kokubunji', 'Krähenberg', 'Krymka', 'Kunashak', 'Kunya-Urgench', 'Kuttippuram', 'Kyushu', 'La Criolla', \"L'Aigle\", 'Lancé', 'Laochenzhen', 'Leedey', 'Limerick', 'Lissa', 'Lohawat', 'Lost City', 'Łowicz', 'Lundsgård', 'Luponnas', 'Machinga', 'Mahadevpur', 'Mangwendi', 'Marion (Iowa)', 'Marjalahti', 'Mauerkirchen', 'Mbale', 'Meester-Cornelis', 'Menow', 'Merua', 'Mezö-Madaras', 'Millbillillie', 'Miller (Arkansas)', 'Mocs', 'Modoc (1905)', 'Molina', 'Montferré', 'Mount Browne', 'Mount Tazerzait', 'Mount Vaisi', 'Murchison', 'Murray', 'Nakhon Pathom', 'Nan Yang Pao', 'Naoki', 'Nerft', 'New Concord', 'New Halfa', 'New Orleans', \"N'Goureyma\", 'Ningbo', \"N'Kandhla\", 'Norton County', 'Nuevo Mercurio', 'Ochansk', 'Ogi', 'Ohaba', 'Okniny', 'Oldenburg (1930)', 'Olivenza', 'Olmedilla de Alarcón', 'Omolon', 'Orgueil', 'Oum Dreyga', 'Ourique', 'Palinshih', 'Pampanga', 'Paragould', 'Paranaiba', 'Park Forest', 'Parnallee', 'Patwar', 'Pavlograd', 'Peace River', 'Peekskill', 'Peña Blanca Spring', 'Perpeti', 'Pervomaisky', 'Phillips County (stone)', 'Phuoc-Binh', 'Pillistfer', 'Piplia Kalan', 'Portales Valley', 'Pultusk', 'Putinga', 'Quesa', 'Quija', 'Raghunathpura', 'Rahimyar Khan', 'Rasgrad', 'Reliegos', 'Uzcudun', 'Richardton', 'Rose City', 'Ryechki', 'Saint-Sauveur', 'Saint-Séverin', 'Saratov', 'Seoni', 'Sevrukovo', 'Shelburne', 'Sikhote-Alin', 'Sivas', 'Soko-Banja', 'Sone', 'Songyuan', \"St. Mark's\", 'St. Michel', 'Ställdalen', 'Stannern', 'Sterlitamak', 'Strathmore', 'Stretchleigh', 'St-Robert', 'Suizhou', 'Sulagiri', 'Tambakwatu', 'Tamdakht', 'Tatahouine', 'Tauti', 'Tenham', 'Tennasilm', 'Thika', 'Thuathe', 'Tieschitz', 'Tilden', 'Timochin', 'Tjabe', 'Tjerebon']\n"
     ]
    }
   ],
   "source": [
    "print(\"List of Meteorites that weight more than 10000Kg:\")\n",
    "print(lists)"
   ]
  }
 ],
 "metadata": {
  "kernelspec": {
   "display_name": "Python 3 (ipykernel)",
   "language": "python",
   "name": "python3"
  },
  "language_info": {
   "codemirror_mode": {
    "name": "ipython",
    "version": 3
   },
   "file_extension": ".py",
   "mimetype": "text/x-python",
   "name": "python",
   "nbconvert_exporter": "python",
   "pygments_lexer": "ipython3",
   "version": "3.10.6"
  }
 },
 "nbformat": 4,
 "nbformat_minor": 5
}
