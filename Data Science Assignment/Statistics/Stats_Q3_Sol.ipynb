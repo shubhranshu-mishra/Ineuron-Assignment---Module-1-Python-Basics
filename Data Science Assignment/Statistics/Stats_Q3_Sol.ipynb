{
 "cells": [
  {
   "cell_type": "code",
   "execution_count": 5,
   "id": "b0f6c621-37c6-409c-b2d2-8715b2f5d697",
   "metadata": {},
   "outputs": [],
   "source": [
    "import pandas as pd\n",
    "df = pd.read_excel(\"data.xlsx\")"
   ]
  },
  {
   "cell_type": "code",
   "execution_count": 6,
   "id": "cfa8fef6-8b99-41ee-8196-0b869f91cc13",
   "metadata": {},
   "outputs": [
    {
     "data": {
      "text/plain": [
       "Index(['Patient ID', ' Blood Pressure Before (mmHg)',\n",
       "       ' Blood Pressure After (mmHg)'],\n",
       "      dtype='object')"
      ]
     },
     "execution_count": 6,
     "metadata": {},
     "output_type": "execute_result"
    }
   ],
   "source": [
    "df.columns"
   ]
  },
  {
   "cell_type": "code",
   "execution_count": 7,
   "id": "eda58d31-72a3-4146-bd22-14a8ca4e8da5",
   "metadata": {},
   "outputs": [
    {
     "data": {
      "text/plain": [
       "(100, 3)"
      ]
     },
     "execution_count": 7,
     "metadata": {},
     "output_type": "execute_result"
    }
   ],
   "source": [
    "df.shape"
   ]
  },
  {
   "cell_type": "code",
   "execution_count": 8,
   "id": "ce7085e5-09b0-4459-9d07-97bd6f08c0d7",
   "metadata": {},
   "outputs": [],
   "source": [
    "import numpy as np"
   ]
  },
  {
   "cell_type": "code",
   "execution_count": 9,
   "id": "ba41ecc6-87bd-4958-9743-b43ffb2fcf23",
   "metadata": {},
   "outputs": [
    {
     "name": "stdout",
     "output_type": "stream",
     "text": [
      "Dispersion in Blood Pressure before is: 6.5652037287505385\n"
     ]
    }
   ],
   "source": [
    "bfr = np.std(df[' Blood Pressure Before (mmHg)'])\n",
    "print(\"Dispersion in Blood Pressure before is:\",bfr)"
   ]
  },
  {
   "cell_type": "code",
   "execution_count": 10,
   "id": "1755e541-beee-4352-aea0-913f03a0db25",
   "metadata": {},
   "outputs": [
    {
     "name": "stdout",
     "output_type": "stream",
     "text": [
      "Dispersion in Blood Pressure after is: 6.853495458523338\n"
     ]
    }
   ],
   "source": [
    "aft = np.std(df[' Blood Pressure After (mmHg)'])\n",
    "print(\"Dispersion in Blood Pressure after is:\",aft)"
   ]
  },
  {
   "cell_type": "code",
   "execution_count": 11,
   "id": "09ce1213-86f4-4e06-bdcb-a7c41ce1991b",
   "metadata": {},
   "outputs": [
    {
     "data": {
      "text/plain": [
       "133.91"
      ]
     },
     "execution_count": 11,
     "metadata": {},
     "output_type": "execute_result"
    }
   ],
   "source": [
    "np.mean(df[' Blood Pressure Before (mmHg)'])"
   ]
  },
  {
   "cell_type": "code",
   "execution_count": 12,
   "id": "861c9276-981d-49dc-868f-1453abc4fb70",
   "metadata": {},
   "outputs": [
    {
     "data": {
      "text/plain": [
       "128.36"
      ]
     },
     "execution_count": 12,
     "metadata": {},
     "output_type": "execute_result"
    }
   ],
   "source": [
    "np.mean(df[' Blood Pressure After (mmHg)'])\n"
   ]
  },
  {
   "cell_type": "code",
   "execution_count": 13,
   "id": "37fa14a3-b514-41e0-8689-a5a6138f18c7",
   "metadata": {},
   "outputs": [
    {
     "name": "stdout",
     "output_type": "stream",
     "text": [
      "Mean Absolute Deviation of Blood pressure before: 5.7118\n"
     ]
    },
    {
     "name": "stderr",
     "output_type": "stream",
     "text": [
      "/tmp/ipykernel_1508/3664206444.py:1: FutureWarning: The 'mad' method is deprecated and will be removed in a future version. To compute the same result, you may do `(df - df.mean()).abs().mean()`.\n",
      "  print(\"Mean Absolute Deviation of Blood pressure before:\",df[' Blood Pressure Before (mmHg)'].mad())\n"
     ]
    }
   ],
   "source": [
    "print(\"Mean Absolute Deviation of Blood pressure before:\",df[' Blood Pressure Before (mmHg)'].mad())"
   ]
  },
  {
   "cell_type": "code",
   "execution_count": 14,
   "id": "55b7bd46-6962-463e-9fc9-31b61543f0f2",
   "metadata": {},
   "outputs": [
    {
     "name": "stdout",
     "output_type": "stream",
     "text": [
      "Mean Absolute Deviation of Blood pressure after: 5.9\n"
     ]
    },
    {
     "name": "stderr",
     "output_type": "stream",
     "text": [
      "/tmp/ipykernel_1508/1973495513.py:1: FutureWarning: The 'mad' method is deprecated and will be removed in a future version. To compute the same result, you may do `(df - df.mean()).abs().mean()`.\n",
      "  print(\"Mean Absolute Deviation of Blood pressure after:\",df[' Blood Pressure After (mmHg)'].mad())\n"
     ]
    }
   ],
   "source": [
    "print(\"Mean Absolute Deviation of Blood pressure after:\",df[' Blood Pressure After (mmHg)'].mad())\n"
   ]
  },
  {
   "cell_type": "code",
   "execution_count": 15,
   "id": "bc1522b1-8126-4753-ac95-d06d5b9e51b0",
   "metadata": {},
   "outputs": [
    {
     "data": {
      "text/html": [
       "<div>\n",
       "<style scoped>\n",
       "    .dataframe tbody tr th:only-of-type {\n",
       "        vertical-align: middle;\n",
       "    }\n",
       "\n",
       "    .dataframe tbody tr th {\n",
       "        vertical-align: top;\n",
       "    }\n",
       "\n",
       "    .dataframe thead th {\n",
       "        text-align: right;\n",
       "    }\n",
       "</style>\n",
       "<table border=\"1\" class=\"dataframe\">\n",
       "  <thead>\n",
       "    <tr style=\"text-align: right;\">\n",
       "      <th></th>\n",
       "      <th>Blood Pressure Before (mmHg)</th>\n",
       "      <th>Blood Pressure After (mmHg)</th>\n",
       "    </tr>\n",
       "  </thead>\n",
       "  <tbody>\n",
       "    <tr>\n",
       "      <th>Blood Pressure Before (mmHg)</th>\n",
       "      <td>1.000000</td>\n",
       "      <td>0.977949</td>\n",
       "    </tr>\n",
       "    <tr>\n",
       "      <th>Blood Pressure After (mmHg)</th>\n",
       "      <td>0.977949</td>\n",
       "      <td>1.000000</td>\n",
       "    </tr>\n",
       "  </tbody>\n",
       "</table>\n",
       "</div>"
      ],
      "text/plain": [
       "                                Blood Pressure Before (mmHg)  \\\n",
       " Blood Pressure Before (mmHg)                       1.000000   \n",
       " Blood Pressure After (mmHg)                        0.977949   \n",
       "\n",
       "                                Blood Pressure After (mmHg)  \n",
       " Blood Pressure Before (mmHg)                      0.977949  \n",
       " Blood Pressure After (mmHg)                       1.000000  "
      ]
     },
     "execution_count": 15,
     "metadata": {},
     "output_type": "execute_result"
    }
   ],
   "source": [
    "df.drop(\"Patient ID\",inplace=True,axis=1)\n",
    "df.corr(\"pearson\")"
   ]
  },
  {
   "cell_type": "code",
   "execution_count": 16,
   "id": "f1c082f7-4eee-4ac7-84f4-f86371511edb",
   "metadata": {},
   "outputs": [],
   "source": [
    "import math\n",
    "r = 0.977949\n",
    "n = 100"
   ]
  },
  {
   "cell_type": "code",
   "execution_count": 17,
   "id": "03826176-21f0-497e-abb0-e28b94cd8142",
   "metadata": {},
   "outputs": [],
   "source": [
    "den = math.sqrt((1-r*r)/(n-2))\n"
   ]
  },
  {
   "cell_type": "code",
   "execution_count": 18,
   "id": "4dc170f0-b9ce-4e9c-b7cb-671181e6deae",
   "metadata": {},
   "outputs": [],
   "source": [
    "t = r/den\n"
   ]
  },
  {
   "cell_type": "code",
   "execution_count": 19,
   "id": "dd6bd4ca-ea7f-4cbb-a990-20fd5a23f7a8",
   "metadata": {},
   "outputs": [
    {
     "data": {
      "text/plain": [
       "46.3561709155614"
      ]
     },
     "execution_count": 19,
     "metadata": {},
     "output_type": "execute_result"
    }
   ],
   "source": [
    "t"
   ]
  }
 ],
 "metadata": {
  "kernelspec": {
   "display_name": "Python 3 (ipykernel)",
   "language": "python",
   "name": "python3"
  },
  "language_info": {
   "codemirror_mode": {
    "name": "ipython",
    "version": 3
   },
   "file_extension": ".py",
   "mimetype": "text/x-python",
   "name": "python",
   "nbconvert_exporter": "python",
   "pygments_lexer": "ipython3",
   "version": "3.10.6"
  }
 },
 "nbformat": 4,
 "nbformat_minor": 5
}
