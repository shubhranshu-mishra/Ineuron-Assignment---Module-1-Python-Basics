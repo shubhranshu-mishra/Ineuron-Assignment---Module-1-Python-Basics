{
 "cells": [
  {
   "cell_type": "code",
   "execution_count": 1,
   "id": "471656c6-28bb-4874-b6a0-5836de78b582",
   "metadata": {},
   "outputs": [
    {
     "name": "stdout",
     "output_type": "stream",
     "text": [
      "a. Probability of exactly 20 bulbs being defective: 0.05161619253663997\n",
      "b. Probability of at least 10 bulbs being defective: 0.9998316463654692\n",
      "c. Probability of at most 15 bulbs being defective: 0.019858377163006223\n",
      "d. Expected number of defective bulbs: 25.0\n"
     ]
    }
   ],
   "source": [
    "import math\n",
    "\n",
    "def binomial_probability(n, x, p):\n",
    "    combinations = math.comb(n, x)\n",
    "    probability = combinations * (p ** x) * ((1 - p) ** (n - x))\n",
    "    return probability\n",
    "\n",
    "# a. Probability of exactly 20 bulbs being defective\n",
    "n = 500\n",
    "x = 20\n",
    "p = 0.05\n",
    "probability_20_defective = binomial_probability(n, x, p)\n",
    "\n",
    "# b. Probability of at least 10 bulbs being defective\n",
    "probability_at_least_10_defective = sum(binomial_probability(n, x, p) for x in range(10, n+1))\n",
    "\n",
    "# c. Probability of at most 15 bulbs being defective\n",
    "probability_at_most_15_defective = sum(binomial_probability(n, x, p) for x in range(0, 16))\n",
    "\n",
    "# d. Expected number of defective bulbs\n",
    "expected_defective_bulbs = n * p\n",
    "\n",
    "print(\"a. Probability of exactly 20 bulbs being defective:\", probability_20_defective)\n",
    "print(\"b. Probability of at least 10 bulbs being defective:\", probability_at_least_10_defective)\n",
    "print(\"c. Probability of at most 15 bulbs being defective:\", probability_at_most_15_defective)\n",
    "print(\"d. Expected number of defective bulbs:\", expected_defective_bulbs)\n"
   ]
  }
 ],
 "metadata": {
  "kernelspec": {
   "display_name": "Python 3 (ipykernel)",
   "language": "python",
   "name": "python3"
  },
  "language_info": {
   "codemirror_mode": {
    "name": "ipython",
    "version": 3
   },
   "file_extension": ".py",
   "mimetype": "text/x-python",
   "name": "python",
   "nbconvert_exporter": "python",
   "pygments_lexer": "ipython3",
   "version": "3.10.6"
  }
 },
 "nbformat": 4,
 "nbformat_minor": 5
}
