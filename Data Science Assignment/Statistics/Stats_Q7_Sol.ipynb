{
 "cells": [
  {
   "cell_type": "code",
   "execution_count": 2,
   "id": "ac8c7a32-94e9-4662-8984-a7bfbf91b202",
   "metadata": {},
   "outputs": [],
   "source": [
    "Var_X = 4\n",
    "slope_Y_X = -1/2"
   ]
  },
  {
   "cell_type": "code",
   "execution_count": 3,
   "id": "ea1b3aae-8ceb-44b9-91d7-d3a5c92b2262",
   "metadata": {},
   "outputs": [
    {
     "name": "stdout",
     "output_type": "stream",
     "text": [
      "Variance of Y: 1.0\n"
     ]
    }
   ],
   "source": [
    "Var_Y = Var_X * (slope_Y_X**2)\n",
    "print(\"Variance of Y:\", Var_Y)"
   ]
  },
  {
   "cell_type": "code",
   "execution_count": 4,
   "id": "b8b4eff4-6da2-4ef7-b9f1-16cb016b75cd",
   "metadata": {},
   "outputs": [
    {
     "name": "stdout",
     "output_type": "stream",
     "text": [
      "Coefficient of determination of X and Y: 0.25\n"
     ]
    }
   ],
   "source": [
    "R_squared_X_Y = slope_Y_X**2\n",
    "print(\"Coefficient of determination of X and Y:\", R_squared_X_Y)"
   ]
  },
  {
   "cell_type": "code",
   "execution_count": 5,
   "id": "b66d52b5-674e-4d22-a46e-0d09e4c13186",
   "metadata": {},
   "outputs": [
    {
     "name": "stdout",
     "output_type": "stream",
     "text": [
      "Standard error of estimate of X on Y: 0.4330127018922193\n"
     ]
    }
   ],
   "source": [
    "slope_X_Y = 2\n",
    "\n",
    "Std_err_X_Y = ((1 - R_squared_X_Y) * Var_Y)**0.5 / abs(slope_X_Y)\n",
    "print(\"Standard error of estimate of X on Y:\", Std_err_X_Y)"
   ]
  }
 ],
 "metadata": {
  "kernelspec": {
   "display_name": "Python 3 (ipykernel)",
   "language": "python",
   "name": "python3"
  },
  "language_info": {
   "codemirror_mode": {
    "name": "ipython",
    "version": 3
   },
   "file_extension": ".py",
   "mimetype": "text/x-python",
   "name": "python",
   "nbconvert_exporter": "python",
   "pygments_lexer": "ipython3",
   "version": "3.10.6"
  }
 },
 "nbformat": 4,
 "nbformat_minor": 5
}
