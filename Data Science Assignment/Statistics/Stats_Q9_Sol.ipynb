{
 "cells": [
  {
   "cell_type": "code",
   "execution_count": 5,
   "id": "93eb61ca-3490-4f20-905a-e5d5b0cd82dd",
   "metadata": {},
   "outputs": [],
   "source": [
    "import pandas as pd"
   ]
  },
  {
   "cell_type": "code",
   "execution_count": 6,
   "id": "b2425d3c-5e5b-402f-a895-781728f01dc5",
   "metadata": {},
   "outputs": [],
   "source": [
    "import scipy.stats as stats"
   ]
  },
  {
   "cell_type": "code",
   "execution_count": 7,
   "id": "f0c99738-0aa2-49ab-9613-3ccb59c84dda",
   "metadata": {},
   "outputs": [],
   "source": [
    "data = {\n",
    "    'Name': ['Karan', 'Deepa', 'Karthik', 'Chandan', 'Jeevan'],\n",
    "    'Exam 1': [85, 70, 90, 75, 95],\n",
    "    'Exam 2': [90, 80, 85, 70, 92],\n",
    "    'Final Exam': [92, 85, 88, 75, 96]\n",
    "}"
   ]
  },
  {
   "cell_type": "code",
   "execution_count": 8,
   "id": "1b209455-060b-41c7-bddd-67f4aecedc6b",
   "metadata": {},
   "outputs": [],
   "source": [
    "df = pd.DataFrame(data)"
   ]
  },
  {
   "cell_type": "code",
   "execution_count": 9,
   "id": "7ef00da7-acd8-4c10-a141-44eb3490c139",
   "metadata": {},
   "outputs": [],
   "source": [
    "f_statistic, p_value = stats.f_oneway(df['Exam 1'], df['Exam 2'], df['Final Exam'])"
   ]
  },
  {
   "cell_type": "code",
   "execution_count": 10,
   "id": "d6352850-7b09-4b69-b39f-4a5bf1c29cae",
   "metadata": {},
   "outputs": [
    {
     "name": "stdout",
     "output_type": "stream",
     "text": [
      "F-statistic: 0.3236947791164659\n",
      "p-value: 0.7295954253321559\n"
     ]
    }
   ],
   "source": [
    "print(\"F-statistic:\", f_statistic)\n",
    "print(\"p-value:\", p_value)"
   ]
  },
  {
   "cell_type": "code",
   "execution_count": 11,
   "id": "19b7ad92-3c76-4fad-b6fa-9474786cc2af",
   "metadata": {},
   "outputs": [],
   "source": [
    "df['Total Score'] = df['Exam 1'] + df['Exam 2'] + df['Final Exam']\n",
    "highest_score_student = df.loc[df['Total Score'].idxmax(), 'Name']"
   ]
  },
  {
   "cell_type": "code",
   "execution_count": 12,
   "id": "4687dfdc-97be-4c0e-accf-579a7cfd99d0",
   "metadata": {},
   "outputs": [
    {
     "name": "stdout",
     "output_type": "stream",
     "text": [
      "Student with the highest score: Jeevan\n"
     ]
    }
   ],
   "source": [
    "print(\"Student with the highest score:\", highest_score_student)"
   ]
  }
 ],
 "metadata": {
  "kernelspec": {
   "display_name": "Python 3 (ipykernel)",
   "language": "python",
   "name": "python3"
  },
  "language_info": {
   "codemirror_mode": {
    "name": "ipython",
    "version": 3
   },
   "file_extension": ".py",
   "mimetype": "text/x-python",
   "name": "python",
   "nbconvert_exporter": "python",
   "pygments_lexer": "ipython3",
   "version": "3.10.6"
  }
 },
 "nbformat": 4,
 "nbformat_minor": 5
}
