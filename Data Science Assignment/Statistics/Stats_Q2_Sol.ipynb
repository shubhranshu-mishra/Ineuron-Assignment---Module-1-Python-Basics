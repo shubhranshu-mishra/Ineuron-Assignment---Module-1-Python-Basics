{
 "cells": [
  {
   "cell_type": "code",
   "execution_count": 1,
   "id": "dad0451e-18c4-440b-982c-8ae201d49b2e",
   "metadata": {},
   "outputs": [],
   "source": [
    "import scipy.stats as stats"
   ]
  },
  {
   "cell_type": "code",
   "execution_count": 2,
   "id": "87384d10-4dfc-4c0f-a069-dfdbb5edaafe",
   "metadata": {},
   "outputs": [],
   "source": [
    "mean_height = 170\n",
    "std_dev = 10"
   ]
  },
  {
   "cell_type": "code",
   "execution_count": 3,
   "id": "54ccf14d-de61-40a2-b6ab-cfe68daf7dd3",
   "metadata": {},
   "outputs": [
    {
     "name": "stdout",
     "output_type": "stream",
     "text": [
      "Percentage of individuals with heights between 160 cm and 180 cm: 68.26894921370858\n"
     ]
    }
   ],
   "source": [
    "#a\n",
    "z_lower = (160 - mean_height) / std_dev\n",
    "z_upper = (180 - mean_height) / std_dev\n",
    "percentage = (stats.norm.cdf(z_upper) - stats.norm.cdf(z_lower)) * 100\n",
    "print(\"Percentage of individuals with heights between 160 cm and 180 cm:\", percentage)"
   ]
  },
  {
   "cell_type": "code",
   "execution_count": 4,
   "id": "9341216e-2f1a-4749-a9c2-5941481a24ac",
   "metadata": {},
   "outputs": [
    {
     "name": "stdout",
     "output_type": "stream",
     "text": [
      "Probability that the average height of 100 individuals is greater than 175 cm: 2.866515719235352e-07\n"
     ]
    }
   ],
   "source": [
    "#b\n",
    "sample_size = 100\n",
    "std_dev_sample = std_dev / (sample_size ** 0.5)\n",
    "z_score = (175 - mean_height) / std_dev_sample\n",
    "probability = 1 - stats.norm.cdf(z_score)\n",
    "print(\"Probability that the average height of 100 individuals is greater than 175 cm:\", probability)"
   ]
  },
  {
   "cell_type": "code",
   "execution_count": 5,
   "id": "cd6d4da9-509b-4c1a-af6f-799e10492478",
   "metadata": {},
   "outputs": [
    {
     "name": "stdout",
     "output_type": "stream",
     "text": [
      "Z-score corresponding to a height of 185 cm: 1.5\n"
     ]
    }
   ],
   "source": [
    "#c\n",
    "height = 185\n",
    "z_score = (height - mean_height) / std_dev\n",
    "print(\"Z-score corresponding to a height of 185 cm:\", z_score)"
   ]
  },
  {
   "cell_type": "code",
   "execution_count": 6,
   "id": "9f40c53d-cb68-4e42-8ea4-89c8b9126761",
   "metadata": {},
   "outputs": [
    {
     "name": "stdout",
     "output_type": "stream",
     "text": [
      "Approximate height corresponding to a threshold of 5%: 153.55146373048527\n"
     ]
    }
   ],
   "source": [
    "#d\n",
    "threshold = 0.05\n",
    "z_threshold = stats.norm.ppf(threshold)\n",
    "height_threshold = z_threshold * std_dev + mean_height\n",
    "print(\"Approximate height corresponding to a threshold of 5%:\", height_threshold)"
   ]
  },
  {
   "cell_type": "code",
   "execution_count": 7,
   "id": "9fbbb996-9ac7-4435-ba79-8af3e1948a41",
   "metadata": {},
   "outputs": [
    {
     "name": "stdout",
     "output_type": "stream",
     "text": [
      "Coefficient of Variation (CV) for the dataset: 5.88235294117647\n"
     ]
    }
   ],
   "source": [
    "#e\n",
    "cv = (std_dev / mean_height) * 100\n",
    "print(\"Coefficient of Variation (CV) for the dataset:\", cv)"
   ]
  },
  {
   "cell_type": "code",
   "execution_count": 8,
   "id": "5fb18b80-fb2d-4540-a308-e6dd12f1de24",
   "metadata": {},
   "outputs": [
    {
     "name": "stdout",
     "output_type": "stream",
     "text": [
      "Skewness of the dataset: 0\n"
     ]
    }
   ],
   "source": [
    "#f\n",
    "skewness = 0  # Given information that skewness is approximately zero\n",
    "print(\"Skewness of the dataset:\", skewness)"
   ]
  }
 ],
 "metadata": {
  "kernelspec": {
   "display_name": "Python 3 (ipykernel)",
   "language": "python",
   "name": "python3"
  },
  "language_info": {
   "codemirror_mode": {
    "name": "ipython",
    "version": 3
   },
   "file_extension": ".py",
   "mimetype": "text/x-python",
   "name": "python",
   "nbconvert_exporter": "python",
   "pygments_lexer": "ipython3",
   "version": "3.10.6"
  }
 },
 "nbformat": 4,
 "nbformat_minor": 5
}
