{
 "cells": [
  {
   "cell_type": "code",
   "execution_count": 7,
   "id": "34755026-afa2-4bbd-8a06-b2a2e6c2dbd4",
   "metadata": {},
   "outputs": [],
   "source": [
    "import pandas as pd\n",
    "import scipy.stats as stats"
   ]
  },
  {
   "cell_type": "code",
   "execution_count": 12,
   "id": "6e17b422-35bd-455b-827c-21584ebf040d",
   "metadata": {},
   "outputs": [],
   "source": [
    "data = pd.read_csv(\"data_a.csv\")"
   ]
  },
  {
   "cell_type": "code",
   "execution_count": null,
   "id": "5a484abf-1094-48f1-8f24-bfc0a5d6a6c0",
   "metadata": {},
   "outputs": [],
   "source": [
    "#BPB = Blood Pressure Before (mmHg)\n",
    "#BPA = Blood Pressure After (mmHg)"
   ]
  },
  {
   "cell_type": "code",
   "execution_count": 13,
   "id": "fcbedf66-eeb1-4c8e-8a8e-03d45214fa6d",
   "metadata": {},
   "outputs": [
    {
     "name": "stdout",
     "output_type": "stream",
     "text": [
      "The distribution of classes is not the same.\n"
     ]
    }
   ],
   "source": [
    "#a\n",
    "fvalue, pvalue = stats.f_oneway(data[\"BPB\"], data[\"BPA\"])\n",
    "if pvalue < 0.05:\n",
    "    print(\"The distribution of classes is not the same.\")\n",
    "else:\n",
    "    print(\"The distribution of classes is the same.\")"
   ]
  },
  {
   "cell_type": "code",
   "execution_count": 14,
   "id": "a9764302-c95e-4907-869e-5e894a79a897",
   "metadata": {},
   "outputs": [
    {
     "name": "stdout",
     "output_type": "stream",
     "text": [
      "The variances are equal.\n"
     ]
    }
   ],
   "source": [
    "#b\n",
    "wvalue, pvalue = stats.levene(data[\"BPB\"], data[\"BPA\"])\n",
    "if pvalue < 0.05:\n",
    "    print(\"The variances are not equal.\")\n",
    "else:\n",
    "    print(\"The variances are equal.\")"
   ]
  },
  {
   "cell_type": "code",
   "execution_count": 17,
   "id": "dbf99442-1bb3-4a3b-9951-06049d150a7b",
   "metadata": {},
   "outputs": [
    {
     "name": "stdout",
     "output_type": "stream",
     "text": [
      "The data is not normally distributed.\n"
     ]
    }
   ],
   "source": [
    "#c\n",
    "_, pvalue_before = stats.shapiro(data[\"BPB\"])\n",
    "_, pvalue_after = stats.shapiro(data[\"BPA\"])\n",
    "if pvalue_before < 0.05 or pvalue_after < 0.05:\n",
    "    print(\"The data is not normally distributed.\")\n",
    "else:\n",
    "    print(\"The data is normally distributed.\")"
   ]
  },
  {
   "cell_type": "code",
   "execution_count": 15,
   "id": "da7bd264-2093-4e81-9462-0d2192e87b3e",
   "metadata": {},
   "outputs": [
    {
     "name": "stdout",
     "output_type": "stream",
     "text": [
      "There is a significant difference in means between the classes.\n"
     ]
    }
   ],
   "source": [
    "#d\n",
    "tvalue, pvalue = stats.ttest_rel(data[\"BPB\"], data[\"BPA\"])\n",
    "if pvalue < 0.05:\n",
    "    print(\"There is a significant difference in means between the classes.\")\n",
    "else:\n",
    "    print(\"There is no significant difference in means between the classes.\")"
   ]
  }
 ],
 "metadata": {
  "kernelspec": {
   "display_name": "Python 3 (ipykernel)",
   "language": "python",
   "name": "python3"
  },
  "language_info": {
   "codemirror_mode": {
    "name": "ipython",
    "version": 3
   },
   "file_extension": ".py",
   "mimetype": "text/x-python",
   "name": "python",
   "nbconvert_exporter": "python",
   "pygments_lexer": "ipython3",
   "version": "3.10.6"
  }
 },
 "nbformat": 4,
 "nbformat_minor": 5
}
