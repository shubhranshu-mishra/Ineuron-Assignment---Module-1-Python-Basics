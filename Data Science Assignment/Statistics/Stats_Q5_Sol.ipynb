{
 "cells": [
  {
   "cell_type": "code",
   "execution_count": 1,
   "id": "be637ba1-6378-4dcb-a7ca-a9e9d84f905e",
   "metadata": {},
   "outputs": [],
   "source": [
    "P_A = 0.8\n",
    "P_B = 0.2\n",
    "P_L_A = 0.05\n",
    "P_L_B = 0.1"
   ]
  },
  {
   "cell_type": "code",
   "execution_count": 2,
   "id": "5762ab9d-9a5e-4703-89fe-95a4dd1c3870",
   "metadata": {},
   "outputs": [],
   "source": [
    "P_A_L = (P_L_A * P_A) / ((P_L_A * P_A) + (P_L_B * P_B))"
   ]
  },
  {
   "cell_type": "code",
   "execution_count": 3,
   "id": "54f1776a-4eec-49e1-bd39-dcb18739ee0b",
   "metadata": {},
   "outputs": [
    {
     "name": "stdout",
     "output_type": "stream",
     "text": [
      "Probability that a randomly selected late taxi belongs to Company A: 0.6666666666666666\n"
     ]
    }
   ],
   "source": [
    "print(\"Probability that a randomly selected late taxi belongs to Company A:\", P_A_L)"
   ]
  }
 ],
 "metadata": {
  "kernelspec": {
   "display_name": "Python 3 (ipykernel)",
   "language": "python",
   "name": "python3"
  },
  "language_info": {
   "codemirror_mode": {
    "name": "ipython",
    "version": 3
   },
   "file_extension": ".py",
   "mimetype": "text/x-python",
   "name": "python",
   "nbconvert_exporter": "python",
   "pygments_lexer": "ipython3",
   "version": "3.10.6"
  }
 },
 "nbformat": 4,
 "nbformat_minor": 5
}
