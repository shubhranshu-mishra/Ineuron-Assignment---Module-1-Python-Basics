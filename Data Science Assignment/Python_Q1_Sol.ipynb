{
 "cells": [
  {
   "cell_type": "code",
   "execution_count": 9,
   "id": "cbc23f40",
   "metadata": {},
   "outputs": [],
   "source": [
    "def find_highest_frequency_word_length(string):\n",
    "    words = string.split()\n",
    "    word_freq = {}\n",
    "    for word in words:\n",
    "        word_freq[word] = word_freq.get(word, 0) + 1\n",
    "    max_freq = max(word_freq.values())\n",
    "    highest_freq_word_length = max(len(word) for word, freq in word_freq.items() if freq == max_freq)\n",
    "\n",
    "    return highest_freq_word_length\n"
   ]
  },
  {
   "cell_type": "code",
   "execution_count": 10,
   "id": "2ea16015",
   "metadata": {},
   "outputs": [
    {
     "name": "stdout",
     "output_type": "stream",
     "text": [
      "5\n",
      "5\n",
      "6\n"
     ]
    }
   ],
   "source": [
    "# Example test case\n",
    "string = \"write write write all the number from from from 1 to 100\"\n",
    "print(find_highest_frequency_word_length(string))\n",
    "\n",
    "# Additional test case 1\n",
    "string = \"hello world hello world hello\"\n",
    "print(find_highest_frequency_word_length(string)) \n",
    "# Explanation: The most frequent word is \"hello\", and its length is 5.\n",
    "\n",
    "# Additional test case 2\n",
    "string = \"apple apple banana banana orange orange orange\"\n",
    "print(find_highest_frequency_word_length(string))\n",
    "# Explanation: The most frequent words are \"apple\" and \"orange\", and both have a length of 6.\n"
   ]
  },
  {
   "cell_type": "code",
   "execution_count": null,
   "id": "75b4cfc0",
   "metadata": {},
   "outputs": [],
   "source": []
  }
 ],
 "metadata": {
  "kernelspec": {
   "display_name": "Python 3 (ipykernel)",
   "language": "python",
   "name": "python3"
  },
  "language_info": {
   "codemirror_mode": {
    "name": "ipython",
    "version": 3
   },
   "file_extension": ".py",
   "mimetype": "text/x-python",
   "name": "python",
   "nbconvert_exporter": "python",
   "pygments_lexer": "ipython3",
   "version": "3.9.12"
  }
 },
 "nbformat": 4,
 "nbformat_minor": 5
}
