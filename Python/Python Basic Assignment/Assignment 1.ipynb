{
 "cells": [
  {
   "cell_type": "markdown",
   "id": "98bdd92b",
   "metadata": {},
   "source": [
    "###### 1. In the below elements which of them are values or an expression? eg:- values can be integer or string and expressions will be mathematical operators.\n",
    "```\n",
    "*\n",
    "hello\n",
    "-87.8\n",
    "-\n",
    "/\n",
    "+\n",
    "6\n",
    "```"
   ]
  },
  {
   "cell_type": "markdown",
   "id": "dbb2e52b",
   "metadata": {},
   "source": [
    "Ans. \n",
    "- Value: -87.8, 6, hello\n",
    "- Expression: *, -, /, +"
   ]
  },
  {
   "cell_type": "markdown",
   "id": "782bca3d",
   "metadata": {},
   "source": [
    "##### 2. What is the difference between string and variable?"
   ]
  },
  {
   "cell_type": "markdown",
   "id": "934802a3",
   "metadata": {},
   "source": [
    "Ans. Variable stores the information and string is the information which we stores in variable. Strings are generally enclosed in double quote \" or single quote '.\n",
    "```\n",
    "For example,\n",
    "x = \"Hello\"\n",
    "```\n",
    "Here, 'x' is the variable and 'Hello' is the string."
   ]
  },
  {
   "cell_type": "markdown",
   "id": "8f3b5380",
   "metadata": {},
   "source": [
    "##### 3. Describe three different data types."
   ]
  },
  {
   "cell_type": "markdown",
   "id": "fa67307d",
   "metadata": {},
   "source": [
    "And. There are many types of data types. Three of them are given below:\n",
    "\n",
    "- `int`: int data type is used to represent integers (either positive or negative). For example: 2\n",
    "- `float`: float data type is used to represent numbers in decimal form. For example: 3.14\n",
    "- `bool`: bool data type is used to represent truth value of an expression. For example, the expression 2 <= 5 is True , while the expression 3 == 1 is False."
   ]
  },
  {
   "cell_type": "markdown",
   "id": "168cb1e9",
   "metadata": {},
   "source": [
    "##### 4. What is an expression made up of? What do all expressions do?"
   ]
  },
  {
   "cell_type": "markdown",
   "id": "8d2b3cc4",
   "metadata": {},
   "source": [
    "Ans. An expression is a combination of values, variables, operators, and calls to functions. Expressions need to be evaluated. If we ask Python to print an expression, the interpreter evaluates the expression and displays the result.\n",
    "\n",
    "For example, 10*5+20-40 is an Expression, The Python Interpreter Evaluates it to 30."
   ]
  },
  {
   "cell_type": "markdown",
   "id": "4c34fcbc",
   "metadata": {},
   "source": [
    "##### 5. This assignment statements, like spam = 10. What is the difference between an expression and a statement?"
   ]
  },
  {
   "cell_type": "markdown",
   "id": "91fd65bd",
   "metadata": {},
   "source": [
    "Ans. An expression is a combination of values, variables, and operators. When we type an expression at the prompt, the interpreter evaluates it, which means that it finds the value of the expression.\n",
    "\n",
    "For example: 10*5+20-40 is an expression\n",
    "\n",
    "A statement is a unit of code that has an effect, like creating a variable or displaying a value. When we type a statement, the interpreter executes it, which means that it does whatever the statement says. In general, statements don’t have values.\n",
    "\n",
    "For example: variable declaration and assignment are statements because they do not return a value"
   ]
  },
  {
   "cell_type": "markdown",
   "id": "c5462855",
   "metadata": {},
   "source": [
    "##### 6. After running the following code, what does the variable bacon contain?\n",
    "```\n",
    "bacon = 22\n",
    "bacon + 1\n",
    "```"
   ]
  },
  {
   "cell_type": "markdown",
   "id": "60285734",
   "metadata": {},
   "source": [
    "Ans. The variable bacon contain 22. It is because the expression bacon + 1 does not reassign the value in bacon."
   ]
  },
  {
   "cell_type": "markdown",
   "id": "9a84ce03",
   "metadata": {},
   "source": [
    "##### 7. What should the values of the following two terms be?\n",
    "```\n",
    "'spam' + 'spamspam'\n",
    "'spam' * 3\n",
    "```"
   ]
  },
  {
   "cell_type": "markdown",
   "id": "981ef59b",
   "metadata": {},
   "source": [
    "Ans. The value of these two terms will be 'spamspamspam'.\n",
    "\n",
    "The first statement is the example of string concatenation and the second one is string multiplication."
   ]
  },
  {
   "cell_type": "markdown",
   "id": "d10fe006",
   "metadata": {},
   "source": [
    "##### 8. Why is eggs a valid variable name while 100 is invalid?"
   ]
  },
  {
   "cell_type": "markdown",
   "id": "50bdec95",
   "metadata": {},
   "source": [
    "Ans. As per python, variable names cannot begin with a number, but can start with a letter."
   ]
  },
  {
   "cell_type": "markdown",
   "id": "cdc7bba5",
   "metadata": {},
   "source": [
    "##### 9. What three functions can be used to get the integer, floating-point number, or string version of a value?"
   ]
  },
  {
   "cell_type": "markdown",
   "id": "49f1b922",
   "metadata": {},
   "source": [
    "Ans. \n",
    "- `int` function will get us integer.\n",
    "- `float` function will get us floating point number.\n",
    "- `str` function will get us string version of value."
   ]
  },
  {
   "cell_type": "markdown",
   "id": "c12dd652",
   "metadata": {},
   "source": [
    "##### 10. Why does this expression cause an error? How can you fix it?\n",
    "&#39;I have eaten &#39; + 99 + &#39; burritos.&#39;"
   ]
  },
  {
   "cell_type": "markdown",
   "id": "c5e82d1a",
   "metadata": {},
   "source": [
    "Ans. Concatenation is allowed between same data types only. Here 99 is not a string, while others are string.\n",
    "\n",
    "To run this, we can convert 99 from int to str.\n",
    "```\n",
    "'I have eaten ' + '99' + ' burritos.'\n",
    "```"
   ]
  }
 ],
 "metadata": {
  "kernelspec": {
   "display_name": "Python 3 (ipykernel)",
   "language": "python",
   "name": "python3"
  },
  "language_info": {
   "codemirror_mode": {
    "name": "ipython",
    "version": 3
   },
   "file_extension": ".py",
   "mimetype": "text/x-python",
   "name": "python",
   "nbconvert_exporter": "python",
   "pygments_lexer": "ipython3",
   "version": "3.9.12"
  }
 },
 "nbformat": 4,
 "nbformat_minor": 5
}
