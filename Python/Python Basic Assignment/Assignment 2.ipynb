{
 "cells": [
  {
   "cell_type": "markdown",
   "id": "be9e6def",
   "metadata": {},
   "source": [
    "#### 1.What are the two values of the Boolean data type? How do you write them?"
   ]
  },
  {
   "cell_type": "markdown",
   "id": "52db29be",
   "metadata": {},
   "source": [
    "Two values of the boolean data type is:\n",
    "- True\n",
    "- False\n",
    "\n",
    "The numerical value associated with these data type is as follows:\n",
    "- 1 for True\n",
    "- 0 for False"
   ]
  },
  {
   "cell_type": "markdown",
   "id": "0f8c1c08",
   "metadata": {},
   "source": [
    "#### 2. What are the three different types of Boolean operators?"
   ]
  },
  {
   "cell_type": "markdown",
   "id": "5affe010",
   "metadata": {},
   "source": [
    "Three different types of boolean operators are:\n",
    "- AND\n",
    "- OR\n",
    "- NOT"
   ]
  },
  {
   "cell_type": "markdown",
   "id": "63b9b1cc",
   "metadata": {},
   "source": [
    "#### 3. Make a list of each Boolean operator&#39;s truth tables (i.e. every possible combination of Boolean values for the operator and what it evaluate)."
   ]
  },
  {
   "cell_type": "raw",
   "id": "a8e21b65",
   "metadata": {},
   "source": [
    "True and True --> True\n",
    "True and False --> False\n",
    "False and True --> False\n",
    "False and False --> False\n",
    "\n",
    "True OR True --> True\n",
    "True OR False --> True\n",
    "False OR True --> True\n",
    "False or False --> False\n",
    "\n",
    "NOT True --> False\n",
    "NOT False --> True"
   ]
  },
  {
   "cell_type": "markdown",
   "id": "40d1d1a0",
   "metadata": {},
   "source": [
    "#### 4. What are the values of the following expressions?\n",
    "\n",
    "```(5 > 4) and (3 == 5)\n",
    "not (5 > 4)\n",
    "(5 > 4) or (3 == 5)\n",
    "not ((5 > 4) or (3 == 5))\n",
    "(True and True) and (True == False)\n",
    "(not False) or (not True)```"
   ]
  },
  {
   "cell_type": "code",
   "execution_count": 1,
   "id": "d7f3073e",
   "metadata": {},
   "outputs": [
    {
     "name": "stdout",
     "output_type": "stream",
     "text": [
      "False\n",
      "False\n",
      "True\n",
      "False\n",
      "False\n",
      "True\n"
     ]
    }
   ],
   "source": [
    "print((5 > 4) and (3 == 5))\n",
    "print(not (5 > 4))\n",
    "print((5 > 4) or (3 == 5))\n",
    "print(not ((5 > 4) or (3 == 5)))\n",
    "print((True and True) and (True == False))\n",
    "print((not False) or (not True))"
   ]
  },
  {
   "cell_type": "markdown",
   "id": "1d2a215f",
   "metadata": {},
   "source": [
    "#### 5. What are the six comparison operators?"
   ]
  },
  {
   "cell_type": "markdown",
   "id": "30bfe595",
   "metadata": {},
   "source": [
    "The six comparison operators in Python are as follows:\n",
    "\n",
    "```==, >, <, <=, >=, !=```"
   ]
  },
  {
   "cell_type": "markdown",
   "id": "5aeda1ae",
   "metadata": {},
   "source": [
    "#### 6. How do you tell the difference between the equal to and assignment operators?Describe a condition and when you would use one ?"
   ]
  },
  {
   "cell_type": "markdown",
   "id": "3ecb082c",
   "metadata": {},
   "source": [
    " == is the equal to operator that compares two values and evaluates to a Boolean, while = is that assignment operator that stores a value in a variable."
   ]
  },
  {
   "cell_type": "code",
   "execution_count": 3,
   "id": "95220627",
   "metadata": {},
   "outputs": [
    {
     "name": "stdout",
     "output_type": "stream",
     "text": [
      "True\n"
     ]
    }
   ],
   "source": [
    "a=3 # Assigning operator that stores 3 value in a variable a\n",
    "if a==3:#comparing values of a varible value and 3\n",
    "    print(a==3)  "
   ]
  },
  {
   "cell_type": "markdown",
   "id": "06de79b4",
   "metadata": {},
   "source": [
    "#### 7. Identify the three blocks in this code\n",
    "\n",
    "```spam = 0\n",
    "if spam == 10:\n",
    "print('eggs')\n",
    "if spam > 5:\n",
    "print('bacon')\n",
    "else:\n",
    "print('ham')\n",
    "print('spam')\n",
    "print('spam')```"
   ]
  },
  {
   "cell_type": "code",
   "execution_count": 4,
   "id": "4dba0784",
   "metadata": {},
   "outputs": [
    {
     "name": "stdout",
     "output_type": "stream",
     "text": [
      "ham\n",
      "spam\n",
      "spam\n"
     ]
    }
   ],
   "source": [
    "spam = 0\n",
    "if spam == 10:\n",
    "    print('eggs')\n",
    "if spam > 5:\n",
    "    print('bacon')\n",
    "else:\n",
    "    print('ham')\n",
    "print('spam')\n",
    "print('spam')"
   ]
  },
  {
   "cell_type": "markdown",
   "id": "2d9a5ef9",
   "metadata": {},
   "source": [
    "#### 8. Write code that prints Hello if 1 is stored in spam, prints Howdy if 2 is stored in spam, and prints Greetings! if anything else is stored in spam."
   ]
  },
  {
   "cell_type": "code",
   "execution_count": 8,
   "id": "a815abf0",
   "metadata": {},
   "outputs": [
    {
     "name": "stdout",
     "output_type": "stream",
     "text": [
      "Hello\n",
      "Howdy\n",
      "Greetings!\n"
     ]
    }
   ],
   "source": [
    "def spam_assg(spam):\n",
    "    if spam == 1:\n",
    "        print('Hello')\n",
    "    elif spam == 2:\n",
    "        print('Howdy')\n",
    "    else:\n",
    "        print('Greetings!')\n",
    "    \n",
    "spam_assg(1)\n",
    "spam_assg(2)\n",
    "spam_assg(3)\n"
   ]
  },
  {
   "cell_type": "markdown",
   "id": "62924066",
   "metadata": {},
   "source": [
    "#### 9.If your programme is stuck in an endless loop, what keys you’ll press?"
   ]
  },
  {
   "cell_type": "markdown",
   "id": "d9b8e689",
   "metadata": {},
   "source": [
    "Press Ctrl+c to stop a program stuck in an infinite loop"
   ]
  },
  {
   "cell_type": "markdown",
   "id": "a60f15b3",
   "metadata": {},
   "source": [
    "#### 10. How can you tell the difference between break and continue?"
   ]
  },
  {
   "cell_type": "markdown",
   "id": "6a2789bc",
   "metadata": {},
   "source": [
    "The `break` statement will move the execution outside the loop if break condtion is satisfied. Whereas the `continue` statement will move the execution to the start of the loop."
   ]
  },
  {
   "cell_type": "markdown",
   "id": "77b170b0",
   "metadata": {},
   "source": [
    "#### 11. In a for loop, what is the difference between range(10), range(0, 10), and range(0, 10, 1)?"
   ]
  },
  {
   "cell_type": "markdown",
   "id": "3b2120c4",
   "metadata": {},
   "source": [
    "The Differences are as follows:\n",
    "\n",
    "- The range(10) call range from 0 to 9 (but not include 10)\n",
    "- The range (0,10) explicitly tells the loop to start at 0\n",
    "- The range(0,10,1) explicitly tells the loop to increase the variable by 1 on each iteration"
   ]
  },
  {
   "cell_type": "markdown",
   "id": "ac3cb5e4",
   "metadata": {},
   "source": [
    "#### 12. Write a short program that prints the numbers 1 to 10 using a for loop. Then write an equivalent program that prints the numbers 1 to 10 using a while loop ?"
   ]
  },
  {
   "cell_type": "code",
   "execution_count": 11,
   "id": "10c3e1a2",
   "metadata": {},
   "outputs": [
    {
     "name": "stdout",
     "output_type": "stream",
     "text": [
      "---------- Using For Loop ----------\n",
      "1 2 3 4 5 6 7 8 9 10 \n",
      "\n",
      "---------- Using While Loop ----------\n",
      "1 2 3 4 5 6 7 8 9 10 "
     ]
    }
   ],
   "source": [
    "print('-'*10,'Using For Loop','-'*10)\n",
    "for i in range(1,11):\n",
    "    print(i, end=\" \")\n",
    "print('\\n')\n",
    "print('-'*10,'Using While Loop','-'*10) \n",
    "i=1\n",
    "while i<=10:\n",
    "    print(i, end=\" \")\n",
    "    i+=1"
   ]
  },
  {
   "cell_type": "markdown",
   "id": "1ed3c6aa",
   "metadata": {},
   "source": [
    "#### 13. If you had a function named bacon() inside a module named spam, how would you call it after importing spam ?"
   ]
  },
  {
   "cell_type": "markdown",
   "id": "3fefa326",
   "metadata": {},
   "source": [
    "This function can be called with spam.bacon()"
   ]
  }
 ],
 "metadata": {
  "kernelspec": {
   "display_name": "Python 3 (ipykernel)",
   "language": "python",
   "name": "python3"
  },
  "language_info": {
   "codemirror_mode": {
    "name": "ipython",
    "version": 3
   },
   "file_extension": ".py",
   "mimetype": "text/x-python",
   "name": "python",
   "nbconvert_exporter": "python",
   "pygments_lexer": "ipython3",
   "version": "3.9.12"
  }
 },
 "nbformat": 4,
 "nbformat_minor": 5
}
