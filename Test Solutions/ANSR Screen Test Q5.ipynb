{
 "cells": [
  {
   "cell_type": "code",
   "execution_count": 1,
   "id": "4d65c02e",
   "metadata": {},
   "outputs": [
    {
     "name": "stdout",
     "output_type": "stream",
     "text": [
      "gender\n",
      "F     4.20\n",
      "M    11.25\n",
      "Name: purchases, dtype: float64\n"
     ]
    }
   ],
   "source": [
    "import pandas as pd\n",
    "\n",
    "# Read the dataset\n",
    "data = pd.read_csv('customer_data.csv')\n",
    "\n",
    "# Remove duplicates\n",
    "data.drop_duplicates(subset=['customer_id'], inplace=True)\n",
    "\n",
    "# Handle missing values\n",
    "data['purchases'].fillna(0, inplace=True)\n",
    "\n",
    "# Calculate average number of purchases for each gender\n",
    "average_purchases_by_gender = data.groupby('gender')['purchases'].mean()\n",
    "\n",
    "# Display the result\n",
    "print(average_purchases_by_gender)\n"
   ]
  },
  {
   "cell_type": "code",
   "execution_count": null,
   "id": "bf4fd87b",
   "metadata": {},
   "outputs": [],
   "source": []
  }
 ],
 "metadata": {
  "kernelspec": {
   "display_name": "Python 3 (ipykernel)",
   "language": "python",
   "name": "python3"
  },
  "language_info": {
   "codemirror_mode": {
    "name": "ipython",
    "version": 3
   },
   "file_extension": ".py",
   "mimetype": "text/x-python",
   "name": "python",
   "nbconvert_exporter": "python",
   "pygments_lexer": "ipython3",
   "version": "3.9.12"
  }
 },
 "nbformat": 4,
 "nbformat_minor": 5
}
