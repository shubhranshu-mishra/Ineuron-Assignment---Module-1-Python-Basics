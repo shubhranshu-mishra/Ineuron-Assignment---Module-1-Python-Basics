{
 "cells": [
  {
   "cell_type": "code",
   "execution_count": 1,
   "id": "280f702a",
   "metadata": {},
   "outputs": [],
   "source": [
    "import pandas as pd"
   ]
  },
  {
   "cell_type": "code",
   "execution_count": 4,
   "id": "0fa15c75",
   "metadata": {},
   "outputs": [],
   "source": [
    "data = pd.read_csv(\"mobile_events_2020.csv\")"
   ]
  },
  {
   "cell_type": "code",
   "execution_count": 7,
   "id": "56b7e444",
   "metadata": {},
   "outputs": [
    {
     "name": "stdout",
     "output_type": "stream",
     "text": [
      "Percentage of sessions with an intention to book a scooter: 58.45%\n"
     ]
    }
   ],
   "source": [
    "# 1\n",
    "intention_events = [\"Scooter Selected - User\", \"Scooter Selected - Auto\"]\n",
    "intention_sessions = data[data[\"event_name\"].isin(intention_events)][\"anonymous_id\"].nunique()\n",
    "total_sessions = data[\"anonymous_id\"].nunique()\n",
    "\n",
    "percentage_intention = (intention_sessions / total_sessions) * 100\n",
    "print(f\"Percentage of sessions with an intention to book a scooter: {percentage_intention:.2f}%\")\n"
   ]
  },
  {
   "cell_type": "code",
   "execution_count": 6,
   "id": "238c4b92",
   "metadata": {},
   "outputs": [
    {
     "name": "stdout",
     "output_type": "stream",
     "text": [
      "Percentage of sessions with a successful booking: 39.55%\n"
     ]
    }
   ],
   "source": [
    "# 2\n",
    "successful_booking_sessions = data[data[\"event_name\"] == \"Ride Started - Successful\"][\"anonymous_id\"].nunique()\n",
    "\n",
    "percentage_successful_booking = (successful_booking_sessions / total_sessions) * 100\n",
    "print(f\"Percentage of sessions with a successful booking: {percentage_successful_booking:.2f}%\")\n"
   ]
  },
  {
   "cell_type": "markdown",
   "id": "95e860c8",
   "metadata": {},
   "source": [
    "#### 3\n",
    "Based on the events you identified as indicating an intention to book a scooter (\"Scooter Selected - User\" and \"Scooter Selected - Auto\"), an intention to book can be determined when these events occur in a session.\n"
   ]
  },
  {
   "cell_type": "markdown",
   "id": "1110cb2f",
   "metadata": {},
   "source": [
    "#### 4\n",
    "Based on the event \"Ride Started - Successful\", factors for a successful booking could include proper vehicle selection, ride starting without issues, and the user completing the ride successfully.\n"
   ]
  },
  {
   "cell_type": "markdown",
   "id": "9b71d5e3",
   "metadata": {},
   "source": [
    "#### 5\n",
    "- Sessions with a higher number of \"Scooter Selected - User\" events might have a higher percentage of successful bookings.\n",
    "- Users who encounter the \"Reduced Speed Snackbar Shown - Out Of Business Zone\" event might have a lower percentage of successful bookings.\n",
    "- The \"List Of Payment Shown\" event might correlate with a higher percentage of successful bookings."
   ]
  },
  {
   "cell_type": "code",
   "execution_count": null,
   "id": "64f5c526",
   "metadata": {},
   "outputs": [],
   "source": []
  }
 ],
 "metadata": {
  "kernelspec": {
   "display_name": "Python 3 (ipykernel)",
   "language": "python",
   "name": "python3"
  },
  "language_info": {
   "codemirror_mode": {
    "name": "ipython",
    "version": 3
   },
   "file_extension": ".py",
   "mimetype": "text/x-python",
   "name": "python",
   "nbconvert_exporter": "python",
   "pygments_lexer": "ipython3",
   "version": "3.9.12"
  }
 },
 "nbformat": 4,
 "nbformat_minor": 5
}
