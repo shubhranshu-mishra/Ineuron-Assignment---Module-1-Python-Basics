{
 "cells": [
  {
   "cell_type": "code",
   "execution_count": 1,
   "id": "830a2937",
   "metadata": {},
   "outputs": [
    {
     "name": "stdout",
     "output_type": "stream",
     "text": [
      "True\n",
      "True\n",
      "False\n"
     ]
    }
   ],
   "source": [
    "#Q1\n",
    "def isPowerOfTwo(n):\n",
    "    if n <= 0:\n",
    "        return False\n",
    "    return n & (n - 1) == 0\n",
    "\n",
    "\n",
    "print(isPowerOfTwo(1)) \n",
    "print(isPowerOfTwo(16)) \n",
    "print(isPowerOfTwo(3))  \n"
   ]
  },
  {
   "cell_type": "code",
   "execution_count": 8,
   "id": "de803ceb",
   "metadata": {},
   "outputs": [
    {
     "name": "stdout",
     "output_type": "stream",
     "text": [
      "6\n",
      "15\n"
     ]
    }
   ],
   "source": [
    "#Q2\n",
    "def sumOfNaturalNumbers(n):\n",
    "    return (n * (n + 1)) // 2\n",
    "\n",
    "print(sumOfNaturalNumbers(3))  \n",
    "print(sumOfNaturalNumbers(5))"
   ]
  },
  {
   "cell_type": "code",
   "execution_count": 9,
   "id": "ec0e3f73",
   "metadata": {},
   "outputs": [
    {
     "name": "stdout",
     "output_type": "stream",
     "text": [
      "120\n",
      "24\n"
     ]
    }
   ],
   "source": [
    "#Q3\n",
    "def factorial(N):\n",
    "    factorial = 1\n",
    "    for i in range(1, N + 1):\n",
    "        factorial *= i\n",
    "    return factorial\n",
    "\n",
    "\n",
    "print(factorial(5)) \n",
    "print(factorial(4)) \n"
   ]
  },
  {
   "cell_type": "code",
   "execution_count": 10,
   "id": "c40a2773",
   "metadata": {},
   "outputs": [
    {
     "name": "stdout",
     "output_type": "stream",
     "text": [
      "25\n",
      "32\n"
     ]
    }
   ],
   "source": [
    "#Q4\n",
    "def calculateExponent(N, P):\n",
    "    return N ** P\n",
    "\n",
    "\n",
    "print(calculateExponent(5, 2))\n",
    "print(calculateExponent(2, 5))\n"
   ]
  },
  {
   "cell_type": "code",
   "execution_count": 11,
   "id": "18598be3",
   "metadata": {},
   "outputs": [
    {
     "name": "stdout",
     "output_type": "stream",
     "text": [
      "8\n",
      "45\n"
     ]
    }
   ],
   "source": [
    "#Q5\n",
    "def findMax(arr, n):\n",
    "    if n == 1:\n",
    "        return arr[0]\n",
    "    \n",
    "    return max(arr[n-1], findMax(arr, n-1))\n",
    "\n",
    "\n",
    "\n",
    "arr = [1, 4, 3, -5, -4, 8, 6]\n",
    "n = len(arr)\n",
    "print(findMax(arr, n))  # 8\n",
    "\n",
    "arr = [1, 4, 45, 6, 10, -8]\n",
    "n = len(arr)\n",
    "print(findMax(arr, n))  # 45\n"
   ]
  },
  {
   "cell_type": "code",
   "execution_count": 12,
   "id": "4280ed3a",
   "metadata": {},
   "outputs": [
    {
     "name": "stdout",
     "output_type": "stream",
     "text": [
      "6\n",
      "23\n"
     ]
    }
   ],
   "source": [
    "#Q6\n",
    "def findNthTerm(a, d, N):\n",
    "    return a + (N - 1) * d\n",
    "\n",
    "\n",
    "a = 2\n",
    "d = 1\n",
    "N = 5\n",
    "print(findNthTerm(a, d, N))  \n",
    "\n",
    "a = 5\n",
    "d = 2\n",
    "N = 10\n",
    "print(findNthTerm(a, d, N))  \n"
   ]
  },
  {
   "cell_type": "code",
   "execution_count": 13,
   "id": "bec1f89a",
   "metadata": {},
   "outputs": [
    {
     "name": "stdout",
     "output_type": "stream",
     "text": [
      "ABC\n",
      "ACB\n",
      "BAC\n",
      "BCA\n",
      "CBA\n",
      "CAB\n",
      "XY\n",
      "YX\n"
     ]
    }
   ],
   "source": [
    "#Q7\n",
    "def permute(s, l, r):\n",
    "    if l == r:\n",
    "        print(\"\".join(s))\n",
    "    else:\n",
    "        for i in range(l, r + 1):\n",
    "            s[l], s[i] = s[i], s[l]\n",
    "            permute(s, l + 1, r)\n",
    "            s[l], s[i] = s[i], s[l]  \n",
    "\n",
    "\n",
    "S = \"ABC\"\n",
    "n = len(S)\n",
    "permute(list(S), 0, n - 1)\n",
    "\n",
    "S = \"XY\"\n",
    "n = len(S)\n",
    "permute(list(S), 0, n - 1)\n"
   ]
  },
  {
   "cell_type": "code",
   "execution_count": 14,
   "id": "9060baae",
   "metadata": {},
   "outputs": [
    {
     "name": "stdout",
     "output_type": "stream",
     "text": [
      "120\n",
      "18\n"
     ]
    }
   ],
   "source": [
    "#Q8\n",
    "def productOfArray(arr):\n",
    "    product = 1\n",
    "    for num in arr:\n",
    "        product *= num\n",
    "    return product\n",
    "\n",
    "\n",
    "arr = [1, 2, 3, 4, 5]\n",
    "print(productOfArray(arr)) \n",
    "\n",
    "arr = [1, 6, 3]\n",
    "print(productOfArray(arr)) \n"
   ]
  }
 ],
 "metadata": {
  "kernelspec": {
   "display_name": "Python 3 (ipykernel)",
   "language": "python",
   "name": "python3"
  },
  "language_info": {
   "codemirror_mode": {
    "name": "ipython",
    "version": 3
   },
   "file_extension": ".py",
   "mimetype": "text/x-python",
   "name": "python",
   "nbconvert_exporter": "python",
   "pygments_lexer": "ipython3",
   "version": "3.9.12"
  }
 },
 "nbformat": 4,
 "nbformat_minor": 5
}
