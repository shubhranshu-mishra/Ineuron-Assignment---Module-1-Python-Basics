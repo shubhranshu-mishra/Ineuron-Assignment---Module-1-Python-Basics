{
 "cells": [
  {
   "cell_type": "code",
   "execution_count": 1,
   "id": "44760d46",
   "metadata": {},
   "outputs": [
    {
     "name": "stdout",
     "output_type": "stream",
     "text": [
      "[-1, -1, -1, -1, -1, -1, -1]\n",
      "[-1, -1, -1, -1, -1, -1, -1, -1, -1, -1]\n"
     ]
    }
   ],
   "source": [
    "#Q1\n",
    "def findNearestGreaterFrequency(a):\n",
    "    frequency = {}\n",
    "    result = [-1] * len(a)\n",
    "\n",
    "    for i in range(len(a) - 1, -1, -1):\n",
    "        if a[i] not in frequency:\n",
    "            frequency[a[i]] = 0\n",
    "        frequency[a[i]] += 1\n",
    "        for j in range(i + 1, len(a)):\n",
    "            if frequency[a[i]] < frequency[a[j]] and result[j] != -1:\n",
    "                result[i] = a[j]\n",
    "                break\n",
    "\n",
    "    return result\n",
    "\n",
    "\n",
    "# Example 1\n",
    "a = [1, 1, 2, 3, 4, 2, 1]\n",
    "result = findNearestGreaterFrequency(a)\n",
    "print(result)\n",
    "\n",
    "# Example 2\n",
    "a = [1, 1, 1, 2, 2, 2, 2, 11, 3, 3]\n",
    "result = findNearestGreaterFrequency(a)\n",
    "print(result)\n"
   ]
  },
  {
   "cell_type": "code",
   "execution_count": 2,
   "id": "c5c37dec",
   "metadata": {},
   "outputs": [
    {
     "name": "stdout",
     "output_type": "stream",
     "text": [
      "[98, 92, 34, 31, 23, 3]\n",
      "[8, 5, 4, 3, 2, 1]\n"
     ]
    }
   ],
   "source": [
    "#Q2\n",
    "def sortStack(stack):\n",
    "    tempStack = []\n",
    "\n",
    "    while stack:\n",
    "        temp = stack.pop()\n",
    "        while tempStack and tempStack[-1] > temp:\n",
    "            stack.append(tempStack.pop())\n",
    "        tempStack.append(temp)\n",
    "\n",
    "    while tempStack:\n",
    "        stack.append(tempStack.pop())\n",
    "\n",
    "    return stack\n",
    "\n",
    "\n",
    "# Example 1\n",
    "stack = [34, 3, 31, 98, 92, 23]\n",
    "sortedStack = sortStack(stack)\n",
    "print(sortedStack)\n",
    "\n",
    "# Example 2\n",
    "stack = [3, 5, 1, 4, 2, 8]\n",
    "sortedStack = sortStack(stack)\n",
    "print(sortedStack)\n"
   ]
  },
  {
   "cell_type": "code",
   "execution_count": 3,
   "id": "94dd5753",
   "metadata": {},
   "outputs": [
    {
     "name": "stdout",
     "output_type": "stream",
     "text": [
      "[2, 3, 4, 5]\n",
      "[3, 4, 5, 6]\n"
     ]
    }
   ],
   "source": [
    "#Q3\n",
    "def deleteMiddleElement(stack):\n",
    "    count = 0\n",
    "    tempStack = []\n",
    "\n",
    "    while stack:\n",
    "        temp = stack.pop()\n",
    "        tempStack.append(temp)\n",
    "        count += 1\n",
    "\n",
    "    mid = count // 2\n",
    "\n",
    "    for _ in range(mid - 1):\n",
    "        tempStack.pop()\n",
    "\n",
    "    while tempStack:\n",
    "        stack.append(tempStack.pop())\n",
    "\n",
    "    return stack\n",
    "\n",
    "\n",
    "# Example 1\n",
    "stack = [1, 2, 3, 4, 5]\n",
    "modifiedStack = deleteMiddleElement(stack)\n",
    "print(modifiedStack)\n",
    "\n",
    "# Example 2\n",
    "stack = [1, 2, 3, 4, 5, 6]\n",
    "modifiedStack = deleteMiddleElement(stack)\n",
    "print(modifiedStack)\n"
   ]
  },
  {
   "cell_type": "code",
   "execution_count": 4,
   "id": "af56bbf4",
   "metadata": {},
   "outputs": [
    {
     "name": "stdout",
     "output_type": "stream",
     "text": [
      "No\n",
      "No\n"
     ]
    }
   ],
   "source": [
    "#Q4\n",
    "from queue import Queue\n",
    "\n",
    "def checkQueueSorting(queue):\n",
    "    stack = []\n",
    "    secondQueue = Queue()\n",
    "\n",
    "    while not queue.empty():\n",
    "        element = queue.queue[0]\n",
    "        queue.get()\n",
    "\n",
    "        if not stack or element > stack[-1]:\n",
    "            secondQueue.put(element)\n",
    "        else:\n",
    "            stack.append(element)\n",
    "\n",
    "    while stack:\n",
    "        secondQueue.put(stack.pop())\n",
    "\n",
    "    isSorted = True\n",
    "    prev = secondQueue.get()\n",
    "    while not secondQueue.empty():\n",
    "        curr = secondQueue.get()\n",
    "        if curr < prev:\n",
    "            isSorted = False\n",
    "            break\n",
    "        prev = curr\n",
    "\n",
    "    if isSorted:\n",
    "        return \"Yes\"\n",
    "    else:\n",
    "        return \"No\"\n",
    "\n",
    "    \n",
    "# Example 1\n",
    "queue = Queue()\n",
    "queue.put(5)\n",
    "queue.put(1)\n",
    "queue.put(2)\n",
    "queue.put(3)\n",
    "queue.put(4)\n",
    "result = checkQueueSorting(queue)\n",
    "print(result)\n",
    "\n",
    "# Example 2\n",
    "queue = Queue()\n",
    "queue.put(5)\n",
    "queue.put(1)\n",
    "queue.put(2)\n",
    "queue.put(6)\n",
    "queue.put(3)\n",
    "queue.put(4)\n",
    "result = checkQueueSorting(queue)\n",
    "print(result)\n"
   ]
  },
  {
   "cell_type": "code",
   "execution_count": 5,
   "id": "a038de21",
   "metadata": {},
   "outputs": [
    {
     "name": "stdout",
     "output_type": "stream",
     "text": [
      "563\n",
      "9986\n"
     ]
    }
   ],
   "source": [
    "#Q5\n",
    "def reverseNumber(num):\n",
    "    stack = []\n",
    "\n",
    "    while num != 0:\n",
    "        digit = num % 10\n",
    "        stack.append(digit)\n",
    "        num = num // 10\n",
    "\n",
    "    reversedNum = 0\n",
    "    multiplier = 1\n",
    "    while stack:\n",
    "        digit = stack.pop()\n",
    "        reversedNum += digit * multiplier\n",
    "        multiplier *= 10\n",
    "\n",
    "    return reversedNum\n",
    "\n",
    "\n",
    "# Example 1\n",
    "num = 365\n",
    "reversedNum = reverseNumber(num)\n",
    "print(reversedNum)\n",
    "\n",
    "# Example 2\n",
    "num = 6899\n",
    "reversedNum = reverseNumber(num)\n",
    "print(reversedNum)\n"
   ]
  },
  {
   "cell_type": "code",
   "execution_count": 9,
   "id": "177bafbc",
   "metadata": {},
   "outputs": [
    {
     "name": "stdout",
     "output_type": "stream",
     "text": [
      "3 2 1 4 5 "
     ]
    }
   ],
   "source": [
    "#Q6\n",
    "from queue import Queue\n",
    "\n",
    "def reverseKElements(queue, k):\n",
    "    if k <= 0 or k > queue.qsize():\n",
    "        return\n",
    "    \n",
    "    stack = []\n",
    "    \n",
    "    for i in range(k):\n",
    "        stack.append(queue.get())\n",
    "    \n",
    "    while stack:\n",
    "        queue.put(stack.pop())\n",
    "    \n",
    "    for i in range(queue.qsize() - k):\n",
    "        queue.put(queue.get())\n",
    "\n",
    "        \n",
    "queue = Queue()\n",
    "queue.put(1)\n",
    "queue.put(2)\n",
    "queue.put(3)\n",
    "queue.put(4)\n",
    "queue.put(5)\n",
    "\n",
    "k = 3\n",
    "\n",
    "reverseKElements(queue, k)\n",
    "\n",
    "while not queue.empty():\n",
    "    print(queue.get(), end=' ')\n"
   ]
  },
  {
   "cell_type": "code",
   "execution_count": 7,
   "id": "8ee2cf99",
   "metadata": {},
   "outputs": [
    {
     "name": "stdout",
     "output_type": "stream",
     "text": [
      "3\n",
      "0\n"
     ]
    }
   ],
   "source": [
    "#Q7\n",
    "def countWordsAfterDestruction(sequence):\n",
    "    words = sequence.split()\n",
    "    stack = []\n",
    "\n",
    "    for word in words:\n",
    "        if len(stack) == 0:\n",
    "            stack.append(word)\n",
    "        elif word == stack[-1]:\n",
    "            stack.pop()\n",
    "        else:\n",
    "            stack.append(word)\n",
    "\n",
    "    return len(stack)\n",
    "\n",
    "\n",
    "sequence1 = \"ab aa aa bcd ab\"\n",
    "result1 = countWordsAfterDestruction(sequence1)\n",
    "print(result1) \n",
    "\n",
    "sequence2 = \"tom jerry jerry tom\"\n",
    "result2 = countWordsAfterDestruction(sequence2)\n",
    "print(result2)  \n"
   ]
  },
  {
   "cell_type": "code",
   "execution_count": 8,
   "id": "ea33e547",
   "metadata": {},
   "outputs": [
    {
     "name": "stdout",
     "output_type": "stream",
     "text": [
      "1\n",
      "4\n",
      "1\n"
     ]
    }
   ],
   "source": [
    "#Q8\n",
    "def maxAbsoluteDifference(arr):\n",
    "    n = len(arr)\n",
    "    leftSmaller = []\n",
    "    rightSmaller = []\n",
    "    LS = [0] * n\n",
    "    RS = [0] * n\n",
    "\n",
    "    for i in range(n):\n",
    "        while leftSmaller and leftSmaller[-1] >= arr[i]:\n",
    "            leftSmaller.pop()\n",
    "        if not leftSmaller:\n",
    "            LS[i] = 0\n",
    "        else:\n",
    "            LS[i] = leftSmaller[-1]\n",
    "        leftSmaller.append(arr[i])\n",
    "\n",
    "    for i in range(n - 1, -1, -1):\n",
    "        while rightSmaller and rightSmaller[-1] >= arr[i]:\n",
    "            rightSmaller.pop()\n",
    "        if not rightSmaller:\n",
    "            RS[i] = 0\n",
    "        else:\n",
    "            RS[i] = rightSmaller[-1]\n",
    "        rightSmaller.append(arr[i])\n",
    "\n",
    "    maxDiff = 0\n",
    "    for i in range(n):\n",
    "        diff = abs(LS[i] - RS[i])\n",
    "        maxDiff = max(maxDiff, diff)\n",
    "\n",
    "    return maxDiff\n",
    "\n",
    "\n",
    "\n",
    "arr1 = [2, 1, 8]\n",
    "result1 = maxAbsoluteDifference(arr1)\n",
    "print(result1) \n",
    "\n",
    "arr2 = [2, 4, 8, 7, 7, 9, 3]\n",
    "result2 = maxAbsoluteDifference(arr2)\n",
    "print(result2) \n",
    "\n",
    "arr3 = [5, 1, 9, 2, 5, 1, 7]\n",
    "result3 = maxAbsoluteDifference(arr3)\n",
    "print(result3) \n",
    "\n"
   ]
  },
  {
   "cell_type": "code",
   "execution_count": null,
   "id": "ee63e7e1",
   "metadata": {},
   "outputs": [],
   "source": []
  }
 ],
 "metadata": {
  "kernelspec": {
   "display_name": "Python 3 (ipykernel)",
   "language": "python",
   "name": "python3"
  },
  "language_info": {
   "codemirror_mode": {
    "name": "ipython",
    "version": 3
   },
   "file_extension": ".py",
   "mimetype": "text/x-python",
   "name": "python",
   "nbconvert_exporter": "python",
   "pygments_lexer": "ipython3",
   "version": "3.10.6"
  }
 },
 "nbformat": 4,
 "nbformat_minor": 5
}
