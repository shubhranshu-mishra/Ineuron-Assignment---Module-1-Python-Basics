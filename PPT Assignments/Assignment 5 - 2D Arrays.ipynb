{
 "cells": [
  {
   "cell_type": "code",
   "execution_count": 1,
   "id": "7550b0f6",
   "metadata": {},
   "outputs": [
    {
     "name": "stdout",
     "output_type": "stream",
     "text": [
      "[[1, 2], [3, 4]]\n"
     ]
    }
   ],
   "source": [
    "#Q1\n",
    "def convert_to_2d_array(original, m, n):\n",
    "    if m * n != len(original):\n",
    "        return [] \n",
    "\n",
    "    result = []\n",
    "    for i in range(m):\n",
    "        row = original[i * n : (i + 1) * n]\n",
    "        result.append(row)\n",
    "\n",
    "    return result\n",
    "\n",
    "\n",
    "original = [1, 2, 3, 4]\n",
    "m = 2\n",
    "n = 2\n",
    "result = convert_to_2d_array(original, m, n)\n",
    "print(result)\n"
   ]
  },
  {
   "cell_type": "code",
   "execution_count": 2,
   "id": "f4116829",
   "metadata": {},
   "outputs": [
    {
     "name": "stdout",
     "output_type": "stream",
     "text": [
      "2\n"
     ]
    }
   ],
   "source": [
    "#Q2\n",
    "def numCompleteRows(n):\n",
    "    k = 0\n",
    "    while (k * (k + 1)) / 2 <= n:\n",
    "        k += 1\n",
    "    return k - 1\n",
    "\n",
    "print(numCompleteRows(5))\n"
   ]
  },
  {
   "cell_type": "code",
   "execution_count": 3,
   "id": "35a9539a",
   "metadata": {},
   "outputs": [
    {
     "name": "stdout",
     "output_type": "stream",
     "text": [
      "[0, 1, 9, 16, 100]\n"
     ]
    }
   ],
   "source": [
    "#Q3\n",
    "def sortedSquares(nums):\n",
    "    left = 0\n",
    "    right = len(nums) - 1\n",
    "    squares = []\n",
    "\n",
    "    while left <= right:\n",
    "        if abs(nums[left]) > abs(nums[right]):\n",
    "            squares.append(nums[left] ** 2)\n",
    "            left += 1\n",
    "        else:\n",
    "            squares.append(nums[right] ** 2)\n",
    "            right -= 1\n",
    "\n",
    "    squares.reverse()\n",
    "    return squares\n",
    "\n",
    "\n",
    "print(sortedSquares([-4, -1, 0, 3, 10]))\n"
   ]
  },
  {
   "cell_type": "code",
   "execution_count": 4,
   "id": "cd2f5e59",
   "metadata": {},
   "outputs": [
    {
     "name": "stdout",
     "output_type": "stream",
     "text": [
      "[[1, 3], [4, 6]]\n"
     ]
    }
   ],
   "source": [
    "#Q4\n",
    "def findDisappearedNumbers(nums1, nums2):\n",
    "    set1 = set(nums1)\n",
    "    set2 = set(nums2)\n",
    "    answer1 = [num for num in set1 if num not in set2]\n",
    "    answer2 = [num for num in set2 if num not in set1]\n",
    "    return [answer1, answer2]\n",
    "\n",
    "\n",
    "print(findDisappearedNumbers([1, 2, 3], [2, 4, 6]))\n"
   ]
  },
  {
   "cell_type": "code",
   "execution_count": 5,
   "id": "ce131880",
   "metadata": {},
   "outputs": [
    {
     "name": "stdout",
     "output_type": "stream",
     "text": [
      "2\n"
     ]
    }
   ],
   "source": [
    "#Q5\n",
    "def findTheDistanceValue(arr1, arr2, d):\n",
    "    distance = 0\n",
    "    for num1 in arr1:\n",
    "        found = False\n",
    "        for num2 in arr2:\n",
    "            if abs(num1 - num2) <= d:\n",
    "                found = True\n",
    "                break\n",
    "        if not found:\n",
    "            distance += 1\n",
    "    return distance\n",
    "\n",
    "\n",
    "print(findTheDistanceValue([4, 5, 8], [10, 9, 1, 8], 2))\n"
   ]
  },
  {
   "cell_type": "code",
   "execution_count": 6,
   "id": "22355a50",
   "metadata": {},
   "outputs": [
    {
     "name": "stdout",
     "output_type": "stream",
     "text": [
      "[2, 3]\n"
     ]
    }
   ],
   "source": [
    "#Q6\n",
    "def findDuplicates(nums):\n",
    "    duplicates = []\n",
    "\n",
    "    for num in nums:\n",
    "        index = abs(num)\n",
    "        if nums[index - 1] > 0:\n",
    "            nums[index - 1] *= -1\n",
    "        else:\n",
    "            duplicates.append(index)\n",
    "\n",
    "    return duplicates\n",
    "\n",
    "\n",
    "print(findDuplicates([4, 3, 2, 7, 8, 2, 3, 1]))"
   ]
  },
  {
   "cell_type": "code",
   "execution_count": 7,
   "id": "7ae1dfbd",
   "metadata": {},
   "outputs": [
    {
     "name": "stdout",
     "output_type": "stream",
     "text": [
      "1\n"
     ]
    }
   ],
   "source": [
    "#Q7\n",
    "def findMin(nums):\n",
    "    left = 0\n",
    "    right = len(nums) - 1\n",
    "\n",
    "    while left < right:\n",
    "        mid = left + (right - left) // 2\n",
    "\n",
    "        if nums[mid] > nums[right]:\n",
    "            left = mid + 1\n",
    "        else:\n",
    "            right = mid\n",
    "\n",
    "    return nums[left]\n",
    "\n",
    "\n",
    "print(findMin([3, 4, 5, 1, 2]))"
   ]
  },
  {
   "cell_type": "code",
   "execution_count": 13,
   "id": "f248004f",
   "metadata": {},
   "outputs": [],
   "source": [
    "\n",
    "#Q8\n",
    "def findOriginalArray(changed):\n",
    "    counts = {}\n",
    "\n",
    "    for num in changed:\n",
    "        original = num // 2\n",
    "        if original not in counts:\n",
    "            counts[original] = 0\n",
    "        counts[original] += 1\n",
    "\n",
    "    original_array = []\n",
    "    for key in counts:\n",
    "        if counts[key] < 0 or counts[key] != 1:\n",
    "            return []\n",
    "        original_array.extend([key] * counts[key])\n",
    "\n",
    "    return original_array\n",
    "\n",
    "\n",
    "print(findOriginalArray([1, 3, 4, 2, 6, 8]))"
   ]
  }
 ],
 "metadata": {
  "kernelspec": {
   "display_name": "Python 3 (ipykernel)",
   "language": "python",
   "name": "python3"
  },
  "language_info": {
   "codemirror_mode": {
    "name": "ipython",
    "version": 3
   },
   "file_extension": ".py",
   "mimetype": "text/x-python",
   "name": "python",
   "nbconvert_exporter": "python",
   "pygments_lexer": "ipython3",
   "version": "3.9.12"
  }
 },
 "nbformat": 4,
 "nbformat_minor": 5
}
