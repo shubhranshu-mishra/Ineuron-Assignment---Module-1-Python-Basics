{
 "cells": [
  {
   "cell_type": "code",
   "execution_count": 1,
   "id": "607b4e76",
   "metadata": {},
   "outputs": [
    {
     "name": "stdout",
     "output_type": "stream",
     "text": [
      "True\n"
     ]
    }
   ],
   "source": [
    "#Q1\n",
    "def is_isomorphic(s, t):\n",
    "    if len(s) != len(t):\n",
    "        return False\n",
    "\n",
    "    s_to_t = {}\n",
    "    t_to_s = {}\n",
    "\n",
    "    for s_char, t_char in zip(s, t):\n",
    "        if s_char in s_to_t:\n",
    "            if s_to_t[s_char] != t_char:\n",
    "                return False\n",
    "        else:\n",
    "            s_to_t[s_char] = t_char\n",
    "\n",
    "        if t_char in t_to_s:\n",
    "            if t_to_s[t_char] != s_char:\n",
    "                return False\n",
    "        else:\n",
    "            t_to_s[t_char] = s_char\n",
    "\n",
    "    return True\n",
    "\n",
    "\n",
    "s = \"egg\"\n",
    "t = \"add\"\n",
    "print(is_isomorphic(s, t))\n"
   ]
  },
  {
   "cell_type": "code",
   "execution_count": 2,
   "id": "1562c6bb",
   "metadata": {},
   "outputs": [
    {
     "name": "stdout",
     "output_type": "stream",
     "text": [
      "True\n"
     ]
    }
   ],
   "source": [
    "#Q2\n",
    "def is_strobogrammatic(num):\n",
    "    left = 0\n",
    "    right = len(num) - 1\n",
    "    mapping = {'0': '0', '1': '1', '6': '9', '8': '8', '9': '6'}\n",
    "\n",
    "    while left <= right:\n",
    "        if num[left] not in mapping or mapping[num[left]] != num[right]:\n",
    "            return False\n",
    "        left += 1\n",
    "        right -= 1\n",
    "\n",
    "    return True\n",
    "\n",
    "\n",
    "\n",
    "num = \"69\"\n",
    "print(is_strobogrammatic(num))\n"
   ]
  },
  {
   "cell_type": "code",
   "execution_count": 3,
   "id": "4a4b6d89",
   "metadata": {},
   "outputs": [
    {
     "name": "stdout",
     "output_type": "stream",
     "text": [
      "134\n"
     ]
    }
   ],
   "source": [
    "#Q3\n",
    "def addStrings(num1, num2):\n",
    "    i = len(num1) - 1\n",
    "    j = len(num2) - 1\n",
    "    carry = 0\n",
    "    result = \"\"\n",
    "\n",
    "    while i >= 0 or j >= 0 or carry != 0:\n",
    "        digit1 = int(num1[i]) if i >= 0 else 0\n",
    "        digit2 = int(num2[j]) if j >= 0 else 0\n",
    "\n",
    "        current_sum = digit1 + digit2 + carry\n",
    "        result += str(current_sum % 10)\n",
    "        carry = current_sum // 10\n",
    "\n",
    "        i -= 1\n",
    "        j -= 1\n",
    "\n",
    "    return result[::-1]\n",
    "\n",
    "\n",
    "num1 = \"11\"\n",
    "num2 = \"123\"\n",
    "print(addStrings(num1, num2))\n"
   ]
  },
  {
   "cell_type": "code",
   "execution_count": 1,
   "id": "dc971655",
   "metadata": {},
   "outputs": [
    {
     "name": "stdout",
     "output_type": "stream",
     "text": [
      "s'teL ekat edoCteeL tsetnoc\n"
     ]
    }
   ],
   "source": [
    "#Q4\n",
    "def reverse_words(s):\n",
    "    words = s.split()\n",
    "\n",
    "    reversed_words = [word[::-1] for word in words]\n",
    "\n",
    "    result = \" \".join(reversed_words)\n",
    "\n",
    "    return result\n",
    "\n",
    "\n",
    "s = \"Let's take LeetCode contest\"\n",
    "print(reverse_words(s))\n"
   ]
  },
  {
   "cell_type": "code",
   "execution_count": 2,
   "id": "15277fe9",
   "metadata": {},
   "outputs": [
    {
     "name": "stdout",
     "output_type": "stream",
     "text": [
      "bacdfeg\n"
     ]
    }
   ],
   "source": [
    "#Q5\n",
    "def reverse_str(s, k):\n",
    "    chars = list(s)\n",
    "    n = len(chars)\n",
    "\n",
    "    for i in range(0, n, 2 * k):\n",
    "        chars[i:i+k] = reversed(chars[i:i+k])\n",
    "\n",
    "    return \"\".join(chars)\n",
    "\n",
    "\n",
    "s = \"abcdefg\"\n",
    "k = 2\n",
    "print(reverse_str(s, k))\n"
   ]
  },
  {
   "cell_type": "code",
   "execution_count": 3,
   "id": "aa1fb276",
   "metadata": {},
   "outputs": [
    {
     "name": "stdout",
     "output_type": "stream",
     "text": [
      "True\n"
     ]
    }
   ],
   "source": [
    "#Q6\n",
    "def rotate_string(s, goal):\n",
    "    if len(s) != len(goal):\n",
    "        return False\n",
    "\n",
    "    s_double = s + s\n",
    "\n",
    "    if goal in s_double:\n",
    "        return True\n",
    "    else:\n",
    "        return False\n",
    "\n",
    "    \n",
    "s = \"abcde\"\n",
    "goal = \"cdeab\"\n",
    "print(rotate_string(s, goal))\n"
   ]
  },
  {
   "cell_type": "code",
   "execution_count": 4,
   "id": "2ecf7b2e",
   "metadata": {},
   "outputs": [
    {
     "name": "stdout",
     "output_type": "stream",
     "text": [
      "True\n"
     ]
    }
   ],
   "source": [
    "#Q7\n",
    "def process_string(s):\n",
    "    processed = []\n",
    "    for char in s:\n",
    "        if char != '#':\n",
    "            processed.append(char)\n",
    "        elif processed:\n",
    "            processed.pop()\n",
    "    return processed\n",
    "\n",
    "\n",
    "def apply_backspaces(s):\n",
    "    if len(s) == 0:\n",
    "        return \"\"\n",
    "    elif s[-1] == '#':\n",
    "        return apply_backspaces(s[:-1])\n",
    "    else:\n",
    "        return s\n",
    "\n",
    "\n",
    "def backspace_compare(s, t):\n",
    "    s_processed = process_string(s)\n",
    "    t_processed = process_string(t)\n",
    "\n",
    "    s_backspaced = apply_backspaces(s_processed)\n",
    "    t_backspaced = apply_backspaces(t_processed)\n",
    "\n",
    "    return s_backspaced == t_backspaced\n",
    "\n",
    "\n",
    "s = \"ab#c\"\n",
    "t = \"ad#c\"\n",
    "print(backspace_compare(s, t))\n"
   ]
  },
  {
   "cell_type": "code",
   "execution_count": 5,
   "id": "83b99fb0",
   "metadata": {},
   "outputs": [
    {
     "name": "stdout",
     "output_type": "stream",
     "text": [
      "True\n"
     ]
    }
   ],
   "source": [
    "#Q8\n",
    "def checkStraightLine(coordinates):\n",
    "    if len(coordinates) <= 2:\n",
    "        return True\n",
    "\n",
    "    x0, y0 = coordinates[0]\n",
    "    x1, y1 = coordinates[1]\n",
    "    for i in range(2, len(coordinates)):\n",
    "        x, y = coordinates[i]\n",
    "        if (y1 - y0) * (x - x0) != (x1 - x0) * (y - y0):\n",
    "            return False\n",
    "\n",
    "    return True\n",
    "\n",
    "\n",
    "coordinates = [[1,2],[2,3],[3,4],[4,5],[5,6],[6,7]]\n",
    "print(checkStraightLine(coordinates))\n"
   ]
  }
 ],
 "metadata": {
  "kernelspec": {
   "display_name": "Python 3 (ipykernel)",
   "language": "python",
   "name": "python3"
  },
  "language_info": {
   "codemirror_mode": {
    "name": "ipython",
    "version": 3
   },
   "file_extension": ".py",
   "mimetype": "text/x-python",
   "name": "python",
   "nbconvert_exporter": "python",
   "pygments_lexer": "ipython3",
   "version": "3.9.12"
  }
 },
 "nbformat": 4,
 "nbformat_minor": 5
}
