{
 "cells": [
  {
   "cell_type": "code",
   "execution_count": 1,
   "id": "e812fdd6",
   "metadata": {},
   "outputs": [
    {
     "name": "stdout",
     "output_type": "stream",
     "text": [
      "[3, 4, 4, -1]\n",
      "[8, -1, 1, 3, -1]\n"
     ]
    }
   ],
   "source": [
    "#Q1\n",
    "def findNextGreater(N, arr):\n",
    "    stack = []\n",
    "    result = [-1] * N\n",
    "\n",
    "    for i in range(N - 1, -1, -1):\n",
    "        while stack and arr[i] >= stack[-1]:\n",
    "            stack.pop()\n",
    "\n",
    "        if stack:\n",
    "            result[i] = stack[-1]\n",
    "\n",
    "        stack.append(arr[i])\n",
    "\n",
    "    return result\n",
    "\n",
    "\n",
    "\n",
    "# Example 1\n",
    "N = 4\n",
    "arr = [1, 3, 2, 4]\n",
    "print(findNextGreater(N, arr))\n",
    "\n",
    "# Example 2\n",
    "N = 5\n",
    "arr = [6, 8, 0, 1, 3]\n",
    "print(findNextGreater(N, arr))\n"
   ]
  },
  {
   "cell_type": "code",
   "execution_count": 2,
   "id": "8dd4e8d0",
   "metadata": {},
   "outputs": [
    {
     "name": "stdout",
     "output_type": "stream",
     "text": [
      "[-1, 1, 1]\n",
      "[-1, 1, -1, 0, 3, 4]\n"
     ]
    }
   ],
   "source": [
    "#Q2\n",
    "def findNearestSmaller(n, a):\n",
    "    stack = []\n",
    "    result = [-1] * n\n",
    "\n",
    "    for i in range(n):\n",
    "        while stack and a[i] <= stack[-1]:\n",
    "            stack.pop()\n",
    "\n",
    "        if stack:\n",
    "            result[i] = stack[-1]\n",
    "\n",
    "        stack.append(a[i])\n",
    "\n",
    "    return result\n",
    "\n",
    "\n",
    "# Example 1\n",
    "n = 3\n",
    "a = [1, 6, 2]\n",
    "print(findNearestSmaller(n, a))\n",
    "\n",
    "# Example 2\n",
    "n = 6\n",
    "a = [1, 5, 0, 3, 4, 5]\n",
    "print(findNearestSmaller(n, a))\n"
   ]
  },
  {
   "cell_type": "code",
   "execution_count": 3,
   "id": "18b12dbc",
   "metadata": {},
   "outputs": [
    {
     "name": "stdout",
     "output_type": "stream",
     "text": [
      "2\n",
      "4\n",
      "2\n",
      "-1\n"
     ]
    }
   ],
   "source": [
    "#Q3\n",
    "from queue import Queue\n",
    "\n",
    "class Stack:\n",
    "    def __init__(self):\n",
    "        self.q1 = Queue()\n",
    "        self.q2 = Queue()\n",
    "\n",
    "    def push(self, x):\n",
    "        if self.q1.empty():\n",
    "            self.q1.put(x)\n",
    "        elif self.q2.empty():\n",
    "            self.q2.put(x)\n",
    "        else:\n",
    "            # Enqueue elements to non-empty queue\n",
    "            if not self.q1.empty():\n",
    "                self.q1.put(x)\n",
    "            else:\n",
    "                self.q2.put(x)\n",
    "\n",
    "    def pop(self):\n",
    "        if self.q1.empty() and self.q2.empty():\n",
    "            return -1\n",
    "\n",
    "        popped_element = None\n",
    "\n",
    "        if not self.q1.empty():\n",
    "            while self.q1.qsize() > 1:\n",
    "                self.q2.put(self.q1.get())\n",
    "            popped_element = self.q1.get()\n",
    "        else:\n",
    "            while self.q2.qsize() > 1:\n",
    "                self.q1.put(self.q2.get())\n",
    "            popped_element = self.q2.get()\n",
    "\n",
    "        return popped_element\n",
    "\n",
    "    \n",
    "    \n",
    "    \n",
    "# Example 1\n",
    "s = Stack()\n",
    "s.push(2)\n",
    "s.push(3)\n",
    "print(s.pop())  \n",
    "s.push(4)\n",
    "print(s.pop())  \n",
    "\n",
    "# Example 2\n",
    "s = Stack()\n",
    "s.push(2)\n",
    "print(s.pop()) \n",
    "print(s.pop())  \n",
    "s.push(3)\n"
   ]
  },
  {
   "cell_type": "code",
   "execution_count": 4,
   "id": "c84bf1d2",
   "metadata": {},
   "outputs": [
    {
     "name": "stdout",
     "output_type": "stream",
     "text": [
      "[3, 2, 1, 7, 6]\n",
      "[4, 3, 9, 6]\n"
     ]
    }
   ],
   "source": [
    "#Q4\n",
    "def reverseStack(stack):\n",
    "    if len(stack) <= 1:\n",
    "        return stack\n",
    "\n",
    "    top = stack.pop()\n",
    "    reversedStack = reverseStack(stack)\n",
    "    reversedStack.append(top)\n",
    "    return reversedStack\n",
    "\n",
    "\n",
    "# Example 1\n",
    "stack = [3, 2, 1, 7, 6]\n",
    "reversedStack = reverseStack(stack)\n",
    "print(reversedStack)\n",
    "\n",
    "# Example 2\n",
    "stack = [4, 3, 9, 6]\n",
    "reversedStack = reverseStack(stack)\n",
    "print(reversedStack)\n"
   ]
  },
  {
   "cell_type": "code",
   "execution_count": 5,
   "id": "c60bbcfd",
   "metadata": {},
   "outputs": [
    {
     "name": "stdout",
     "output_type": "stream",
     "text": [
      "skeeGrofskeeG\n"
     ]
    }
   ],
   "source": [
    "#Q5\n",
    "def reverseString(S):\n",
    "    stack = []\n",
    "    for char in S:\n",
    "        stack.append(char)\n",
    "\n",
    "    reversedString = \"\"\n",
    "    while stack:\n",
    "        reversedString += stack.pop()\n",
    "\n",
    "    return reversedString\n",
    "\n",
    "\n",
    "S = \"GeeksforGeeks\"\n",
    "reversedString = reverseString(S)\n",
    "print(reversedString)\n"
   ]
  },
  {
   "cell_type": "code",
   "execution_count": 6,
   "id": "ac2e644b",
   "metadata": {},
   "outputs": [
    {
     "name": "stdout",
     "output_type": "stream",
     "text": [
      "-4\n",
      "-3\n"
     ]
    }
   ],
   "source": [
    "#Q6\n",
    "def evaluatePostfix(S):\n",
    "    stack = []\n",
    "\n",
    "    for ch in S:\n",
    "        if ch.isdigit():\n",
    "            stack.append(int(ch))\n",
    "        else:\n",
    "            op2 = stack.pop()\n",
    "            op1 = stack.pop()\n",
    "\n",
    "            if ch == '+':\n",
    "                result = op1 + op2\n",
    "            elif ch == '-':\n",
    "                result = op1 - op2\n",
    "            elif ch == '*':\n",
    "                result = op1 * op2\n",
    "            elif ch == '/':\n",
    "                result = op1 / op2\n",
    "\n",
    "            stack.append(result)\n",
    "\n",
    "    return stack.pop()\n",
    "\n",
    "\n",
    "# Example 1\n",
    "S = \"231*+9-\"\n",
    "result = evaluatePostfix(S)\n",
    "print(result)\n",
    "\n",
    "# Example 2\n",
    "S = \"123+*8-\"\n",
    "result = evaluatePostfix(S)\n",
    "print(result)\n"
   ]
  },
  {
   "cell_type": "code",
   "execution_count": 7,
   "id": "5906434d",
   "metadata": {},
   "outputs": [
    {
     "name": "stdout",
     "output_type": "stream",
     "text": [
      "-3\n",
      "0\n",
      "-2\n"
     ]
    }
   ],
   "source": [
    "#Q7\n",
    "class MinStack:\n",
    "    def __init__(self):\n",
    "        self.stack = []\n",
    "        self.minStack = []\n",
    "\n",
    "    def push(self, val):\n",
    "        self.stack.append(val)\n",
    "        if not self.minStack or val <= self.minStack[-1]:\n",
    "            self.minStack.append(val)\n",
    "\n",
    "    def pop(self):\n",
    "        popped = self.stack.pop()\n",
    "        if popped == self.minStack[-1]:\n",
    "            self.minStack.pop()\n",
    "\n",
    "    def top(self):\n",
    "        return self.stack[-1]\n",
    "\n",
    "    def getMin(self):\n",
    "        return self.minStack[-1]\n",
    "\n",
    "    \n",
    "minStack = MinStack()\n",
    "minStack.push(-2)\n",
    "minStack.push(0)\n",
    "minStack.push(-3)\n",
    "print(minStack.getMin()) \n",
    "minStack.pop()\n",
    "print(minStack.top())     \n",
    "print(minStack.getMin())  "
   ]
  },
  {
   "cell_type": "code",
   "execution_count": 8,
   "id": "8cabf495",
   "metadata": {},
   "outputs": [
    {
     "name": "stdout",
     "output_type": "stream",
     "text": [
      "6\n",
      "9\n"
     ]
    }
   ],
   "source": [
    "#Q8\n",
    "def trap(height):\n",
    "    left = 0\n",
    "    right = len(height) - 1\n",
    "    leftMax = 0\n",
    "    rightMax = 0\n",
    "    water = 0\n",
    "\n",
    "    while left <= right:\n",
    "        if height[left] <= height[right]:\n",
    "            if height[left] > leftMax:\n",
    "                leftMax = height[left]\n",
    "            else:\n",
    "                water += leftMax - height[left]\n",
    "            left += 1\n",
    "        else:\n",
    "            if height[right] > rightMax:\n",
    "                rightMax = height[right]\n",
    "            else:\n",
    "                water += rightMax - height[right]\n",
    "            right -= 1\n",
    "\n",
    "    return water\n",
    "\n",
    "\n",
    "# Example 1\n",
    "height = [0, 1, 0, 2, 1, 0, 1, 3, 2, 1, 2, 1]\n",
    "water = trap(height)\n",
    "print(water)\n",
    "\n",
    "# Example 2\n",
    "height = [4, 2, 0, 3, 2, 5]\n",
    "water = trap(height)\n",
    "print(water)\n"
   ]
  },
  {
   "cell_type": "code",
   "execution_count": null,
   "id": "8d0c7160",
   "metadata": {},
   "outputs": [],
   "source": []
  }
 ],
 "metadata": {
  "kernelspec": {
   "display_name": "Python 3 (ipykernel)",
   "language": "python",
   "name": "python3"
  },
  "language_info": {
   "codemirror_mode": {
    "name": "ipython",
    "version": 3
   },
   "file_extension": ".py",
   "mimetype": "text/x-python",
   "name": "python",
   "nbconvert_exporter": "python",
   "pygments_lexer": "ipython3",
   "version": "3.9.12"
  }
 },
 "nbformat": 4,
 "nbformat_minor": 5
}
