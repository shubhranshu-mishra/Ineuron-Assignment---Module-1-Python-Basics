{
 "cells": [
  {
   "cell_type": "code",
   "execution_count": 1,
   "id": "aa149928",
   "metadata": {},
   "outputs": [
    {
     "name": "stdout",
     "output_type": "stream",
     "text": [
      "True\n",
      "False\n",
      "False\n"
     ]
    }
   ],
   "source": [
    "#Q1\n",
    "def isPowerOfThree(n):\n",
    "    if n <= 0:\n",
    "        return False\n",
    "\n",
    "    while n % 3 == 0:\n",
    "        n = n // 3\n",
    "\n",
    "    return n == 1\n",
    "\n",
    "\n",
    "print(isPowerOfThree(27)) \n",
    "print(isPowerOfThree(0))  \n",
    "print(isPowerOfThree(-1)) \n"
   ]
  },
  {
   "cell_type": "code",
   "execution_count": 2,
   "id": "46babe86",
   "metadata": {},
   "outputs": [
    {
     "name": "stdout",
     "output_type": "stream",
     "text": [
      "2\n",
      "1\n"
     ]
    }
   ],
   "source": [
    "#Q2\n",
    "def lastRemaining(n):\n",
    "    if n == 1:\n",
    "        return 1\n",
    "    else:\n",
    "        if n % 2 == 1:\n",
    "            return 2 * lastRemaining(n // 2)\n",
    "        else:\n",
    "            return 2 * lastRemaining(n // 2) - 1\n",
    "\n",
    "\n",
    "        \n",
    "print(lastRemaining(9))  # 6\n",
    "print(lastRemaining(1))  # 1\n"
   ]
  },
  {
   "cell_type": "code",
   "execution_count": 3,
   "id": "7003f6bb",
   "metadata": {},
   "outputs": [
    {
     "name": "stdout",
     "output_type": "stream",
     "text": [
      "abc\n",
      "ab\n",
      "ac\n",
      "a\n",
      "bc\n",
      "b\n",
      "c\n",
      "\n"
     ]
    }
   ],
   "source": [
    "#Q3\n",
    "def printSubsets(set, subset, index):\n",
    "    if index == len(set):\n",
    "        print(subset)\n",
    "        return\n",
    "\n",
    "    printSubsets(set, subset + set[index], index + 1)\n",
    "\n",
    "    printSubsets(set, subset, index + 1)\n",
    "\n",
    "\n",
    "\n",
    "set = \"abc\"\n",
    "printSubsets(set, \"\", 0)\n"
   ]
  },
  {
   "cell_type": "code",
   "execution_count": 4,
   "id": "9261d654",
   "metadata": {},
   "outputs": [
    {
     "name": "stdout",
     "output_type": "stream",
     "text": [
      "Length: 4\n"
     ]
    }
   ],
   "source": [
    "#Q4\n",
    "def calculateLength(str):\n",
    "    if str == \"\":\n",
    "        return 0\n",
    "\n",
    "    return 1 + calculateLength(str[1:])\n",
    "\n",
    "\n",
    "\n",
    "str = \"abcd\"\n",
    "print(\"Length:\", calculateLength(str))\n"
   ]
  },
  {
   "cell_type": "code",
   "execution_count": 5,
   "id": "c53b6b5c",
   "metadata": {},
   "outputs": [
    {
     "name": "stdout",
     "output_type": "stream",
     "text": [
      "Count: 5\n"
     ]
    }
   ],
   "source": [
    "#Q5\n",
    "def countSubstrings(S):\n",
    "    count = 0\n",
    "    n = len(S)\n",
    "\n",
    "    for i in range(n):\n",
    "        j = i\n",
    "        while j < n:\n",
    "            if S[i] == S[j]:\n",
    "                count += 1\n",
    "                j += 1\n",
    "            else:\n",
    "                break\n",
    "\n",
    "    return count\n",
    "\n",
    "\n",
    "\n",
    "S = \"abcab\"\n",
    "print(\"Count:\", countSubstrings(S))\n"
   ]
  },
  {
   "cell_type": "code",
   "execution_count": 6,
   "id": "d92866cc",
   "metadata": {},
   "outputs": [
    {
     "name": "stdout",
     "output_type": "stream",
     "text": [
      "Move disk 1 from rod 1 to rod 2\n",
      "Move disk 2 from rod 1 to rod 3\n",
      "Move disk 1 from rod 2 to rod 3\n",
      "Total moves: 3\n"
     ]
    }
   ],
   "source": [
    "#Q6\n",
    "def towerOfHanoi(n, source, destination, auxiliary):\n",
    "    if n == 1:\n",
    "        print(\"Move disk 1 from rod\", source, \"to rod\", destination)\n",
    "        return 1\n",
    "    \n",
    "    moves = 0\n",
    "\n",
    "    moves += towerOfHanoi(n - 1, source, auxiliary, destination)\n",
    "    print(\"Move disk\", n, \"from rod\", source, \"to rod\", destination)\n",
    "    moves += 1\n",
    "    moves += towerOfHanoi(n - 1, auxiliary, destination, source)\n",
    "\n",
    "    return moves\n",
    "\n",
    "\n",
    "\n",
    "N = 2\n",
    "total_moves = towerOfHanoi(N, 1, 3, 2)\n",
    "print(\"Total moves:\", total_moves)\n"
   ]
  },
  {
   "cell_type": "code",
   "execution_count": 9,
   "id": "4b82101a",
   "metadata": {},
   "outputs": [
    {
     "name": "stdout",
     "output_type": "stream",
     "text": [
      "Permutations of abb:\n",
      "abb abb bab bba bab bba \n"
     ]
    }
   ],
   "source": [
    "#Q7\n",
    "def permute(current_permutation, remaining_chars, permutations):\n",
    "    if len(remaining_chars) == 0:\n",
    "        permutations.append(current_permutation)\n",
    "        return\n",
    "\n",
    "    for i in range(len(remaining_chars)):\n",
    "        ch = remaining_chars[i]\n",
    "        permute(current_permutation + ch, remaining_chars[:i] + remaining_chars[i+1:], permutations)\n",
    "\n",
    "\n",
    "def printPermutations(str):\n",
    "    permutations = []\n",
    "    permute(\"\", str, permutations)\n",
    "\n",
    "    for permutation in permutations:\n",
    "        print(permutation, end=\" \")\n",
    "    print()\n",
    "\n",
    "\n",
    "\n",
    "string = \"abb\"\n",
    "print(\"Permutations of\", string + \":\")\n",
    "printPermutations(string)\n"
   ]
  },
  {
   "cell_type": "code",
   "execution_count": 8,
   "id": "69882aca",
   "metadata": {},
   "outputs": [
    {
     "name": "stdout",
     "output_type": "stream",
     "text": [
      "Total consonants: 12\n"
     ]
    }
   ],
   "source": [
    "#Q8\n",
    "def countConsonants(s):\n",
    "    count = 0\n",
    "    vowels = 'aeiou'\n",
    "\n",
    "    s = s.lower()\n",
    "\n",
    "    for ch in s:\n",
    "        if ch.isalpha() and ch not in vowels:\n",
    "            count += 1\n",
    "\n",
    "    return count\n",
    "\n",
    "\n",
    "string = \"geeksforgeeks portal\"\n",
    "result = countConsonants(string)\n",
    "print(\"Total consonants:\", result)\n"
   ]
  }
 ],
 "metadata": {
  "kernelspec": {
   "display_name": "Python 3 (ipykernel)",
   "language": "python",
   "name": "python3"
  },
  "language_info": {
   "codemirror_mode": {
    "name": "ipython",
    "version": 3
   },
   "file_extension": ".py",
   "mimetype": "text/x-python",
   "name": "python",
   "nbconvert_exporter": "python",
   "pygments_lexer": "ipython3",
   "version": "3.9.12"
  }
 },
 "nbformat": 4,
 "nbformat_minor": 5
}
