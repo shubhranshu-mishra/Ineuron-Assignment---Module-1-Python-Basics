{
 "cells": [
  {
   "cell_type": "code",
   "execution_count": 1,
   "id": "cf097dfc",
   "metadata": {},
   "outputs": [
    {
     "name": "stdout",
     "output_type": "stream",
     "text": [
      "231\n"
     ]
    }
   ],
   "source": [
    "#Q1\n",
    "def minimumDeleteSum(s1, s2):\n",
    "    m, n = len(s1), len(s2)\n",
    "    dp = [[0] * (n + 1) for _ in range(m + 1)]\n",
    "\n",
    " \n",
    "    for j in range(1, n + 1):\n",
    "        dp[0][j] = dp[0][j - 1] + ord(s2[j - 1])\n",
    "\n",
    " \n",
    "    for i in range(1, m + 1):\n",
    "        dp[i][0] = dp[i - 1][0] + ord(s1[i - 1])\n",
    "\n",
    "\n",
    "    for i in range(1, m + 1):\n",
    "        for j in range(1, n + 1):\n",
    "            if s1[i - 1] == s2[j - 1]:\n",
    "                dp[i][j] = dp[i - 1][j - 1]\n",
    "            else:\n",
    "                dp[i][j] = min(\n",
    "                    dp[i - 1][j] + ord(s1[i - 1]), \n",
    "                    dp[i][j - 1] + ord(s2[j - 1])  \n",
    "                )\n",
    "\n",
    "    return dp[m][n]\n",
    "\n",
    "\n",
    "s1 = \"sea\"\n",
    "s2 = \"eat\"\n",
    "print(minimumDeleteSum(s1, s2))\n"
   ]
  },
  {
   "cell_type": "code",
   "execution_count": 2,
   "id": "b0d19089",
   "metadata": {},
   "outputs": [
    {
     "name": "stdout",
     "output_type": "stream",
     "text": [
      "True\n"
     ]
    }
   ],
   "source": [
    "#Q2\n",
    "def isValid(s):\n",
    "    stack = []\n",
    "    count = 0\n",
    "\n",
    "    for char in s:\n",
    "        if char == '(':\n",
    "            stack.append(char)\n",
    "        elif char == '*':\n",
    "            count += 1\n",
    "        elif char == ')':\n",
    "            if stack:\n",
    "                stack.pop()\n",
    "            elif count:\n",
    "                count -= 1\n",
    "            else:\n",
    "                return False\n",
    "\n",
    "    while stack and count:\n",
    "        if stack.pop() != '(':\n",
    "            count -= 1\n",
    "\n",
    "    return not stack\n",
    "\n",
    "\n",
    "\n",
    "s = \"()\"\n",
    "print(isValid(s))\n"
   ]
  },
  {
   "cell_type": "code",
   "execution_count": 3,
   "id": "8f681694",
   "metadata": {},
   "outputs": [
    {
     "name": "stdout",
     "output_type": "stream",
     "text": [
      "2\n"
     ]
    }
   ],
   "source": [
    "#Q3\n",
    "def minDistance(word1, word2):\n",
    "    m, n = len(word1), len(word2)\n",
    "\n",
    " \n",
    "    dp = [[0] * (n + 1) for _ in range(m + 1)]\n",
    "\n",
    " \n",
    "    for j in range(1, n + 1):\n",
    "        dp[0][j] = dp[0][j - 1] + 1\n",
    "\n",
    "    \n",
    "    for i in range(1, m + 1):\n",
    "        dp[i][0] = dp[i - 1][0] + 1\n",
    "\n",
    "  \n",
    "    for i in range(1, m + 1):\n",
    "        for j in range(1, n + 1):\n",
    "            if word1[i - 1] == word2[j - 1]:\n",
    "                dp[i][j] = dp[i - 1][j - 1]\n",
    "            else:\n",
    "                dp[i][j] = min(\n",
    "                    dp[i - 1][j] + 1, \n",
    "                    dp[i][j - 1] + 1   \n",
    "                )\n",
    "\n",
    "    return dp[m][n]\n",
    "\n",
    "\n",
    "\n",
    "word1 = \"sea\"\n",
    "word2 = \"eat\"\n",
    "print(minDistance(word1, word2))\n"
   ]
  },
  {
   "cell_type": "code",
   "execution_count": 6,
   "id": "f7028d94",
   "metadata": {},
   "outputs": [
    {
     "name": "stdout",
     "output_type": "stream",
     "text": [
      "[4, 2, 3, 1, 6, 5]\n"
     ]
    }
   ],
   "source": [
    "#Q4\n",
    "class TreeNode:\n",
    "    def __init__(self, val=0, left=None, right=None):\n",
    "        self.val = val\n",
    "        self.left = left\n",
    "        self.right = right\n",
    "\n",
    "def str2tree(s):\n",
    "    def buildTree(string, start, end):\n",
    "        if start > end:\n",
    "            return None\n",
    "\n",
    "        val = \"\"\n",
    "        i = start\n",
    "        while i <= end and (string[i].isdigit() or string[i] == '-'):\n",
    "            val += string[i]\n",
    "            i += 1\n",
    "\n",
    "        root = TreeNode(int(val))\n",
    "\n",
    "        left_start = i\n",
    "        left_end = i\n",
    "        count = 0\n",
    "\n",
    "        while i <= end:\n",
    "            if string[i] == '(':\n",
    "                count += 1\n",
    "            elif string[i] == ')':\n",
    "                count -= 1\n",
    "\n",
    "            if count == 0:\n",
    "                left_end = i\n",
    "                break\n",
    "\n",
    "            i += 1\n",
    "\n",
    "        root.left = buildTree(string, left_start + 1, left_end - 1)\n",
    "\n",
    "        root.right = buildTree(string, left_end + 2, end - 1)\n",
    "\n",
    "        return root\n",
    "\n",
    "    if not s:\n",
    "        return None\n",
    "\n",
    "    root = buildTree(s, 0, len(s) - 1)\n",
    "    return root\n",
    "\n",
    "\n",
    "s = \"4(2(3)(1))(6(5))\"\n",
    "tree = str2tree(s)\n",
    "\n",
    "def flattenTree(root):\n",
    "    result = []\n",
    "    if root:\n",
    "        result.append(root.val)\n",
    "        result += flattenTree(root.left)\n",
    "        result += flattenTree(root.right)\n",
    "    return result\n",
    "\n",
    "output = flattenTree(tree)\n",
    "print(output)\n"
   ]
  },
  {
   "cell_type": "code",
   "execution_count": 7,
   "id": "ae35dbbb",
   "metadata": {},
   "outputs": [
    {
     "name": "stdout",
     "output_type": "stream",
     "text": [
      "6\n",
      "['a', '2', 'b', '2', 'c', '3']\n"
     ]
    }
   ],
   "source": [
    "#Q5\n",
    "def compress(chars):\n",
    "    read = 0\n",
    "    write = 0\n",
    "    count = 1\n",
    "\n",
    "    while read < len(chars):\n",
    "        if read + 1 < len(chars) and chars[read] == chars[read + 1]:\n",
    "            count += 1\n",
    "        else:\n",
    "            chars[write] = chars[read]\n",
    "            write += 1\n",
    "\n",
    "            if count > 1:\n",
    "                count_str = str(count)\n",
    "                for digit in count_str:\n",
    "                    chars[write] = digit\n",
    "                    write += 1\n",
    "\n",
    "            count = 1\n",
    "\n",
    "        read += 1\n",
    "\n",
    "    return write\n",
    "\n",
    "\n",
    "\n",
    "chars = [\"a\", \"a\", \"b\", \"b\", \"c\", \"c\", \"c\"]\n",
    "length = compress(chars)\n",
    "print(length)\n",
    "print(chars[:length])\n"
   ]
  },
  {
   "cell_type": "code",
   "execution_count": 8,
   "id": "71c20f33",
   "metadata": {},
   "outputs": [
    {
     "name": "stdout",
     "output_type": "stream",
     "text": [
      "[0, 6]\n"
     ]
    }
   ],
   "source": [
    "#Q6\n",
    "from collections import Counter\n",
    "\n",
    "def findAnagrams(s, p):\n",
    "    result = []\n",
    "    p_freq = Counter(p)\n",
    "    window_freq = Counter(s[:len(p)])\n",
    "\n",
    "    if window_freq == p_freq:\n",
    "        result.append(0)\n",
    "\n",
    "    for i in range(1, len(s) - len(p) + 1):\n",
    "        left_char = s[i - 1]\n",
    "        right_char = s[i + len(p) - 1]\n",
    "\n",
    "        window_freq[left_char] -= 1\n",
    "        if window_freq[left_char] == 0:\n",
    "            del window_freq[left_char]\n",
    "        window_freq[right_char] += 1\n",
    "\n",
    "        if window_freq == p_freq:\n",
    "            result.append(i)\n",
    "\n",
    "    return result\n",
    "\n",
    "\n",
    "\n",
    "s = \"cbaebabacd\"\n",
    "p = \"abc\"\n",
    "print(findAnagrams(s, p))\n"
   ]
  },
  {
   "cell_type": "code",
   "execution_count": 9,
   "id": "4fa341a6",
   "metadata": {},
   "outputs": [
    {
     "name": "stdout",
     "output_type": "stream",
     "text": [
      "aaabcbc\n"
     ]
    }
   ],
   "source": [
    "#Q7\n",
    "def decodeString(s):\n",
    "    stack = []\n",
    "    current_string = \"\"\n",
    "    current_number = 0\n",
    "\n",
    "    for char in s:\n",
    "        if char.isdigit():\n",
    "            current_number = current_number * 10 + int(char)\n",
    "        elif char == \"[\":\n",
    "            stack.append(current_string)\n",
    "            stack.append(current_number)\n",
    "            current_string = \"\"\n",
    "            current_number = 0\n",
    "        elif char == \"]\":\n",
    "            repeat_count = stack.pop()\n",
    "            previous_string = stack.pop()\n",
    "            current_string = previous_string + current_string * repeat_count\n",
    "        else:\n",
    "            current_string += char\n",
    "\n",
    "    return current_string\n",
    "\n",
    "\n",
    "\n",
    "s = \"3[a]2[bc]\"\n",
    "print(decodeString(s))\n"
   ]
  },
  {
   "cell_type": "code",
   "execution_count": 10,
   "id": "28eeb059",
   "metadata": {},
   "outputs": [
    {
     "name": "stdout",
     "output_type": "stream",
     "text": [
      "True\n"
     ]
    }
   ],
   "source": [
    "#Q8\n",
    "def buddyStrings(s, goal):\n",
    "    if len(s) != len(goal):\n",
    "        return False\n",
    "\n",
    "    if s == goal:\n",
    "        char_freq = {}\n",
    "        for char in s:\n",
    "            if char in char_freq:\n",
    "                return True\n",
    "            char_freq[char] = 1\n",
    "        return False\n",
    "\n",
    "    positions = []\n",
    "    for i in range(len(s)):\n",
    "        if s[i] != goal[i]:\n",
    "            positions.append(i)\n",
    "\n",
    "    if len(positions) != 2:\n",
    "        return False\n",
    "\n",
    "    return s[positions[0]] == goal[positions[1]] and s[positions[1]] == goal[positions[0]]\n",
    "\n",
    "\n",
    "\n",
    "\n",
    "s = \"ab\"\n",
    "goal = \"ba\"\n",
    "print(buddyStrings(s, goal))\n"
   ]
  }
 ],
 "metadata": {
  "kernelspec": {
   "display_name": "Python 3 (ipykernel)",
   "language": "python",
   "name": "python3"
  },
  "language_info": {
   "codemirror_mode": {
    "name": "ipython",
    "version": 3
   },
   "file_extension": ".py",
   "mimetype": "text/x-python",
   "name": "python",
   "nbconvert_exporter": "python",
   "pygments_lexer": "ipython3",
   "version": "3.9.12"
  }
 },
 "nbformat": 4,
 "nbformat_minor": 5
}
